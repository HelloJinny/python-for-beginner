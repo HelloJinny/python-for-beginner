{
  "nbformat": 4,
  "nbformat_minor": 0,
  "metadata": {
    "colab": {
      "name": "Chapter09.ipynb",
      "provenance": [],
      "collapsed_sections": [],
      "authorship_tag": "ABX9TyMAS9g/ZnshdPPmYDKk/vsr",
      "include_colab_link": true
    },
    "kernelspec": {
      "name": "python3",
      "display_name": "Python 3"
    },
    "language_info": {
      "name": "python"
    }
  },
  "cells": [
    {
      "cell_type": "markdown",
      "metadata": {
        "id": "view-in-github",
        "colab_type": "text"
      },
      "source": [
        "<a href=\"https://colab.research.google.com/github/HelloJinny/python-for-beginner/blob/master/Chapter09.ipynb\" target=\"_parent\"><img src=\"https://colab.research.google.com/assets/colab-badge.svg\" alt=\"Open In Colab\"/></a>"
      ]
    },
    {
      "cell_type": "markdown",
      "metadata": {
        "id": "UM3itPRzVbXR"
      },
      "source": [
        "# SECTION02. 함수 기본"
      ]
    },
    {
      "cell_type": "markdown",
      "metadata": {
        "id": "SQmpBSznVg3X"
      },
      "source": [
        "### 1. 함수의 개념과 필요성"
      ]
    },
    {
      "cell_type": "code",
      "metadata": {
        "id": "jWGZKR81VZl5",
        "colab": {
          "base_uri": "https://localhost:8080/"
        },
        "outputId": "f0cbf1e8-26f8-4817-9299-8b029f57b768"
      },
      "source": [
        "# Code 09-01\n",
        "coffee = 0\n",
        "\n",
        "coffee = int(input(\"어떤 커피 드릴까요?(1:보통, 2:설탕, 3:블랙) \"))\n",
        "\n",
        "print()\n",
        "print(\"#1. 뜨거운 물을 준비한다.\");\n",
        "print(\"#2. 종이컵을 준비한다.\");\n",
        "\n",
        "if coffee == 1 :\n",
        "     print(\"#3. 보통커피를 탄다.\")\n",
        "elif coffee == 2 :\n",
        "     print(\"#3. 설탕커피를 탄다.\")\n",
        "elif coffee == 3 :\n",
        "     print(\"#3. 블랙커피를 탄다.\")\n",
        "else :\n",
        "     print(\"#3. 아무거나 탄다.\\n\")\n",
        "\n",
        "print(\"#4. 물을 붓는다.\");\n",
        "print(\"#5. 스푼으로 젓는다.\");\n",
        "print()\n",
        "print(\"손님~ 커피 여기 있습니다.\");"
      ],
      "execution_count": 1,
      "outputs": [
        {
          "output_type": "stream",
          "text": [
            "어떤 커피 드릴까요?(1:보통, 2:설탕, 3:블랙) 2\n",
            "\n",
            "#1. 뜨거운 물을 준비한다.\n",
            "#2. 종이컵을 준비한다.\n",
            "#3. 설탕커피를 탄다.\n",
            "#4. 물을 붓는다.\n",
            "#5. 스푼으로 젓는다.\n",
            "\n",
            "손님~ 커피 여기 있습니다.\n"
          ],
          "name": "stdout"
        }
      ]
    },
    {
      "cell_type": "code",
      "metadata": {
        "id": "X08Ikc74V3Ri",
        "colab": {
          "base_uri": "https://localhost:8080/"
        },
        "outputId": "9a686eac-85d7-4aab-aad5-3dbfe61a91de"
      },
      "source": [
        "# Code 09-02 (함수 개념 응용헤서 Code 09-01 코드 수정)\n",
        "## 전역 변수 선언 부분 ##\n",
        "coffee = 0\n",
        "\n",
        "## 함수 선언 부분 ##\n",
        "def coffee_machine(button) :\n",
        "     print()\n",
        "     print(\"#1. (자동으로) 뜨거운 물을 준비한다.\");\n",
        "     print(\"#2. (자동으로) 종이컵을 준비한다.\");\n",
        "\n",
        "     if button == 1 :\n",
        "          print(\"#3. (자동으로) 보통커피를 탄다.\")\n",
        "     elif button == 2 :\n",
        "          print(\"#3. (자동으로) 설탕커피를 탄다.\")\n",
        "     elif button == 3 :\n",
        "          print(\"#3. (자동으로) 블랙커피를 탄다.\")\n",
        "     else :\n",
        "          print(\"#3. (자동으로) 아무거나 탄다.\\n\")\n",
        "\n",
        "     print(\"#4. (자동으로) 물을 붓는다.\");\n",
        "     print(\"#5. (자동으로) 스푼으로 젓는다.\");\n",
        "     print()\n",
        "\n",
        "## 메인 코드 부분 ##\n",
        "coffee = int(input(\"어떤 커피 드릴까요?(1:보통, 2:설탕, 3:블랙)\"))\n",
        "coffee_machine(coffee)\n",
        "print(\"손님~ 커피 여기 있습니다.\");"
      ],
      "execution_count": 2,
      "outputs": [
        {
          "output_type": "stream",
          "text": [
            "어떤 커피 드릴까요?(1:보통, 2:설탕, 3:블랙)1\n",
            "\n",
            "#1. (자동으로) 뜨거운 물을 준비한다.\n",
            "#2. (자동으로) 종이컵을 준비한다.\n",
            "#3. (자동으로) 보통커피를 탄다.\n",
            "#4. (자동으로) 물을 붓는다.\n",
            "#5. (자동으로) 스푼으로 젓는다.\n",
            "\n",
            "손님~ 커피 여기 있습니다.\n"
          ],
          "name": "stdout"
        }
      ]
    },
    {
      "cell_type": "code",
      "metadata": {
        "id": "UJueF7d2V3Ue",
        "colab": {
          "base_uri": "https://localhost:8080/"
        },
        "outputId": "e1da369a-7080-4feb-b0b7-b6d89d8bed37"
      },
      "source": [
        "# Code 09-03 (Code 09-02)\n",
        "## 전역 변수 선언 부분 ##\n",
        "coffee = 0\n",
        "\n",
        "## 함수 선언 부분 ##\n",
        "def coffee_machine(button) :\n",
        "     print()\n",
        "     print(\"#1. (자동으로) 뜨거운 물을 준비한다.\");\n",
        "     print(\"#2. (자동으로) 종이컵을 준비한다.\");\n",
        "\n",
        "     if button == 1 :\n",
        "          print(\"#3. (자동으로) 보통커피를 탄다.\")\n",
        "     elif button == 2 :\n",
        "          print(\"#3. (자동으로) 설탕커피를 탄다.\")\n",
        "     elif button == 3 :\n",
        "          print(\"#3. (자동으로) 블랙커피를 탄다.\")\n",
        "     else :\n",
        "          print(\"#3. (자동으로) 아무거나 탄다.\\n\")\n",
        "\n",
        "     print(\"#4. (자동으로) 물을 붓는다.\");\n",
        "     print(\"#5. (자동으로) 스푼으로 젓는다.\");\n",
        "     print()\n",
        "\n",
        "## 메인 코드 부분 ##\n",
        "coffee = int(input(\"A손님, 어떤 커피 드릴까요?(1:보통, 2:설탕, 3:블랙)\"))\n",
        "coffee_machine(coffee)\n",
        "print(\"A손님~ 커피 여기 있습니다.\")\n",
        "\n",
        "coffee = int(input(\"B손님, 어떤 커피 드릴까요?(1:보통, 2:설탕, 3:블랙)\"))\n",
        "coffee_machine(coffee)\n",
        "print(\"B손님~ 커피 여기 있습니다.\")\n",
        "\n",
        "coffee = int(input(\"C손님, 어떤 커피 드릴까요?(1:보통, 2:설탕, 3:블랙)\"))\n",
        "coffee_machine(coffee)\n",
        "print(\"C손님~ 커피 여기 있습니다.\")"
      ],
      "execution_count": 3,
      "outputs": [
        {
          "output_type": "stream",
          "text": [
            "A손님, 어떤 커피 드릴까요?(1:보통, 2:설탕, 3:블랙)2\n",
            "\n",
            "#1. (자동으로) 뜨거운 물을 준비한다.\n",
            "#2. (자동으로) 종이컵을 준비한다.\n",
            "#3. (자동으로) 설탕커피를 탄다.\n",
            "#4. (자동으로) 물을 붓는다.\n",
            "#5. (자동으로) 스푼으로 젓는다.\n",
            "\n",
            "A손님~ 커피 여기 있습니다.\n",
            "B손님, 어떤 커피 드릴까요?(1:보통, 2:설탕, 3:블랙)3\n",
            "\n",
            "#1. (자동으로) 뜨거운 물을 준비한다.\n",
            "#2. (자동으로) 종이컵을 준비한다.\n",
            "#3. (자동으로) 블랙커피를 탄다.\n",
            "#4. (자동으로) 물을 붓는다.\n",
            "#5. (자동으로) 스푼으로 젓는다.\n",
            "\n",
            "B손님~ 커피 여기 있습니다.\n",
            "C손님, 어떤 커피 드릴까요?(1:보통, 2:설탕, 3:블랙)1\n",
            "\n",
            "#1. (자동으로) 뜨거운 물을 준비한다.\n",
            "#2. (자동으로) 종이컵을 준비한다.\n",
            "#3. (자동으로) 보통커피를 탄다.\n",
            "#4. (자동으로) 물을 붓는다.\n",
            "#5. (자동으로) 스푼으로 젓는다.\n",
            "\n",
            "C손님~ 커피 여기 있습니다.\n"
          ],
          "name": "stdout"
        }
      ]
    },
    {
      "cell_type": "code",
      "metadata": {
        "id": "qO_j8UwPV3Yq",
        "colab": {
          "base_uri": "https://localhost:8080/"
        },
        "outputId": "1881c905-78f9-4cb1-de47-09f17d3dde9c"
      },
      "source": [
        "# SELF STUDY 9-1\n",
        "## 전역 변수 선언 부분 ##\n",
        "coffee = 0\n",
        "\n",
        "## 함수 선언 부분 ##\n",
        "def coffee_machine(button) :\n",
        "     print()\n",
        "     print(\"#1. (자동으로) 뜨거운 물을 준비한다.\");\n",
        "     print(\"#2. (자동으로) 종이컵을 준비한다.\");\n",
        "     \n",
        "     if button == 1 :\n",
        "         print(\"#3. (자동으로) 아메리카노를 탄다.\")\n",
        "     elif button == 2 :\n",
        "         print(\"#3. (자동으로) 카페라떼를 탄다.\")\n",
        "     elif button == 3 :\n",
        "          print(\"#3. (자동으로) 카푸치노를 탄다.\")\n",
        "     elif button == 4 :\n",
        "          print(\"#3. (자동으로) 에스프레소를 탄다\")\n",
        "     else :\n",
        "          print(\"#3. (자동으로) 아무거나 탄다.\\n\")\n",
        "\n",
        "     print(\"#4. (자동으로) 물을 붓는다.\");\n",
        "     print(\"#5. (자동으로) 스푼으로 젓는다.\");\n",
        "     print()\n",
        "\n",
        "## 메인 코드 부분 ##\n",
        "coffee = int(input(\"로제씨, 어떤 커피 드릴까요?(1:아메리카노, 2:카페라떼, 3:카푸치노, 4:에스프레소 \"))\n",
        "coffee_machine(coffee)\n",
        "print(\"로제씨~ 커피 여기 있습니다.\")\n",
        "\n",
        "coffee = int(input(\"리사씨, 어떤 커피 드릴까요?(1::아메리카노, 2:카페라떼, 3:카푸치노, 4:에스프레소 \"))\n",
        "coffee_machine(coffee)\n",
        "print(\"리사씨~ 커피 여기 있습니다.\")\n",
        "\n",
        "coffee = int(input(\"지수씨, 어떤 커피 드릴까요?(1:아메리카노, 2:카페라떼, 3:카푸치노, 4:에스프레소 \"))\n",
        "coffee_machine(coffee)\n",
        "print(\"지수씨~ 커피 여기 있습니다.\")\n",
        "\n",
        "coffee = int(input(\"제니씨, 어떤 커피 드릴까요?(1:아메리카노, 2:카페라떼, 3:카푸치노, 4:에스프레소 \"))\n",
        "coffee_machine(coffee)\n",
        "print(\"제니씨~ 커피 여기 있습니다.\")"
      ],
      "execution_count": 5,
      "outputs": [
        {
          "output_type": "stream",
          "text": [
            "로제씨, 어떤 커피 드릴까요?(1:아메리카노, 2:카페라떼, 3:카푸치노, 4:에스프레소 4\n",
            "\n",
            "#1. (자동으로) 뜨거운 물을 준비한다.\n",
            "#2. (자동으로) 종이컵을 준비한다.\n",
            "#3. (자동으로) 에스프레소를 탄다\n",
            "#4. (자동으로) 물을 붓는다.\n",
            "#5. (자동으로) 스푼으로 젓는다.\n",
            "\n",
            "로제씨~ 커피 여기 있습니다.\n",
            "리사씨, 어떤 커피 드릴까요?(1::아메리카노, 2:카페라떼, 3:카푸치노, 4:에스프레소 2\n",
            "\n",
            "#1. (자동으로) 뜨거운 물을 준비한다.\n",
            "#2. (자동으로) 종이컵을 준비한다.\n",
            "#3. (자동으로) 카페라떼를 탄다.\n",
            "#4. (자동으로) 물을 붓는다.\n",
            "#5. (자동으로) 스푼으로 젓는다.\n",
            "\n",
            "리사씨~ 커피 여기 있습니다.\n",
            "지수씨, 어떤 커피 드릴까요?(1:아메리카노, 2:카페라떼, 3:카푸치노, 4:에스프레소 1\n",
            "\n",
            "#1. (자동으로) 뜨거운 물을 준비한다.\n",
            "#2. (자동으로) 종이컵을 준비한다.\n",
            "#3. (자동으로) 아메리카노를 탄다.\n",
            "#4. (자동으로) 물을 붓는다.\n",
            "#5. (자동으로) 스푼으로 젓는다.\n",
            "\n",
            "지수씨~ 커피 여기 있습니다.\n",
            "제니씨, 어떤 커피 드릴까요?(1:아메리카노, 2:카페라떼, 3:카푸치노, 4:에스프레소 3\n",
            "\n",
            "#1. (자동으로) 뜨거운 물을 준비한다.\n",
            "#2. (자동으로) 종이컵을 준비한다.\n",
            "#3. (자동으로) 카푸치노를 탄다.\n",
            "#4. (자동으로) 물을 붓는다.\n",
            "#5. (자동으로) 스푼으로 젓는다.\n",
            "\n",
            "제니씨~ 커피 여기 있습니다.\n"
          ],
          "name": "stdout"
        }
      ]
    },
    {
      "cell_type": "markdown",
      "metadata": {
        "id": "z0mxykyNWsx5"
      },
      "source": [
        "### 2. 함수의 형식과 활용"
      ]
    },
    {
      "cell_type": "code",
      "metadata": {
        "id": "smkU9Rf_V3cE",
        "colab": {
          "base_uri": "https://localhost:8080/"
        },
        "outputId": "aba480e5-65be-436d-9866-3c1f6048c0b2"
      },
      "source": [
        "# Code 09-04\n",
        "## 함수 선언 부분 ##\n",
        "def plus( v1, v2) :\n",
        "     result = 0\n",
        "     result = v1 + v2\n",
        "     return result\n",
        "\n",
        "## 전역 변수 선언 부분 ##\n",
        "hap = 0\n",
        "\n",
        "## 메인 코드 부분 ##\n",
        "hap = plus(100, 200)\n",
        "print(\"100과 200의 plus() 함수 결과는 %d\" % hap)"
      ],
      "execution_count": 6,
      "outputs": [
        {
          "output_type": "stream",
          "text": [
            "100과 200의 plus() 함수 결과는 300\n"
          ],
          "name": "stdout"
        }
      ]
    },
    {
      "cell_type": "code",
      "metadata": {
        "id": "0aWJLrmJV3e5",
        "colab": {
          "base_uri": "https://localhost:8080/"
        },
        "outputId": "e25bc0c0-7de5-4c09-c999-fd64ec42c795"
      },
      "source": [
        "# Code 09-05\n",
        "## 함수 선언 부분 ##\n",
        "def calc(v1, v2, op) :\n",
        "     result = 0\n",
        "     if op == '+' :\n",
        "          result = v1 + v2\n",
        "     elif op == '-' :\n",
        "          result = v1 - v2\n",
        "     elif op == '*' :\n",
        "          result = v1 * v2\n",
        "     elif op == '/' :\n",
        "          result = v1 / v2  \n",
        "\t\n",
        "     return result\n",
        "\n",
        "## 전역 변수 선언 부분 ##\n",
        "res = 0\n",
        "var1, var2, oper = 0, 0, \"\"\n",
        "\n",
        "## 메인 코드 부분 ##\n",
        "oper = input(\"계산을 입력하세요(+, -, *, /) : \")\n",
        "var1 = int(input(\"첫 번째 수를 입력하세요 : \"))\n",
        "var2 = int(input(\"두 번째 수를 입력하세요 : \"))\n",
        "\n",
        "res = calc(var1, var2, oper)\n",
        "\n",
        "print(\"## 계산기 : %d %s %d = %d\" % (var1, oper, var2, res))"
      ],
      "execution_count": 27,
      "outputs": [
        {
          "output_type": "stream",
          "text": [
            "계산을 입력하세요(+, -, *, /) : *\n",
            "첫 번째 수를 입력하세요 : 7\n",
            "두 번째 수를 입력하세요 : 8\n",
            "## 계산기 : 7 * 8 = 56\n"
          ],
          "name": "stdout"
        }
      ]
    },
    {
      "cell_type": "code",
      "metadata": {
        "colab": {
          "base_uri": "https://localhost:8080/"
        },
        "id": "5zWTZ_xFw-Rn",
        "outputId": "c01d5f09-cbd0-42be-842d-ffa0cc7c8c9b"
      },
      "source": [
        "# SELF STUDY 9-2\n",
        "## 함수 선언 부분 ##\n",
        "def calc(v1, v2, op) :\n",
        "     result = 0\n",
        "     if op == '+' :\n",
        "          result = v1 + v2\n",
        "     elif op == '-' :\n",
        "          result = v1 - v2\n",
        "     elif op == '*' :\n",
        "          result = v1 * v2\n",
        "     elif op == '/' :\n",
        "          result = v1 / v2  \n",
        "     elif op == '**' :\n",
        "          result = v1 ** v2 \n",
        "\t\n",
        "     return result\n",
        "\n",
        "## 전역 변수 선언 부분 ##\n",
        "res = 0\n",
        "var1, var2, oper = 0, 0, \"\"\n",
        "\n",
        "## 메인 코드 부분 ##\n",
        "var1 = int(input(\"첫 번째 수를 입력하세요 : \"))\n",
        "oper = input(\"계산을 입력하세요(+, -, *, /, **) : \")\n",
        "var2 = int(input(\"두 번째 수를 입력하세요 : \"))\n",
        "\n",
        "if var2 != 0 :\n",
        "    res = calc(var1, var2, oper)\n",
        "    print(\"## 계산기 : %d %s %d = %d\" % (var1, oper, var2, res))\n",
        "else :\n",
        "    print(\"0으로 나누면 안됩니다. ㅠㅠ\")"
      ],
      "execution_count": 31,
      "outputs": [
        {
          "output_type": "stream",
          "text": [
            "첫 번째 수를 입력하세요 : 2\n",
            "계산을 입력하세요(+, -, *, /, **) : **\n",
            "두 번째 수를 입력하세요 : 4\n",
            "## 계산기 : 2 ** 4 = 16\n"
          ],
          "name": "stdout"
        }
      ]
    },
    {
      "cell_type": "markdown",
      "metadata": {
        "id": "sv5lg1Uj6gT7"
      },
      "source": [
        "# SECTION 03. 지역 변수, 전역 변수"
      ]
    },
    {
      "cell_type": "markdown",
      "metadata": {
        "id": "9iLQN4FM6lLl"
      },
      "source": [
        "### 1. 지역 변수 (Local), 전역 변수 (Global)"
      ]
    },
    {
      "cell_type": "code",
      "metadata": {
        "id": "KLzvgKoFV3hq",
        "colab": {
          "base_uri": "https://localhost:8080/"
        },
        "outputId": "a3350ab2-01e1-4805-8a6f-c9d67ecc3ea0"
      },
      "source": [
        "# Code 09-06\n",
        "## 함수 선언 부분 ##\n",
        "def func1() :\n",
        "     a = 10 # 지역 변수\n",
        "     print(\"func1()에서 a값 %d\" % a)\n",
        "\n",
        "def func2() :\n",
        "     print(\"func2()에서 a값 %d\" % a)\n",
        "\t\n",
        "## 전역 변수 선언 부분 ##\n",
        "a = 20 # 전역 변수\n",
        "\n",
        "## 메인 코드 부분 ##\n",
        "func1()\n",
        "func2()"
      ],
      "execution_count": 32,
      "outputs": [
        {
          "output_type": "stream",
          "text": [
            "func1()에서 a값 10\n",
            "func2()에서 a값 20\n"
          ],
          "name": "stdout"
        }
      ]
    },
    {
      "cell_type": "markdown",
      "metadata": {
        "id": "N4HKp6P5EPpl"
      },
      "source": [
        "### 2. global 예약어"
      ]
    },
    {
      "cell_type": "code",
      "metadata": {
        "id": "1YN3oOgCV3kv",
        "colab": {
          "base_uri": "https://localhost:8080/"
        },
        "outputId": "8c437e37-a9d5-4828-add9-7ead25126539"
      },
      "source": [
        "# Code 09-07\n",
        "## 함수 선언 부분 ##\n",
        "def func1() :\n",
        "     global a # 이 함수 안에서 a는 전역 변수\n",
        "     a = 10\n",
        "     print(\"func1()에서 a값 %d\" % a)\n",
        "\n",
        "def func2() :\n",
        "     print(\"func2()에서 a값 %d\" % a)\n",
        "\n",
        "## 함수 변수 선언 부분 ##\n",
        "a = 20  # 전역 변수\n",
        "\n",
        "## 메인 코드 부분 ##\n",
        "func1()\n",
        "func2()"
      ],
      "execution_count": 33,
      "outputs": [
        {
          "output_type": "stream",
          "text": [
            "func1()에서 a값 10\n",
            "func2()에서 a값 10\n"
          ],
          "name": "stdout"
        }
      ]
    },
    {
      "cell_type": "markdown",
      "metadata": {
        "id": "Ll39V8pyEtsq"
      },
      "source": [
        "### SECTION04. 함수의 반환값과 매개변수변"
      ]
    },
    {
      "cell_type": "markdown",
      "metadata": {
        "id": "NnwZ6LfVGMsW"
      },
      "source": [
        "- 반환값이 있는 함수, 반환값이 업슨 함수"
      ]
    },
    {
      "cell_type": "code",
      "metadata": {
        "id": "-7PPUJCHV3ol",
        "colab": {
          "base_uri": "https://localhost:8080/"
        },
        "outputId": "b7c6c871-e97f-4ebe-8832-7277030b4cd4"
      },
      "source": [
        "# Code 09-08\n",
        "## 함수 선언 부분 ##\n",
        "def func1() :\n",
        "     result = 100\n",
        "     return result\n",
        "\n",
        "def func2() :\n",
        "     print(\"반환값이 없는 함수 실행\")\n",
        "\t\n",
        "## 전역 변수 선언 부분 ##\n",
        "hap = 0\n",
        "\n",
        "## 메인 코드 부분 ##\n",
        "hap = func1()\n",
        "print(\"func1()에서 돌려준 값 ==> %d\" % hap)\n",
        "func2()"
      ],
      "execution_count": 34,
      "outputs": [
        {
          "output_type": "stream",
          "text": [
            "func1()에서 돌려준 값 ==> 100\n",
            "반환값이 없는 함수 실행\n"
          ],
          "name": "stdout"
        }
      ]
    },
    {
      "cell_type": "markdown",
      "metadata": {
        "id": "b4MWm0RJGUAw"
      },
      "source": [
        "- 반환값이 여러 개인 함수"
      ]
    },
    {
      "cell_type": "code",
      "metadata": {
        "id": "TK5VePpMV3r9",
        "colab": {
          "base_uri": "https://localhost:8080/"
        },
        "outputId": "cfffcef2-8d4b-4e6c-d82c-785b3493fda6"
      },
      "source": [
        "# Code 09-09 (1)\n",
        "## 함수 선언 부분 ##\n",
        "def multi(v1, v2) :\n",
        "     retList=[] # 반환할 리스트\n",
        "     res1 = v1 + v2\n",
        "     res2 = v1 - v2\n",
        "     retList.append(res1)\n",
        "     retList.append(res2)\n",
        "     return retList\n",
        "\t\n",
        "## 전역 변수 선언 부분 ##\n",
        "myList = []\n",
        "hap, sub = 0, 0\n",
        "\n",
        "## 메인 코드 부분 ##\n",
        "myList = multi(100, 200)\n",
        "hap = myList[0]\n",
        "sub = myList[1]\n",
        "print(\"multi()에서 돌려준 값 ==> %d, %d\" % (hap, sub))"
      ],
      "execution_count": 39,
      "outputs": [
        {
          "output_type": "stream",
          "text": [
            "multi()에서 돌려준 값 ==> 300, -100\n"
          ],
          "name": "stdout"
        }
      ]
    },
    {
      "cell_type": "code",
      "metadata": {
        "id": "qWqzzJFPV3vD",
        "colab": {
          "base_uri": "https://localhost:8080/"
        },
        "outputId": "e4141792-651e-4685-82cd-3f613f640cff"
      },
      "source": [
        "# Code 09-09 (2)\n",
        "## 함수 선언 부분 ##\n",
        "def multi(v1, v2) :\n",
        "     res1 = v1 + v2\n",
        "     res2 = v1 - v2\n",
        "     return res1, res2\n",
        "\t\n",
        "## 전역 변수 선언 부분 ##\n",
        "myList = []\n",
        "hap, sub = 0, 0\n",
        "\n",
        "## 메인 코드 부분 ##\n",
        "hap, sub = multi(100, 200)\n",
        "print(\"multi()에서 돌려준 값 ==> %d, %d\" % (hap, sub))"
      ],
      "execution_count": 38,
      "outputs": [
        {
          "output_type": "stream",
          "text": [
            "multi()에서 돌려준 값 ==> 300, -100\n"
          ],
          "name": "stdout"
        }
      ]
    },
    {
      "cell_type": "markdown",
      "metadata": {
        "id": "fO0m0L7kGX_n"
      },
      "source": [
        "- pass 예약어"
      ]
    },
    {
      "cell_type": "code",
      "metadata": {
        "id": "KOE4osPjGc4d"
      },
      "source": [
        "if True : \n",
        "    pass\n",
        "else : \n",
        "    print('거짓이네요')"
      ],
      "execution_count": 43,
      "outputs": []
    },
    {
      "cell_type": "markdown",
      "metadata": {
        "id": "NEAAZ5PmGsxv"
      },
      "source": [
        "### 2. 함수의 매개변수 전달"
      ]
    },
    {
      "cell_type": "markdown",
      "metadata": {
        "id": "baGZxg-kGz1E"
      },
      "source": [
        "- 매개변수의 개수를 지정해 전달하는 방법"
      ]
    },
    {
      "cell_type": "code",
      "metadata": {
        "id": "ysMUSBVyV3yU",
        "colab": {
          "base_uri": "https://localhost:8080/"
        },
        "outputId": "6a922148-1f56-4c3e-af83-4c48b759295c"
      },
      "source": [
        "# Code 09-10\n",
        "## 함수 선언 부분 ##\n",
        "def para2_func(v1, v2) :\n",
        "     result = 0\n",
        "     result = v1 + v2\n",
        "     return result\n",
        "\n",
        "def para3_func(v1, v2, v3) :\n",
        "     result = 0\n",
        "     result = v1 + v2 + v3\n",
        "     return result\n",
        "\n",
        "## 전역 변수 선언 부분 ##\n",
        "hap = 0\n",
        "\n",
        "## 메인 코드 부분 ##\n",
        "hap = para2_func(10, 20)\n",
        "print(\"매개변수가 2개인 함수를 호출한 결과 ==> %d\" % hap)\n",
        "hap = para3_func(10, 20, 30)\n",
        "print(\"매개변수가 3개인 함수를 호출한 결과 ==> %d\" % hap)"
      ],
      "execution_count": 44,
      "outputs": [
        {
          "output_type": "stream",
          "text": [
            "매개변수가 2개인 함수를 호출한 결과 ==> 30\n",
            "매개변수가 3개인 함수를 호출한 결과 ==> 60\n"
          ],
          "name": "stdout"
        }
      ]
    },
    {
      "cell_type": "markdown",
      "metadata": {
        "id": "xSu5uToCG4bG"
      },
      "source": [
        "- 매개변수에 기본값을 설정해 놓고 전달하는 방법"
      ]
    },
    {
      "cell_type": "code",
      "metadata": {
        "id": "wfIrkGgF12sK",
        "colab": {
          "base_uri": "https://localhost:8080/"
        },
        "outputId": "75e85cc9-cd34-414c-9407-3b024b2af37b"
      },
      "source": [
        "# Code 09-11\n",
        "## 함수 선언 부분 ##\n",
        "def para_func(v1, v2, v3 = 0) :\n",
        "     result = 0\n",
        "     result = v1 + v2 + v3\n",
        "     return result\n",
        "\n",
        "## 전역 변수 선언 부분 ##\n",
        "hap = 0\n",
        "\n",
        "## 메인 코드 부분 ##\n",
        "hap = para_func(10, 20)\n",
        "print(\"매개변수가 2개인 함수를 호출한 결과 ==> %d\" % hap)\n",
        "hap = para_func(10, 20, 30)\n",
        "print(\"매개변수가 3개인 함수를 호출한 결과 ==> %d\" % hap)"
      ],
      "execution_count": 45,
      "outputs": [
        {
          "output_type": "stream",
          "text": [
            "매개변수가 2개인 함수를 호출한 결과 ==> 30\n",
            "매개변수가 3개인 함수를 호출한 결과 ==> 60\n"
          ],
          "name": "stdout"
        }
      ]
    },
    {
      "cell_type": "code",
      "metadata": {
        "id": "KQ0bfqj7HEyM"
      },
      "source": [
        "# SELF STUDY 9-3\n"
      ],
      "execution_count": null,
      "outputs": []
    },
    {
      "cell_type": "markdown",
      "metadata": {
        "id": "pir8K9CuHGIM"
      },
      "source": [
        "- 매개변수의 개수를 지정하지 않고 전달하는 방법"
      ]
    },
    {
      "cell_type": "code",
      "metadata": {
        "id": "KItYpGfY12xw",
        "colab": {
          "base_uri": "https://localhost:8080/"
        },
        "outputId": "360d429f-5029-49b7-eba1-8ac98602d34b"
      },
      "source": [
        "# Code 09-12\n",
        "## 함수 선언 부분 ##\n",
        "def para_func(*para) :\n",
        "     result = 0\n",
        "     for num in para :\n",
        "          result = result + num\n",
        "\n",
        "     return result\n",
        "\n",
        "## 전역 변수 선언 부분 ##\n",
        "hap = 0\n",
        "\n",
        "## 메인 코드 부분 ##\n",
        "hap = para_func(10, 20)\n",
        "print(\"매개변수가 2개인 함수를 호출한 결과 ==> %d\" % hap)\n",
        "hap = para_func(10, 20, 30)\n",
        "print(\"매개변수가 3개인 함수를 호출한 결과 ==> %d\" % hap)"
      ],
      "execution_count": 49,
      "outputs": [
        {
          "output_type": "stream",
          "text": [
            "매개변수가 2개인 함수를 호출한 결과 ==> 30\n",
            "매개변수가 3개인 함수를 호출한 결과 ==> 60\n"
          ],
          "name": "stdout"
        }
      ]
    },
    {
      "cell_type": "code",
      "metadata": {
        "id": "r6eZeAwZ123H",
        "colab": {
          "base_uri": "https://localhost:8080/"
        },
        "outputId": "530698fd-88b7-4f44-8d36-a9b40bce01c5"
      },
      "source": [
        "# Code 09-13\n",
        "import random\n",
        "\n",
        "## 함수 선언 부분 ##\n",
        "def getNumber() :\n",
        "     return random.randrange(1, 46)\n",
        "\n",
        "## 전역 변수 선언 부분 ##\n",
        "lotto = []\n",
        "num = 0\n",
        "\n",
        "## 메인 코드 부분 ##\n",
        "print(\"** 로또 추첨을 시작합니다. ** \\n\");\n",
        "\n",
        "while True :\n",
        "     num = getNumber()\n",
        "\n",
        "     if lotto.count(num) == 0 :\n",
        "          lotto.append(num)\n",
        "\n",
        "     if len(lotto) >= 6 :\n",
        "          break \n",
        "\n",
        "print(\"추첨된 로또 번호 ==>  \", end = '')\n",
        "lotto.sort()\n",
        "for i in range(0, 6) :\n",
        "     print(\"%d  \" % lotto[i], end = '')"
      ],
      "execution_count": 48,
      "outputs": [
        {
          "output_type": "stream",
          "text": [
            "** 로또 추첨을 시작합니다. ** \n",
            "\n",
            "추첨된 로또 번호 ==>  8  9  10  19  22  28  "
          ],
          "name": "stdout"
        }
      ]
    },
    {
      "cell_type": "markdown",
      "metadata": {
        "id": "DVb6G4mXJxYI"
      },
      "source": [
        "# SECTION05. 모듈"
      ]
    },
    {
      "cell_type": "code",
      "metadata": {
        "colab": {
          "base_uri": "https://localhost:8080/"
        },
        "id": "fFtE_XalLaLu",
        "outputId": "dd4d28a0-c14b-4405-a671-397cede876ad"
      },
      "source": [
        "import sys\n",
        "print(sys.builtin_module_names)"
      ],
      "execution_count": 54,
      "outputs": [
        {
          "output_type": "stream",
          "text": [
            "('_abc', '_ast', '_bisect', '_blake2', '_codecs', '_collections', '_datetime', '_elementtree', '_functools', '_heapq', '_imp', '_io', '_locale', '_md5', '_operator', '_pickle', '_posixsubprocess', '_random', '_sha1', '_sha256', '_sha3', '_sha512', '_signal', '_socket', '_sre', '_stat', '_string', '_struct', '_symtable', '_thread', '_tracemalloc', '_warnings', '_weakref', 'array', 'atexit', 'binascii', 'builtins', 'errno', 'faulthandler', 'fcntl', 'gc', 'grp', 'itertools', 'marshal', 'math', 'posix', 'pwd', 'pyexpat', 'select', 'spwd', 'sys', 'syslog', 'time', 'unicodedata', 'xxsubtype', 'zipimport', 'zlib')\n"
          ],
          "name": "stdout"
        }
      ]
    },
    {
      "cell_type": "code",
      "metadata": {
        "colab": {
          "base_uri": "https://localhost:8080/"
        },
        "id": "7rDP2RWWLaVB",
        "outputId": "c04a3bfb-c095-44b9-c7a3-55a42dd7d851"
      },
      "source": [
        "import math\n",
        "dir(math)"
      ],
      "execution_count": 55,
      "outputs": [
        {
          "output_type": "execute_result",
          "data": {
            "text/plain": [
              "['__doc__',\n",
              " '__loader__',\n",
              " '__name__',\n",
              " '__package__',\n",
              " '__spec__',\n",
              " 'acos',\n",
              " 'acosh',\n",
              " 'asin',\n",
              " 'asinh',\n",
              " 'atan',\n",
              " 'atan2',\n",
              " 'atanh',\n",
              " 'ceil',\n",
              " 'copysign',\n",
              " 'cos',\n",
              " 'cosh',\n",
              " 'degrees',\n",
              " 'e',\n",
              " 'erf',\n",
              " 'erfc',\n",
              " 'exp',\n",
              " 'expm1',\n",
              " 'fabs',\n",
              " 'factorial',\n",
              " 'floor',\n",
              " 'fmod',\n",
              " 'frexp',\n",
              " 'fsum',\n",
              " 'gamma',\n",
              " 'gcd',\n",
              " 'hypot',\n",
              " 'inf',\n",
              " 'isclose',\n",
              " 'isfinite',\n",
              " 'isinf',\n",
              " 'isnan',\n",
              " 'ldexp',\n",
              " 'lgamma',\n",
              " 'log',\n",
              " 'log10',\n",
              " 'log1p',\n",
              " 'log2',\n",
              " 'modf',\n",
              " 'nan',\n",
              " 'pi',\n",
              " 'pow',\n",
              " 'radians',\n",
              " 'remainder',\n",
              " 'sin',\n",
              " 'sinh',\n",
              " 'sqrt',\n",
              " 'tan',\n",
              " 'tanh',\n",
              " 'tau',\n",
              " 'trunc']"
            ]
          },
          "metadata": {
            "tags": []
          },
          "execution_count": 55
        }
      ]
    },
    {
      "cell_type": "markdown",
      "metadata": {
        "id": "SS5m1jCfQ9DF"
      },
      "source": [
        "### * 함수의 매개변수 전달 방법"
      ]
    },
    {
      "cell_type": "markdown",
      "metadata": {
        "id": "Ph3LbRBCRVLM"
      },
      "source": [
        "#### 1. 값에 의한 전달(Call By Value)\n",
        "\n",
        "- 값에 의한 전달은 일반 변수나 값을 전달할 때 함수에 동일한 크기의 별도의 메모리 공간이 확보되어 값이 복사되는 방식이다.\n"
      ]
    },
    {
      "cell_type": "code",
      "metadata": {
        "colab": {
          "base_uri": "https://localhost:8080/"
        },
        "id": "XUT3zrasRTHl",
        "outputId": "f6138833-2361-430f-f8c9-631a75669752"
      },
      "source": [
        "def func(p) : # p는 별도의 메모리 공간을 확보함\n",
        "    p = 222\n",
        "\n",
        "v = 111\n",
        "func(v)\n",
        "print(v)"
      ],
      "execution_count": 56,
      "outputs": [
        {
          "output_type": "stream",
          "text": [
            "111\n"
          ],
          "name": "stdout"
        }
      ]
    },
    {
      "cell_type": "markdown",
      "metadata": {
        "id": "CJ7jZINPRaC0"
      },
      "source": [
        "#### 2. 참조에 의한 전달(Call By Reference)\n",
        "- 참조에 의한 전달은 리스트(튜플, 딕셔너리, 세트도 해당)를 매개변수로 전달하므로 주소(Address)가 전달되어 메모리 공간이 공유되는 방식이다. 따라서 함수에서 리스트를 변경하면 메인 코드의 리스트도 변경된다."
      ]
    },
    {
      "cell_type": "code",
      "metadata": {
        "colab": {
          "base_uri": "https://localhost:8080/"
        },
        "id": "ZFgJP4GPRTQd",
        "outputId": "74490a11-295d-4e97-f30d-6ed32b220970"
      },
      "source": [
        "def func(p) : # 리스트 p는 리스트 v와 메모리를 공유함\n",
        "    p[0] = 222\n",
        "\n",
        "v = [111]\n",
        "func(v)\n",
        "print(v[0])"
      ],
      "execution_count": 59,
      "outputs": [
        {
          "output_type": "stream",
          "text": [
            "222\n"
          ],
          "name": "stdout"
        }
      ]
    },
    {
      "cell_type": "markdown",
      "metadata": {
        "id": "JBsJHLxPSQHV"
      },
      "source": [
        "# SECTION06. 함수의 심화 내용"
      ]
    },
    {
      "cell_type": "markdown",
      "metadata": {
        "id": "6_FVm88aUzCT"
      },
      "source": [
        "### 내부 함수 (Inner Function)\n",
        "- 함수 안에 함수가 있는 형태"
      ]
    },
    {
      "cell_type": "code",
      "metadata": {
        "colab": {
          "base_uri": "https://localhost:8080/"
        },
        "id": "b6nJJyzeRTW5",
        "outputId": "c20099ef-cc9c-4ea9-c1bf-34de55ce46c4"
      },
      "source": [
        "def outFunc(v1, v2) :\n",
        "    def inFunc(num1, num2) :\n",
        "        return num1 + num2\n",
        "    return inFunc(v1, v2)\n",
        "print(outFunc(10, 20))\n",
        "# print(inFunc(10, 20)) # eroor"
      ],
      "execution_count": 62,
      "outputs": [
        {
          "output_type": "stream",
          "text": [
            "30\n"
          ],
          "name": "stdout"
        }
      ]
    },
    {
      "cell_type": "markdown",
      "metadata": {
        "id": "aNCFhi3cUzGY"
      },
      "source": [
        "### 람다 (lambda) 함수\n",
        "- 함수를 한 줄로 간단하게 만들어 준다.\n",
        "- callback, event\n"
      ]
    },
    {
      "cell_type": "code",
      "metadata": {
        "colab": {
          "base_uri": "https://localhost:8080/"
        },
        "id": "RgsQV3AbVNzu",
        "outputId": "ae62fdbb-0569-4769-dcdd-ae47507dbddc"
      },
      "source": [
        "def hap(num1, num2) :\n",
        "    res = num1 + num2\n",
        "    return res\n",
        "print(hap(10, 20))"
      ],
      "execution_count": 60,
      "outputs": [
        {
          "output_type": "stream",
          "text": [
            "30\n"
          ],
          "name": "stdout"
        }
      ]
    },
    {
      "cell_type": "code",
      "metadata": {
        "colab": {
          "base_uri": "https://localhost:8080/"
        },
        "id": "WmqFEu8qRTaA",
        "outputId": "80bb5e43-2849-426f-e312-24a2d189bf45"
      },
      "source": [
        "hap2 = lambda num1, num2 : num1 + num2\n",
        "print(hap2(10, 20))"
      ],
      "execution_count": 63,
      "outputs": [
        {
          "output_type": "stream",
          "text": [
            "30\n"
          ],
          "name": "stdout"
        }
      ]
    },
    {
      "cell_type": "code",
      "metadata": {
        "colab": {
          "base_uri": "https://localhost:8080/"
        },
        "id": "Oc89d3hIRTd-",
        "outputId": "100f0a73-8588-4d0c-c301-8d3702733863"
      },
      "source": [
        "hap3 = lambda num1 = 10, num2 = 20 : num1  + num2\n",
        "print(hap3())\n",
        "print(hap(100, 200))"
      ],
      "execution_count": 66,
      "outputs": [
        {
          "output_type": "stream",
          "text": [
            "30\n",
            "300\n"
          ],
          "name": "stdout"
        }
      ]
    },
    {
      "cell_type": "markdown",
      "metadata": {
        "id": "Gzg2scfeWVWT"
      },
      "source": [
        "### map() 함수\n",
        "- 리스트에 함수 수식을 모두 한꺼번에 적용시킨다.\n",
        "- map(함수명, 리스트)"
      ]
    },
    {
      "cell_type": "code",
      "metadata": {
        "colab": {
          "base_uri": "https://localhost:8080/"
        },
        "id": "cUDhIfDzWOv7",
        "outputId": "7bcd05ad-78ab-4c41-aea6-c2a348996fce"
      },
      "source": [
        "myList = [1, 2, 3, 4, 5]\n",
        "def add10(num) :\n",
        "    return num + 10\n",
        "\n",
        "for i in range(len(myList)) :\n",
        "    myList[i] = add10 (myList[i])\n",
        "print(myList)"
      ],
      "execution_count": 68,
      "outputs": [
        {
          "output_type": "stream",
          "text": [
            "[11, 12, 13, 14, 15]\n"
          ],
          "name": "stdout"
        }
      ]
    },
    {
      "cell_type": "code",
      "metadata": {
        "colab": {
          "base_uri": "https://localhost:8080/"
        },
        "id": "F6kj9db4WO3c",
        "outputId": "e76e1512-bf1c-4b5d-d1d1-f868438afe8f"
      },
      "source": [
        "myList = [1, 2, 3, 4, 5]\n",
        "add10 = lambda num : num + 10\n",
        "myList = list(map(add10, myList))\n",
        "print(myList)"
      ],
      "execution_count": 69,
      "outputs": [
        {
          "output_type": "stream",
          "text": [
            "[11, 12, 13, 14, 15]\n"
          ],
          "name": "stdout"
        }
      ]
    },
    {
      "cell_type": "code",
      "metadata": {
        "colab": {
          "base_uri": "https://localhost:8080/"
        },
        "id": "zwauWR08XH7M",
        "outputId": "85a54c74-c1b9-4f2b-cf8a-16a99991c76f"
      },
      "source": [
        "myList = [1, 2, 3, 4, 5]\n",
        "myList = list(map(lambda num : num + 10, myList))\n",
        "print(myList)"
      ],
      "execution_count": 70,
      "outputs": [
        {
          "output_type": "stream",
          "text": [
            "[11, 12, 13, 14, 15]\n"
          ],
          "name": "stdout"
        }
      ]
    },
    {
      "cell_type": "code",
      "metadata": {
        "colab": {
          "base_uri": "https://localhost:8080/"
        },
        "id": "_-Gdif-dXShv",
        "outputId": "0f33d76c-b8b2-4b0e-e7be-56e497611e7f"
      },
      "source": [
        "list1 = [1, 2, 3, 4]\n",
        "list2 = [10, 20, 30, 40]\n",
        "hapList = list(map(lambda n1, n2 : n1 + n2, list1, list2))\n",
        "print(hapList)"
      ],
      "execution_count": 71,
      "outputs": [
        {
          "output_type": "stream",
          "text": [
            "[11, 22, 33, 44]\n"
          ],
          "name": "stdout"
        }
      ]
    },
    {
      "cell_type": "markdown",
      "metadata": {
        "id": "pUIQUwx4UzLV"
      },
      "source": [
        "### 재귀함수 (Recursion function)\n",
        "- 자신이 자신을 호출한다.\n",
        "- 팩토리얼 (Factorial)"
      ]
    },
    {
      "cell_type": "code",
      "metadata": {
        "colab": {
          "base_uri": "https://localhost:8080/"
        },
        "id": "hjD_bbmeRTgv",
        "outputId": "dffd632e-116f-4db4-dbc4-2f2020c56485"
      },
      "source": [
        "def factorial(num) :\n",
        "    if num <= 1 :\n",
        "        return num\n",
        "    else :\n",
        "        return num * factorial(num - 1)\n",
        "print(factorial(4))\n",
        "print(factorial(10))"
      ],
      "execution_count": 77,
      "outputs": [
        {
          "output_type": "stream",
          "text": [
            "24\n",
            "3628800\n"
          ],
          "name": "stdout"
        }
      ]
    },
    {
      "cell_type": "markdown",
      "metadata": {
        "id": "o92_Si6YZ0GW"
      },
      "source": [
        "### 제너레이터(Generator : 생성자)와 yield\n",
        "- return 문은 결과를 반호나하고 함수를 종결한다. 그런데 함수를 종결하지 않으면서 값을 계속 반환하고 싶다면, yield 문을 사용\n",
        "- yield가 포함된 함수를 제너레이터 함수라고 한다.\n",
        "- 제너레이터는 yield 문으로 값을 반환한 후 계속 진행한다."
      ]
    },
    {
      "cell_type": "code",
      "metadata": {
        "colab": {
          "base_uri": "https://localhost:8080/"
        },
        "id": "7_KGB0hPRTlA",
        "outputId": "5c4f3fe7-d42b-4585-be8d-d571fe7b51e4"
      },
      "source": [
        "def genFunc() :\n",
        "    yield 1\n",
        "    yield 2\n",
        "    yield 3\n",
        "\n",
        "print(list(genFunc()))"
      ],
      "execution_count": 79,
      "outputs": [
        {
          "output_type": "stream",
          "text": [
            "[1, 2, 3]\n"
          ],
          "name": "stdout"
        }
      ]
    },
    {
      "cell_type": "code",
      "metadata": {
        "colab": {
          "base_uri": "https://localhost:8080/"
        },
        "id": "CCSdOLFGRToH",
        "outputId": "2d49c87b-eed9-4186-8923-7932999f5b0e"
      },
      "source": [
        "def genFunc(num) :\n",
        "    for i in range(0, num) :\n",
        "        yield i\n",
        "        print('제너레이터 진행 중')\n",
        "for data in genFunc(5) :\n",
        "    print(data)"
      ],
      "execution_count": 83,
      "outputs": [
        {
          "output_type": "stream",
          "text": [
            "0\n",
            "제너레이터 진행 중\n",
            "1\n",
            "제너레이터 진행 중\n",
            "2\n",
            "제너레이터 진행 중\n",
            "3\n",
            "제너레이터 진행 중\n",
            "4\n",
            "제너레이터 진행 중\n"
          ],
          "name": "stdout"
        }
      ]
    }
  ]
}