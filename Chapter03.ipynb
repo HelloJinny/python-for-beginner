{
  "nbformat": 4,
  "nbformat_minor": 0,
  "metadata": {
    "colab": {
      "name": "Chapter03.ipynb",
      "private_outputs": true,
      "provenance": [],
      "collapsed_sections": [],
      "authorship_tag": "ABX9TyPaaxbIcqC89scIeeeW6CvR",
      "include_colab_link": true
    },
    "kernelspec": {
      "name": "python3",
      "display_name": "Python 3"
    },
    "language_info": {
      "name": "python"
    }
  },
  "cells": [
    {
      "cell_type": "markdown",
      "metadata": {
        "id": "view-in-github",
        "colab_type": "text"
      },
      "source": [
        "<a href=\"https://colab.research.google.com/github/HelloJinny/python-for-beginner/blob/master/Chapter03.ipynb\" target=\"_parent\"><img src=\"https://colab.research.google.com/assets/colab-badge.svg\" alt=\"Open In Colab\"/></a>"
      ]
    },
    {
      "cell_type": "markdown",
      "metadata": {
        "id": "EMt7ZfWLPXcY"
      },
      "source": [
        "# SECTION02. print() 함수를 사용한 다양한 출력"
      ]
    },
    {
      "cell_type": "markdown",
      "metadata": {
        "id": "nOCdbX-SPeQv"
      },
      "source": [
        "### 1. print() 함수의 서식"
      ]
    },
    {
      "cell_type": "code",
      "metadata": {
        "id": "tptXVr-cRUt8"
      },
      "source": [
        "print(\"안녕하세요?\")"
      ],
      "execution_count": null,
      "outputs": []
    },
    {
      "cell_type": "code",
      "metadata": {
        "id": "pPjgaLXlRgHD"
      },
      "source": [
        "print(\"100\") # \" \" 안의 내용은 문자로 취급한다."
      ],
      "execution_count": null,
      "outputs": []
    },
    {
      "cell_type": "code",
      "metadata": {
        "id": "gwTa6gNMRpbK"
      },
      "source": [
        "print(\"%d\" % 100) # %d는 Decimal 정수를 의미한다."
      ],
      "execution_count": null,
      "outputs": []
    },
    {
      "cell_type": "code",
      "metadata": {
        "id": "HNuSBq7bSBhT"
      },
      "source": [
        "# 서식과 숫자 대응해야 된다.\n",
        "# print(\"%d\" %(100, 200))\n",
        "# print(\"%d %d\" %(100))"
      ],
      "execution_count": null,
      "outputs": []
    },
    {
      "cell_type": "code",
      "metadata": {
        "id": "NjW_YguGSV6c"
      },
      "source": [
        "print(\"%d %d\" %(100, 200))"
      ],
      "execution_count": null,
      "outputs": []
    },
    {
      "cell_type": "markdown",
      "metadata": {
        "id": "CN5vx5hcPkp_"
      },
      "source": [
        "2. print() 함수를 사용한 다양한 출력"
      ]
    },
    {
      "cell_type": "code",
      "metadata": {
        "id": "aA8c4vDQPokA"
      },
      "source": [
        "print(\"%d / %d = %d\" % (100, 200, 0.5))"
      ],
      "execution_count": null,
      "outputs": []
    },
    {
      "cell_type": "code",
      "metadata": {
        "id": "NIu_JGD9TiDq"
      },
      "source": [
        ""
      ],
      "execution_count": null,
      "outputs": []
    },
    {
      "cell_type": "markdown",
      "metadata": {
        "id": "9NtcsnNLSgjE"
      },
      "source": [
        "|print()함수에서 사용할 수 있는 서식|||\n",
        "|:------:|:------:|:------:|\n",
        "| 서식 | 값의 예 | 설명 |\n",
        "| %d, %x, %o | 10, 100, 1234 | 정수(10진수, 16진수, 8진수) |\n",
        "| %f | 0.5, 1.0, 3.14 | 실수 (소수점이 붙은 수) |\n",
        "| %c | \"b\", \"한\" | 한 글자 |\n",
        "| %s | \"안녕\", \"abcdefg\", \"a\" | 두 글자 이상인 문자열 |\n"
      ]
    },
    {
      "cell_type": "code",
      "metadata": {
        "id": "cjF04JJtTSo6"
      },
      "source": [
        "print(\"%d / %d = %5.1f\" % (100, 200, 0.5))"
      ],
      "execution_count": null,
      "outputs": []
    },
    {
      "cell_type": "markdown",
      "metadata": {
        "id": "yJm55rZjP4OQ"
      },
      "source": [
        "### 3. print() 함수를 사용한 깔끔한 출력"
      ]
    },
    {
      "cell_type": "code",
      "metadata": {
        "id": "_g2ptlWGSf6L"
      },
      "source": [
        "print(\"%d\" % 123) # 숫자의 자릿수 만큼 정렬\n",
        "print(\"%5d\" % 123) # 오른쪽에 붙여서 정렬\n",
        "print(\"%05d\" % 123) # 오른쪽에 붙여서 정렬, 빈칸을 0으로 채움"
      ],
      "execution_count": null,
      "outputs": []
    },
    {
      "cell_type": "code",
      "metadata": {
        "id": "W1C4cyqVR22h"
      },
      "source": [
        "print(\"%d %5d %05d\" % (123, 123, 123))\n",
        "print(\"{0:d} {1:5d} {2:05d}\".format(123, 123, 123)) # fotmat을 사용하면 출력하는 순서를 지정할 수 있다.\n",
        "print(\"{2:d} {1:d} {0:d}\".format(100, 200, 300))"
      ],
      "execution_count": null,
      "outputs": []
    },
    {
      "cell_type": "code",
      "metadata": {
        "id": "x5wrArm1ROa4"
      },
      "source": [
        "print(\"%f\" % 123.45) # 소수점 아래 여섯자리까지 무조건 출력\n",
        "print(\"%7.1f\" % 123.45) # 소수점 아래 첫째 자리만 출력, 소수점 아래 둘재 자리에서 반올림\n",
        "print(\"%7.3f\" % 123.45) # 소수점 아래 셋째 자리까지 출력, 오른쪽 빈칸은 0으로 채움"
      ],
      "execution_count": null,
      "outputs": []
    },
    {
      "cell_type": "code",
      "metadata": {
        "id": "njzPL_FKROfw"
      },
      "source": [
        "print(\"%s\" % \"Python\") # 자릿수만큼 출력\n",
        "print(\"%10s\" % \"Python\") # 오른쪽 정렬"
      ],
      "execution_count": null,
      "outputs": []
    },
    {
      "cell_type": "markdown",
      "metadata": {
        "id": "PI3ibHmgTLsx"
      },
      "source": [
        "|이스케이프 문자|||\n",
        "|:------:|:------:|:------:|\n",
        "| 이스케이프 문자 | 역할 | 설명 |\n",
        "| \\n | 새로운 줄로 이동 | Entert을 누른 효과 |\n",
        "| \\t | 다음 탭으로 이동 | Tab을 누른 효과 |\n",
        "| \\b | 뒤로 한 칸 이동 | Backspace를 누른 효과 |\n",
        "| \\\\ | \\출력 | |\n",
        "| \\' | '출력| |\n",
        "| \\\" | \"출력| |\n"
      ]
    },
    {
      "cell_type": "code",
      "metadata": {
        "id": "_kpRlJP5UAXJ"
      },
      "source": [
        "print(\"\\n줄바꿈\\n연습\")\n",
        "print(\"\\t탭키\\t연습\")\n",
        "print(\"글자가 \\\"강조\\\" 되는 효과1\")\n",
        "print(\"글자가 \\'강조\\' 되는 효과2\")\n",
        "print(\"\\\\\\\\\\\\ 역슬래시 세 개 출력\")\n",
        "print(r\"\\n \\t \\\" \\\\를 그대로 출력\")"
      ],
      "execution_count": null,
      "outputs": []
    },
    {
      "cell_type": "markdown",
      "metadata": {
        "id": "gniO4f37UjlZ"
      },
      "source": [
        "### 4. [프로그램 1]의 완성"
      ]
    },
    {
      "cell_type": "code",
      "metadata": {
        "id": "tLu0I2jkUnqx"
      },
      "source": [
        "print(\"    *    \")\n",
        "print(\"   ***   \")\n",
        "print(\"  *****  \")\n",
        "print(\" ******* \")\n",
        "print(\"*********\")\n",
        "print(\" ******* \")\n",
        "print(\"   ***   \")\n",
        "print(\"    *    \")"
      ],
      "execution_count": null,
      "outputs": []
    },
    {
      "cell_type": "code",
      "metadata": {
        "id": "e5KO2ShyV-FJ"
      },
      "source": [
        "print(\"*********\")\n",
        "print(\" ******* \")\n",
        "print(\"  *****  \")\n",
        "print(\"   ***   \")\n",
        "print(\"    *    \")\n",
        "print(\"   ***   \")\n",
        "print(\"  *****  \")\n",
        "print(\" ******* \")\n",
        "print(\"*********\")"
      ],
      "execution_count": null,
      "outputs": []
    },
    {
      "cell_type": "markdown",
      "metadata": {
        "id": "y6vfGtYkWf3A"
      },
      "source": [
        "# SECTION03. 변수의 선언과 사용"
      ]
    },
    {
      "cell_type": "markdown",
      "metadata": {
        "id": "7CjU4gUwWnm4"
      },
      "source": [
        "변수명 규칙\n",
        "1. 대소문자를 구분한다.\n",
        "2. 문자, 숫자, 언더바(_)를 포함할 수 있다. (단, 숫자로 시작 X)\n",
        "3. 예약어는 변수명으로 쓰면 안 된다. <br>\n",
        "파이썬 예약어는 True, False, None, and, or, not, break, continue, if, else, elif, for, while, except, finallt, floval, import, try 등\n"
      ]
    },
    {
      "cell_type": "code",
      "metadata": {
        "id": "kGdR0fesWCdg"
      },
      "source": [
        "boolVar = True\n",
        "intVar = 0\n",
        "floatVar = 0.0\n",
        "strVar = \"\""
      ],
      "execution_count": null,
      "outputs": []
    },
    {
      "cell_type": "code",
      "metadata": {
        "id": "VGcPKCOxbOUD"
      },
      "source": [
        "boolVa0, intVar, floatVar, strVar = True, 0, 0.0, \"\""
      ],
      "execution_count": null,
      "outputs": []
    },
    {
      "cell_type": "code",
      "metadata": {
        "id": "ymcoRxB0WT4o"
      },
      "source": [
        "# type() 함수 : 변수가 bool, int, float, str형으로 생성된 것을 확인 할 수 있다.\n",
        "type(boolVar)\n",
        "type(intVar)\n",
        "type(floatVar)\n",
        "type(strVar)"
      ],
      "execution_count": null,
      "outputs": []
    },
    {
      "cell_type": "code",
      "metadata": {
        "id": "za4pypV0Vr5x"
      },
      "source": [
        "var2 = 200\n",
        "var1 = var2\n",
        "print(var1)"
      ],
      "execution_count": null,
      "outputs": []
    },
    {
      "cell_type": "code",
      "metadata": {
        "id": "j4z_Z3PBXc1f"
      },
      "source": [
        "var1 = 100 + 100\n",
        "print(var1)"
      ],
      "execution_count": null,
      "outputs": []
    },
    {
      "cell_type": "code",
      "metadata": {
        "id": "8qSJHlfKXc8B"
      },
      "source": [
        "var1 = var2 + 100\n",
        "print(var1)"
      ],
      "execution_count": null,
      "outputs": []
    },
    {
      "cell_type": "code",
      "metadata": {
        "id": "jbL3ufckXdCx"
      },
      "source": [
        "var1 = var2 = var3 = var4 = 100\n",
        "\n",
        "# var4 = 100\n",
        "# var3 = var4\n",
        "# var2 = var3\n",
        "# var1 = var2\n",
        "\n",
        "print(var1)"
      ],
      "execution_count": null,
      "outputs": []
    },
    {
      "cell_type": "code",
      "metadata": {
        "id": "-HPzw71aXdHj"
      },
      "source": [
        "var1 = var1 + 200\n",
        "print(var1)"
      ],
      "execution_count": null,
      "outputs": []
    },
    {
      "cell_type": "code",
      "metadata": {
        "id": "hi7LmkQuXdN8"
      },
      "source": [
        "# noVar = noVar + 200 # error → noVar = 0 (noVar에 값을 대입시켜 놓아야 한다.)"
      ],
      "execution_count": null,
      "outputs": []
    },
    {
      "cell_type": "code",
      "metadata": {
        "id": "CFfQlCl7X7WL"
      },
      "source": [
        "myVar = 100\n",
        "type(myVar)"
      ],
      "execution_count": null,
      "outputs": []
    },
    {
      "cell_type": "code",
      "metadata": {
        "id": "_GEgB0YWYP8v"
      },
      "source": [
        "myVar = 100.0\n",
        "type(myVar)"
      ],
      "execution_count": null,
      "outputs": []
    },
    {
      "cell_type": "markdown",
      "metadata": {
        "id": "c9HRn_K5Yh2I"
      },
      "source": [
        "변수(그릇) = 100 <br>\n",
        "대입 연산자의 왼쪽에는 무조건 변수만 올 수 있고, <br>\n",
        "오른쪽에는 무엇이든(값, 변수, 수식, 함수 등) 올 수 있다. <br>"
      ]
    },
    {
      "cell_type": "markdown",
      "metadata": {
        "id": "Ri5Fwo6pY54W"
      },
      "source": [
        "# SECTION04. 데이터 표현 단위와 진수 변환"
      ]
    },
    {
      "cell_type": "markdown",
      "metadata": {
        "id": "esd7GwLoZJgH"
      },
      "source": [
        "**비트**\n",
        "- 제일 작은 단위\n",
        "- 0(OFF), 1(ON)\n"
      ]
    },
    {
      "cell_type": "markdown",
      "metadata": {
        "id": "cnoxXofu6fX6"
      },
      "source": [
        "|10진수, 2진수, 16진수 변환표|||\n",
        "|------|------|------|\n",
        "| 10진수 (0~9) | 2진수(0~1) | 16진수(0~F) |\n",
        "| 00 | 0000 | 0 |\n",
        "| 01 | 0001 | 1 |\n",
        "| 02 | 0010 | 2 |\n",
        "| 03 | 0011 | 3 |\n",
        "| 04 | 0100 | 4 |\n",
        "| 05 | 0101 | 5 |\n",
        "| 06 | 0110 | 6 |\n",
        "| 07 | 0111 | 7 |\n",
        "| 08 | 1000 | 8 |\n",
        "| 09 | 1001 | 9 |\n",
        "| 10 | 1010 | A |\n",
        "| 11 | 1011 | B |\n",
        "| 12 | 1100 | C |\n",
        "| 13 | 1101 | D |\n",
        "| 14 | 1110 | E |\n",
        "| 15 | 1111 | F |"
      ]
    },
    {
      "cell_type": "markdown",
      "metadata": {
        "id": "49ehVAw6Z7cj"
      },
      "source": [
        "**바이트**\n",
        "- 비트 8개가 합쳐진 단위"
      ]
    },
    {
      "cell_type": "code",
      "metadata": {
        "id": "l9xPw_UlX7fA"
      },
      "source": [
        "sel = int(input(\"입력 진수 결정 (16/10/8/2) : \"))\n",
        "num = input(\"값 입력 : \")\n",
        "\n",
        "if sel == 16:\n",
        "    num10 = int(num, 16)\n",
        "if sel == 10:\n",
        "    num10 = int(num, 10)\n",
        "if sel == 8:\n",
        "    num10 = int(num, 8)\n",
        "if sel == 2:\n",
        "    num10 = int(num, 2)\n",
        "\n",
        "print(\"16진수 ===> \", hex(num10))\n",
        "print(\"10진수 ===> \", num10)\n",
        "print(\"8진수 ===> \", oct(num10))\n",
        "print(\"2진수 ===> \", bin(num10))"
      ],
      "execution_count": null,
      "outputs": []
    },
    {
      "cell_type": "code",
      "metadata": {
        "id": "_I9CzOs0X7h-"
      },
      "source": [
        "# SELF STUDY\n",
        "sel = int(input(\"입력 진수 결정 (16/10/8/2) : \"))\n",
        "\n",
        "if (sel != 16 and sel != 10 and sel != 8 and sel != 2):\n",
        "    print(\"16, 10, 8, 2 숫자 중 하나만 입력하세요.\")\n",
        "    exit()\n",
        "\n",
        "num = input(\"값 입력 : \")\n",
        "\n",
        "if sel == 16:\n",
        "    num10 = int(num, 16)\n",
        "elif sel == 10:\n",
        "    num10 = int(num, 10)\n",
        "elif sel == 8:\n",
        "    num10 = int(num, 8)\n",
        "elif sel == 2:\n",
        "    num10 = int(num, 2)\n",
        "\n",
        "print(\"16진수 ===> \", hex(num10))\n",
        "print(\"10진수 ===> \", num10)\n",
        "print(\"8진수 ===> \", oct(num10))\n",
        "print(\"2진수 ===> \", bin(num10))\n"
      ],
      "execution_count": null,
      "outputs": []
    },
    {
      "cell_type": "markdown",
      "metadata": {
        "id": "YcnhXN2ptHAo"
      },
      "source": [
        "# SECTION05. 기본 데이터형"
      ]
    },
    {
      "cell_type": "markdown",
      "metadata": {
        "id": "l3z9uzHztR01"
      },
      "source": [
        "### 1. 숫자형 (정수형과 실수형)"
      ]
    },
    {
      "cell_type": "code",
      "metadata": {
        "id": "Blh68PEqX7lH"
      },
      "source": [
        "a = 123\n",
        "print(a)\n",
        "type(a)"
      ],
      "execution_count": null,
      "outputs": []
    },
    {
      "cell_type": "code",
      "metadata": {
        "id": "5Prv-g_RX7ny"
      },
      "source": [
        "a = 100 ** 100 # int 크기에 제한이 없다.\n",
        "print(a)\n",
        "type(a)"
      ],
      "execution_count": null,
      "outputs": []
    },
    {
      "cell_type": "code",
      "metadata": {
        "id": "I-2_W6IWX7qQ"
      },
      "source": [
        "a = 0xFF # 16진수\n",
        "b = 0o77 # 8진수\n",
        "c = 0b1111 # 2진수\n",
        "print(a, b, c)"
      ],
      "execution_count": null,
      "outputs": []
    },
    {
      "cell_type": "code",
      "metadata": {
        "id": "PU1RPWmHtrIW"
      },
      "source": [
        "a = 3.14\n",
        "b = 3.14e5 # 3.14 * 10의 5승\n",
        "print(a, b)"
      ],
      "execution_count": null,
      "outputs": []
    },
    {
      "cell_type": "code",
      "metadata": {
        "id": "zHOiX_SttrLG"
      },
      "source": [
        "a = 10; b = 20\n",
        "print(a + b, a - b, a * b, a / b) # 사칙연산"
      ],
      "execution_count": null,
      "outputs": []
    },
    {
      "cell_type": "code",
      "metadata": {
        "id": "DROj__QQudUj"
      },
      "source": [
        "a, b = 9, 2\n",
        "print(a ** b, a % b, a // b) # ** 제곱, % 나머지, // 나눈 후에 소수점 버림"
      ],
      "execution_count": null,
      "outputs": []
    },
    {
      "cell_type": "markdown",
      "metadata": {
        "id": "fLnot81Tus_Y"
      },
      "source": [
        "### 2. 불형"
      ]
    },
    {
      "cell_type": "code",
      "metadata": {
        "id": "_qlo0G6dtrN0"
      },
      "source": [
        "a = True\n",
        "type(a)"
      ],
      "execution_count": null,
      "outputs": []
    },
    {
      "cell_type": "code",
      "metadata": {
        "id": "uOqFepawtrQr"
      },
      "source": [
        "a = (100 == 100)\n",
        "b = (10 > 100)\n",
        "print(a, b)"
      ],
      "execution_count": null,
      "outputs": []
    },
    {
      "cell_type": "markdown",
      "metadata": {
        "id": "Vvm4JqIBu659"
      },
      "source": [
        "### 3. 문자열"
      ]
    },
    {
      "cell_type": "code",
      "metadata": {
        "id": "KcA8aVdktrVd"
      },
      "source": [
        "a = \"파이썬 만세\"\n",
        "a\n",
        "print(a)\n",
        "type(a)"
      ],
      "execution_count": null,
      "outputs": []
    },
    {
      "cell_type": "code",
      "metadata": {
        "id": "M7rUWD_Vu9ub"
      },
      "source": [
        "\"작은 따옴표는 ' 모양이다.\""
      ],
      "execution_count": null,
      "outputs": []
    },
    {
      "cell_type": "code",
      "metadata": {
        "id": "SYN80f33u9xH"
      },
      "source": [
        "'큰 따옴표는 \" 모양이다.'"
      ],
      "execution_count": null,
      "outputs": []
    },
    {
      "cell_type": "code",
      "metadata": {
        "id": "rMKtj_ufvWZs"
      },
      "source": [
        "a = \"이건 큰 따옴표 \\\" 모양.\"\n",
        "b = '이건 작은 따옴표 \\' 모양'\n",
        "print(a, b)"
      ],
      "execution_count": null,
      "outputs": []
    },
    {
      "cell_type": "code",
      "metadata": {
        "id": "eDvOP_Pcu90c"
      },
      "source": [
        "a = \"파이선 \\n 만세\"\n",
        "print(a)"
      ],
      "execution_count": null,
      "outputs": []
    },
    {
      "cell_type": "code",
      "metadata": {
        "id": "tAOS2NmXu928"
      },
      "source": [
        "a = \"\"\"파이썬\n",
        "만세\"\"\"\n",
        "a"
      ],
      "execution_count": null,
      "outputs": []
    },
    {
      "cell_type": "code",
      "metadata": {
        "id": "5tQkjXPjvk4E"
      },
      "source": [
        "print(a)"
      ],
      "execution_count": null,
      "outputs": []
    },
    {
      "cell_type": "code",
      "metadata": {
        "id": "Qcyw5zS9vk7L"
      },
      "source": [
        "## 함수 선언 부분 ##\n",
        "def myFunc():\n",
        "    print('함수를 호출함')\n",
        "\n",
        "## 전역 변수 선언 부분 ##\n",
        "gVar = 100\n",
        "\n",
        "## 메인 코드부분 ##\n",
        "if __name__ == '__main__':\n",
        "    print('메인 함수 부분이 실행됩니다.')\n",
        "    myFunc()\n",
        "    print('전역 변수 값:', gVar)"
      ],
      "execution_count": null,
      "outputs": []
    },
    {
      "cell_type": "code",
      "metadata": {
        "id": "ZXlDYkJfvk-E"
      },
      "source": [
        "def main():\n",
        "    print('메인 함수 부분이 실행됩니다.')\n",
        "    myFunc()\n",
        "    print('전역 변수 값:', gVar)\n",
        "\n",
        "if __name__ == '__main__':\n",
        "    main()"
      ],
      "execution_count": null,
      "outputs": []
    }
  ]
}