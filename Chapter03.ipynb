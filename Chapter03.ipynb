{
  "nbformat": 4,
  "nbformat_minor": 0,
  "metadata": {
    "colab": {
      "name": "Chapter03.ipynb",
      "provenance": [],
      "collapsed_sections": [],
      "toc_visible": true,
      "authorship_tag": "ABX9TyOIho/TjP1n+t1bMBUXmFV1",
      "include_colab_link": true
    },
    "kernelspec": {
      "name": "python3",
      "display_name": "Python 3"
    },
    "language_info": {
      "name": "python"
    }
  },
  "cells": [
    {
      "cell_type": "markdown",
      "metadata": {
        "id": "view-in-github",
        "colab_type": "text"
      },
      "source": [
        "<a href=\"https://colab.research.google.com/github/HelloJinny/python-for-beginner/blob/master/Chapter03.ipynb\" target=\"_parent\"><img src=\"https://colab.research.google.com/assets/colab-badge.svg\" alt=\"Open In Colab\"/></a>"
      ]
    },
    {
      "cell_type": "markdown",
      "metadata": {
        "id": "EMt7ZfWLPXcY"
      },
      "source": [
        "# SECTION02. print() 함수를 사용한 다양한 출력"
      ]
    },
    {
      "cell_type": "markdown",
      "metadata": {
        "id": "nOCdbX-SPeQv"
      },
      "source": [
        "### 1. print() 함수의 서식"
      ]
    },
    {
      "cell_type": "code",
      "metadata": {
        "id": "tptXVr-cRUt8",
        "colab": {
          "base_uri": "https://localhost:8080/"
        },
        "outputId": "6d496cab-e7f1-47a7-9a6e-d079e757e096"
      },
      "source": [
        "print(\"안녕하세요?\")"
      ],
      "execution_count": null,
      "outputs": [
        {
          "output_type": "stream",
          "text": [
            "안녕하세요?\n"
          ],
          "name": "stdout"
        }
      ]
    },
    {
      "cell_type": "code",
      "metadata": {
        "id": "pPjgaLXlRgHD",
        "colab": {
          "base_uri": "https://localhost:8080/"
        },
        "outputId": "8054c39e-22a8-4b64-9b61-59e769b6884e"
      },
      "source": [
        "print(\"100\") # \" \" 안의 내용은 문자로 취급한다."
      ],
      "execution_count": null,
      "outputs": [
        {
          "output_type": "stream",
          "text": [
            "100\n"
          ],
          "name": "stdout"
        }
      ]
    },
    {
      "cell_type": "code",
      "metadata": {
        "id": "gwTa6gNMRpbK",
        "colab": {
          "base_uri": "https://localhost:8080/"
        },
        "outputId": "27c89775-ef29-4518-aceb-6753ccc99130"
      },
      "source": [
        "print(\"%d\" % 100) # %d는 Decimal 정수를 의미한다."
      ],
      "execution_count": null,
      "outputs": [
        {
          "output_type": "stream",
          "text": [
            "100\n"
          ],
          "name": "stdout"
        }
      ]
    },
    {
      "cell_type": "code",
      "metadata": {
        "id": "HNuSBq7bSBhT"
      },
      "source": [
        "# 서식과 숫자 대응해야 된다.\n",
        "# print(\"%d\" %(100, 200))\n",
        "# print(\"%d %d\" %(100))"
      ],
      "execution_count": null,
      "outputs": []
    },
    {
      "cell_type": "code",
      "metadata": {
        "id": "NjW_YguGSV6c",
        "colab": {
          "base_uri": "https://localhost:8080/"
        },
        "outputId": "4884ba4f-ba5a-4aa6-9a9b-215363781ea2"
      },
      "source": [
        "print(\"%d %d\" %(100, 200))"
      ],
      "execution_count": null,
      "outputs": [
        {
          "output_type": "stream",
          "text": [
            "100 200\n"
          ],
          "name": "stdout"
        }
      ]
    },
    {
      "cell_type": "markdown",
      "metadata": {
        "id": "CN5vx5hcPkp_"
      },
      "source": [
        "2. print() 함수를 사용한 다양한 출력"
      ]
    },
    {
      "cell_type": "code",
      "metadata": {
        "id": "aA8c4vDQPokA",
        "colab": {
          "base_uri": "https://localhost:8080/"
        },
        "outputId": "bdcdb7f6-4c43-49a4-d5e8-5b140261420a"
      },
      "source": [
        "print(\"%d / %d = %d\" % (100, 200, 0.5))"
      ],
      "execution_count": null,
      "outputs": [
        {
          "output_type": "stream",
          "text": [
            "100 / 200 = 0\n"
          ],
          "name": "stdout"
        }
      ]
    },
    {
      "cell_type": "markdown",
      "metadata": {
        "id": "9NtcsnNLSgjE"
      },
      "source": [
        "|print()함수에서 사용할 수 있는 서식|||\n",
        "|:------:|:------:|:------:|\n",
        "| 서식 | 값의 예 | 설명 |\n",
        "| %d, %x, %o | 10, 100, 1234 | 정수(10진수, 16진수, 8진수) |\n",
        "| %f | 0.5, 1.0, 3.14 | 실수 (소수점이 붙은 수) |\n",
        "| %c | \"b\", \"한\" | 한 글자 |\n",
        "| %s | \"안녕\", \"abcdefg\", \"a\" | 두 글자 이상인 문자열 |\n"
      ]
    },
    {
      "cell_type": "code",
      "metadata": {
        "id": "cjF04JJtTSo6",
        "colab": {
          "base_uri": "https://localhost:8080/"
        },
        "outputId": "a908e23c-2d9e-4b4f-885a-13bd58cd5a76"
      },
      "source": [
        "print(\"%d / %d = %5.1f\" % (100, 200, 0.5))"
      ],
      "execution_count": null,
      "outputs": [
        {
          "output_type": "stream",
          "text": [
            "100 / 200 =   0.5\n"
          ],
          "name": "stdout"
        }
      ]
    },
    {
      "cell_type": "markdown",
      "metadata": {
        "id": "yJm55rZjP4OQ"
      },
      "source": [
        "### 3. print() 함수를 사용한 깔끔한 출력"
      ]
    },
    {
      "cell_type": "code",
      "metadata": {
        "id": "_g2ptlWGSf6L",
        "colab": {
          "base_uri": "https://localhost:8080/"
        },
        "outputId": "cbb56a54-2512-4bc6-abb8-80142012d80c"
      },
      "source": [
        "print(\"%d\" % 123) # 숫자의 자릿수 만큼 정렬\n",
        "print(\"%5d\" % 123) # 오른쪽에 붙여서 정렬\n",
        "print(\"%05d\" % 123) # 오른쪽에 붙여서 정렬, 빈칸을 0으로 채움"
      ],
      "execution_count": null,
      "outputs": [
        {
          "output_type": "stream",
          "text": [
            "123\n",
            "  123\n",
            "00123\n"
          ],
          "name": "stdout"
        }
      ]
    },
    {
      "cell_type": "code",
      "metadata": {
        "id": "W1C4cyqVR22h",
        "colab": {
          "base_uri": "https://localhost:8080/"
        },
        "outputId": "9b4f4e5a-1505-4a78-a0de-2e55288443fb"
      },
      "source": [
        "print(\"%d %5d %05d\" % (123, 123, 123))\n",
        "print(\"{0:d} {1:5d} {2:05d}\".format(123, 123, 123)) # fotmat을 사용하면 출력하는 순서를 지정할 수 있다.\n",
        "print(\"{2:d} {1:d} {0:d}\".format(100, 200, 300))"
      ],
      "execution_count": null,
      "outputs": [
        {
          "output_type": "stream",
          "text": [
            "123   123 00123\n",
            "123   123 00123\n",
            "300 200 100\n"
          ],
          "name": "stdout"
        }
      ]
    },
    {
      "cell_type": "code",
      "metadata": {
        "id": "x5wrArm1ROa4",
        "colab": {
          "base_uri": "https://localhost:8080/"
        },
        "outputId": "1be0c9aa-3eaf-4011-cc4c-be35d5e7bdbe"
      },
      "source": [
        "print(\"%f\" % 123.45) # 소수점 아래 여섯자리까지 무조건 출력\n",
        "print(\"%7.1f\" % 123.45) # 소수점 아래 첫째 자리만 출력, 소수점 아래 둘재 자리에서 반올림\n",
        "print(\"%7.3f\" % 123.45) # 소수점 아래 셋째 자리까지 출력, 오른쪽 빈칸은 0으로 채움"
      ],
      "execution_count": null,
      "outputs": [
        {
          "output_type": "stream",
          "text": [
            "123.450000\n",
            "  123.5\n",
            "123.450\n"
          ],
          "name": "stdout"
        }
      ]
    },
    {
      "cell_type": "code",
      "metadata": {
        "id": "njzPL_FKROfw",
        "colab": {
          "base_uri": "https://localhost:8080/"
        },
        "outputId": "7e5cfa09-b442-4514-afb0-94f6e64cb9cc"
      },
      "source": [
        "print(\"%s\" % \"Python\") # 자릿수만큼 출력\n",
        "print(\"%10s\" % \"Python\") # 오른쪽 정렬"
      ],
      "execution_count": null,
      "outputs": [
        {
          "output_type": "stream",
          "text": [
            "Python\n",
            "    Python\n"
          ],
          "name": "stdout"
        }
      ]
    },
    {
      "cell_type": "markdown",
      "metadata": {
        "id": "PI3ibHmgTLsx"
      },
      "source": [
        "|이스케이프 문자|||\n",
        "|:------:|:------:|:------:|\n",
        "| 이스케이프 문자 | 역할 | 설명 |\n",
        "| \\n | 새로운 줄로 이동 | Entert을 누른 효과 |\n",
        "| \\t | 다음 탭으로 이동 | Tab을 누른 효과 |\n",
        "| \\b | 뒤로 한 칸 이동 | Backspace를 누른 효과 |\n",
        "| \\\\ | \\출력 | |\n",
        "| \\' | '출력| |\n",
        "| \\\" | \"출력| |\n"
      ]
    },
    {
      "cell_type": "code",
      "metadata": {
        "id": "_kpRlJP5UAXJ",
        "colab": {
          "base_uri": "https://localhost:8080/"
        },
        "outputId": "9d4bd24a-fdb4-4fdb-92d2-430054ac495e"
      },
      "source": [
        "print(\"\\n줄바꿈\\n연습\")\n",
        "print(\"\\t탭키\\t연습\")\n",
        "print(\"글자가 \\\"강조\\\" 되는 효과1\")\n",
        "print(\"글자가 \\'강조\\' 되는 효과2\")\n",
        "print(\"\\\\\\\\\\\\ 역슬래시 세 개 출력\")\n",
        "print(r\"\\n \\t \\\" \\\\를 그대로 출력\")"
      ],
      "execution_count": null,
      "outputs": [
        {
          "output_type": "stream",
          "text": [
            "\n",
            "줄바꿈\n",
            "연습\n",
            "\t탭키\t연습\n",
            "글자가 \"강조\" 되는 효과1\n",
            "글자가 '강조' 되는 효과2\n",
            "\\\\\\ 역슬래시 세 개 출력\n",
            "\\n \\t \\\" \\\\를 그대로 출력\n"
          ],
          "name": "stdout"
        }
      ]
    },
    {
      "cell_type": "markdown",
      "metadata": {
        "id": "gniO4f37UjlZ"
      },
      "source": [
        "### 4. [프로그램 1]의 완성"
      ]
    },
    {
      "cell_type": "code",
      "metadata": {
        "id": "tLu0I2jkUnqx",
        "colab": {
          "base_uri": "https://localhost:8080/"
        },
        "outputId": "cadfc9bf-083b-456e-acef-c02502cfc381"
      },
      "source": [
        "print(\"    *    \")\n",
        "print(\"   ***   \")\n",
        "print(\"  *****  \")\n",
        "print(\" ******* \")\n",
        "print(\"*********\")\n",
        "print(\" ******* \")\n",
        "print(\"   ***   \")\n",
        "print(\"    *    \")"
      ],
      "execution_count": null,
      "outputs": [
        {
          "output_type": "stream",
          "text": [
            "    *    \n",
            "   ***   \n",
            "  *****  \n",
            " ******* \n",
            "*********\n",
            " ******* \n",
            "   ***   \n",
            "    *    \n"
          ],
          "name": "stdout"
        }
      ]
    },
    {
      "cell_type": "code",
      "metadata": {
        "id": "e5KO2ShyV-FJ",
        "colab": {
          "base_uri": "https://localhost:8080/"
        },
        "outputId": "e290f66b-f790-4ce1-c0da-0658806de212"
      },
      "source": [
        "print(\"*********\")\n",
        "print(\" ******* \")\n",
        "print(\"  *****  \")\n",
        "print(\"   ***   \")\n",
        "print(\"    *    \")\n",
        "print(\"   ***   \")\n",
        "print(\"  *****  \")\n",
        "print(\" ******* \")\n",
        "print(\"*********\")"
      ],
      "execution_count": null,
      "outputs": [
        {
          "output_type": "stream",
          "text": [
            "*********\n",
            " ******* \n",
            "  *****  \n",
            "   ***   \n",
            "    *    \n",
            "   ***   \n",
            "  *****  \n",
            " ******* \n",
            "*********\n"
          ],
          "name": "stdout"
        }
      ]
    },
    {
      "cell_type": "markdown",
      "metadata": {
        "id": "y6vfGtYkWf3A"
      },
      "source": [
        "# SECTION03. 변수의 선언과 사용"
      ]
    },
    {
      "cell_type": "markdown",
      "metadata": {
        "id": "7CjU4gUwWnm4"
      },
      "source": [
        "변수명 규칙\n",
        "1. 대소문자를 구분한다.\n",
        "2. 문자, 숫자, 언더바(_)를 포함할 수 있다. (단, 숫자로 시작 X)\n",
        "3. 예약어는 변수명으로 쓰면 안 된다. <br>\n",
        "파이썬 예약어는 True, False, None, and, or, not, break, continue, if, else, elif, for, while, except, finallt, floval, import, try 등\n"
      ]
    },
    {
      "cell_type": "code",
      "metadata": {
        "id": "kGdR0fesWCdg"
      },
      "source": [
        "boolVar = True\n",
        "intVar = 0\n",
        "floatVar = 0.0\n",
        "strVar = \"\""
      ],
      "execution_count": null,
      "outputs": []
    },
    {
      "cell_type": "code",
      "metadata": {
        "id": "VGcPKCOxbOUD"
      },
      "source": [
        "boolVa0, intVar, floatVar, strVar = True, 0, 0.0, \"\""
      ],
      "execution_count": null,
      "outputs": []
    },
    {
      "cell_type": "code",
      "metadata": {
        "id": "ymcoRxB0WT4o",
        "colab": {
          "base_uri": "https://localhost:8080/"
        },
        "outputId": "73437256-d9e7-4571-d8e5-34cfa8843328"
      },
      "source": [
        "# type() 함수 : 변수가 bool, int, float, str형으로 생성된 것을 확인 할 수 있다.\n",
        "type(boolVar)\n",
        "type(intVar)\n",
        "type(floatVar)\n",
        "type(strVar)"
      ],
      "execution_count": null,
      "outputs": [
        {
          "output_type": "execute_result",
          "data": {
            "text/plain": [
              "str"
            ]
          },
          "metadata": {
            "tags": []
          },
          "execution_count": 57
        }
      ]
    },
    {
      "cell_type": "code",
      "metadata": {
        "id": "za4pypV0Vr5x",
        "colab": {
          "base_uri": "https://localhost:8080/"
        },
        "outputId": "1edcbd78-de74-46a3-cf60-98d23985b4af"
      },
      "source": [
        "var2 = 200\n",
        "var1 = var2\n",
        "print(var1)"
      ],
      "execution_count": null,
      "outputs": [
        {
          "output_type": "stream",
          "text": [
            "200\n"
          ],
          "name": "stdout"
        }
      ]
    },
    {
      "cell_type": "code",
      "metadata": {
        "id": "j4z_Z3PBXc1f",
        "colab": {
          "base_uri": "https://localhost:8080/"
        },
        "outputId": "78c4c677-c19a-4171-a58a-da1864c9bcf3"
      },
      "source": [
        "var1 = 100 + 100\n",
        "print(var1)"
      ],
      "execution_count": null,
      "outputs": [
        {
          "output_type": "stream",
          "text": [
            "200\n"
          ],
          "name": "stdout"
        }
      ]
    },
    {
      "cell_type": "code",
      "metadata": {
        "id": "8qSJHlfKXc8B",
        "colab": {
          "base_uri": "https://localhost:8080/"
        },
        "outputId": "0feb88c2-6789-464b-d9c9-9643c8f56e67"
      },
      "source": [
        "var1 = var2 + 100\n",
        "print(var1)"
      ],
      "execution_count": null,
      "outputs": [
        {
          "output_type": "stream",
          "text": [
            "300\n"
          ],
          "name": "stdout"
        }
      ]
    },
    {
      "cell_type": "code",
      "metadata": {
        "id": "jbL3ufckXdCx",
        "colab": {
          "base_uri": "https://localhost:8080/"
        },
        "outputId": "8a71b625-a8ee-4259-e965-49bf5b71ec7d"
      },
      "source": [
        "var1 = var2 = var3 = var4 = 100\n",
        "\n",
        "# var4 = 100\n",
        "# var3 = var4\n",
        "# var2 = var3\n",
        "# var1 = var2\n",
        "\n",
        "print(var1)"
      ],
      "execution_count": null,
      "outputs": [
        {
          "output_type": "stream",
          "text": [
            "100\n"
          ],
          "name": "stdout"
        }
      ]
    },
    {
      "cell_type": "code",
      "metadata": {
        "id": "-HPzw71aXdHj",
        "colab": {
          "base_uri": "https://localhost:8080/"
        },
        "outputId": "982ddc43-c386-4355-a3d7-a7505792902d"
      },
      "source": [
        "var1 = var1 + 200\n",
        "print(var1)"
      ],
      "execution_count": null,
      "outputs": [
        {
          "output_type": "stream",
          "text": [
            "300\n"
          ],
          "name": "stdout"
        }
      ]
    },
    {
      "cell_type": "code",
      "metadata": {
        "id": "hi7LmkQuXdN8"
      },
      "source": [
        "# noVar = noVar + 200 # error → noVar = 0 (noVar에 값을 대입시켜 놓아야 한다.)"
      ],
      "execution_count": null,
      "outputs": []
    },
    {
      "cell_type": "code",
      "metadata": {
        "id": "CFfQlCl7X7WL",
        "colab": {
          "base_uri": "https://localhost:8080/"
        },
        "outputId": "d4dadbea-ecc9-412c-c7c1-cebfe26bc938"
      },
      "source": [
        "myVar = 100\n",
        "type(myVar)"
      ],
      "execution_count": null,
      "outputs": [
        {
          "output_type": "execute_result",
          "data": {
            "text/plain": [
              "int"
            ]
          },
          "metadata": {
            "tags": []
          },
          "execution_count": 64
        }
      ]
    },
    {
      "cell_type": "code",
      "metadata": {
        "id": "_GEgB0YWYP8v",
        "colab": {
          "base_uri": "https://localhost:8080/"
        },
        "outputId": "c7b1eaf5-041a-4e87-e229-6ef88d96a9cb"
      },
      "source": [
        "myVar = 100.0\n",
        "type(myVar)"
      ],
      "execution_count": null,
      "outputs": [
        {
          "output_type": "execute_result",
          "data": {
            "text/plain": [
              "float"
            ]
          },
          "metadata": {
            "tags": []
          },
          "execution_count": 65
        }
      ]
    },
    {
      "cell_type": "markdown",
      "metadata": {
        "id": "c9HRn_K5Yh2I"
      },
      "source": [
        "변수(그릇) = 100 <br>\n",
        "대입 연산자의 왼쪽에는 무조건 변수만 올 수 있고, <br>\n",
        "오른쪽에는 무엇이든(값, 변수, 수식, 함수 등) 올 수 있다. <br>"
      ]
    },
    {
      "cell_type": "markdown",
      "metadata": {
        "id": "Ri5Fwo6pY54W"
      },
      "source": [
        "# SECTION04. 데이터 표현 단위와 진수 변환"
      ]
    },
    {
      "cell_type": "markdown",
      "metadata": {
        "id": "esd7GwLoZJgH"
      },
      "source": [
        "**비트**\n",
        "- 제일 작은 단위\n",
        "- 0(OFF), 1(ON)\n"
      ]
    },
    {
      "cell_type": "markdown",
      "metadata": {
        "id": "cnoxXofu6fX6"
      },
      "source": [
        "|10진수, 2진수, 16진수 변환표|||\n",
        "|------|------|------|\n",
        "| 10진수 (0~9) | 2진수(0~1) | 16진수(0~F) |\n",
        "| 00 | 0000 | 0 |\n",
        "| 01 | 0001 | 1 |\n",
        "| 02 | 0010 | 2 |\n",
        "| 03 | 0011 | 3 |\n",
        "| 04 | 0100 | 4 |\n",
        "| 05 | 0101 | 5 |\n",
        "| 06 | 0110 | 6 |\n",
        "| 07 | 0111 | 7 |\n",
        "| 08 | 1000 | 8 |\n",
        "| 09 | 1001 | 9 |\n",
        "| 10 | 1010 | A |\n",
        "| 11 | 1011 | B |\n",
        "| 12 | 1100 | C |\n",
        "| 13 | 1101 | D |\n",
        "| 14 | 1110 | E |\n",
        "| 15 | 1111 | F |"
      ]
    },
    {
      "cell_type": "markdown",
      "metadata": {
        "id": "49ehVAw6Z7cj"
      },
      "source": [
        "**바이트**\n",
        "- 비트 8개가 합쳐진 단위"
      ]
    },
    {
      "cell_type": "code",
      "metadata": {
        "id": "BoEFNBmSpUdj",
        "colab": {
          "base_uri": "https://localhost:8080/"
        },
        "outputId": "66b1c5a4-3fd4-4a32-bced-0da1fb6c0594"
      },
      "source": [
        "0b10010011 # 2진수"
      ],
      "execution_count": null,
      "outputs": [
        {
          "output_type": "execute_result",
          "data": {
            "text/plain": [
              "147"
            ]
          },
          "metadata": {
            "tags": []
          },
          "execution_count": 66
        }
      ]
    },
    {
      "cell_type": "code",
      "metadata": {
        "id": "zS_RgjjppdsQ",
        "colab": {
          "base_uri": "https://localhost:8080/"
        },
        "outputId": "a89c7cdf-0dd5-4144-97e3-3b6cbd1ced94"
      },
      "source": [
        "int('10010011', 2) # 10진수"
      ],
      "execution_count": null,
      "outputs": [
        {
          "output_type": "execute_result",
          "data": {
            "text/plain": [
              "147"
            ]
          },
          "metadata": {
            "tags": []
          },
          "execution_count": 67
        }
      ]
    },
    {
      "cell_type": "code",
      "metadata": {
        "id": "5xoXi-N5pd05",
        "colab": {
          "base_uri": "https://localhost:8080/"
        },
        "outputId": "20e25818-b5ff-4a89-92d4-1ffaa43235f1"
      },
      "source": [
        "print(0x93,int('93', 16)) # 16진수"
      ],
      "execution_count": null,
      "outputs": [
        {
          "output_type": "stream",
          "text": [
            "147 147\n"
          ],
          "name": "stdout"
        }
      ]
    },
    {
      "cell_type": "code",
      "metadata": {
        "id": "4Nifc10xqyOI",
        "colab": {
          "base_uri": "https://localhost:8080/"
        },
        "outputId": "e687f718-436f-460f-bde1-68920e697109"
      },
      "source": [
        "print(bin(11), bin(0o11), bin(0x11)) # 2진수"
      ],
      "execution_count": null,
      "outputs": [
        {
          "output_type": "stream",
          "text": [
            "0b1011 0b1001 0b10001\n"
          ],
          "name": "stdout"
        }
      ]
    },
    {
      "cell_type": "code",
      "metadata": {
        "id": "oD9zLw8wrd9z"
      },
      "source": [
        "print(oct(11), oct(0b11), oct(0x11)) # 8진수"
      ],
      "execution_count": null,
      "outputs": []
    },
    {
      "cell_type": "code",
      "metadata": {
        "id": "fyT4zAgJrfzO",
        "colab": {
          "base_uri": "https://localhost:8080/"
        },
        "outputId": "ab6895fb-7cfa-4d6d-aaca-67e2fd8a01fd"
      },
      "source": [
        "print(hex(11), hex(0b11), hex(0o11)) # 16진수"
      ],
      "execution_count": null,
      "outputs": [
        {
          "output_type": "stream",
          "text": [
            "0xb 0x3 0x9\n"
          ],
          "name": "stdout"
        }
      ]
    },
    {
      "cell_type": "code",
      "metadata": {
        "id": "cR3O7RyRuauh",
        "colab": {
          "base_uri": "https://localhost:8080/"
        },
        "outputId": "6fb6f546-6e41-414d-ac95-6d5ce4d1398e"
      },
      "source": [
        "print(oct(12))"
      ],
      "execution_count": null,
      "outputs": [
        {
          "output_type": "stream",
          "text": [
            "0o14\n"
          ],
          "name": "stdout"
        }
      ]
    },
    {
      "cell_type": "code",
      "metadata": {
        "id": "l9xPw_UlX7fA",
        "colab": {
          "base_uri": "https://localhost:8080/"
        },
        "outputId": "573eec90-85ca-4e4e-f187-1d57c479c9d7"
      },
      "source": [
        "sel = int(input(\"입력 진수 결정 (16/10/8/2) : \"))\n",
        "num = input(\"값 입력 : \")\n",
        "\n",
        "if sel == 16:\n",
        "    num10 = int(num, 16)\n",
        "if sel == 10:\n",
        "    num10 = int(num, 10)\n",
        "if sel == 8:\n",
        "    num10 = int(num, 8)\n",
        "if sel == 2:\n",
        "    num10 = int(num, 2)\n",
        "\n",
        "print(\"16진수 ===> \", hex(num10))\n",
        "print(\"10진수 ===> \", num10)\n",
        "print(\"8진수 ===> \", oct(num10))\n",
        "print(\"2진수 ===> \", bin(num10))"
      ],
      "execution_count": null,
      "outputs": [
        {
          "output_type": "stream",
          "text": [
            "입력 진수 결정 (16/10/8/2) : 16\n",
            "값 입력 : FF\n",
            "16진수 ===>  0xff\n",
            "10진수 ===>  255\n",
            "8진수 ===>  0o377\n",
            "2진수 ===>  0b11111111\n"
          ],
          "name": "stdout"
        }
      ]
    },
    {
      "cell_type": "code",
      "metadata": {
        "id": "_I9CzOs0X7h-",
        "colab": {
          "base_uri": "https://localhost:8080/"
        },
        "collapsed": true,
        "outputId": "d2cc0f1f-e6b3-4e90-a09c-66bddfcdbd47"
      },
      "source": [
        "#@title\n",
        "# SELF STUDY\n",
        "sel = int(input(\"입력 진수 결정 (16/10/8/2) : \"))\n",
        "\n",
        "if (sel != 16 and sel != 10 and sel != 8 and sel != 2):\n",
        "    print(\"16, 10, 8, 2 숫자 중 하나만 입력하세요.\")\n",
        "    exit()\n",
        "\n",
        "num = input(\"값 입력 : \")\n",
        "\n",
        "if sel == 16:\n",
        "    num10 = int(num, 16)\n",
        "elif sel == 10:\n",
        "    num10 = int(num, 10)\n",
        "elif sel == 8:\n",
        "    num10 = int(num, 8)\n",
        "elif sel == 2:\n",
        "    num10 = int(num, 2)\n",
        "\n",
        "print(\"16진수 ===> \", hex(num10))\n",
        "print(\"10진수 ===> \", num10)\n",
        "print(\"8진수 ===> \", oct(num10))\n",
        "print(\"2진수 ===> \", bin(num10))\n"
      ],
      "execution_count": null,
      "outputs": [
        {
          "output_type": "stream",
          "text": [
            "입력 진수 결정 (16/10/8/2) : 16\n",
            "값 입력 : FF\n",
            "16진수 ===>  0xff\n",
            "10진수 ===>  255\n",
            "8진수 ===>  0o377\n",
            "2진수 ===>  0b11111111\n"
          ],
          "name": "stdout"
        }
      ]
    },
    {
      "cell_type": "markdown",
      "metadata": {
        "id": "YcnhXN2ptHAo"
      },
      "source": [
        "# SECTION05. 기본 데이터형"
      ]
    },
    {
      "cell_type": "markdown",
      "metadata": {
        "id": "l3z9uzHztR01"
      },
      "source": [
        "### 1. 숫자형 (정수형과 실수형)"
      ]
    },
    {
      "cell_type": "code",
      "metadata": {
        "id": "Blh68PEqX7lH",
        "colab": {
          "base_uri": "https://localhost:8080/"
        },
        "outputId": "121ae0a0-7f42-4485-d272-986745d829eb"
      },
      "source": [
        "a = 123\n",
        "print(a)\n",
        "type(a)"
      ],
      "execution_count": null,
      "outputs": [
        {
          "output_type": "stream",
          "text": [
            "123\n"
          ],
          "name": "stdout"
        },
        {
          "output_type": "execute_result",
          "data": {
            "text/plain": [
              "int"
            ]
          },
          "metadata": {
            "tags": []
          },
          "execution_count": 74
        }
      ]
    },
    {
      "cell_type": "code",
      "metadata": {
        "id": "5Prv-g_RX7ny",
        "colab": {
          "base_uri": "https://localhost:8080/"
        },
        "outputId": "49deb53c-26c1-4659-e7d0-cf91781efe20"
      },
      "source": [
        "a = 100 ** 100 # int 크기에 제한이 없다.\n",
        "print(a)\n",
        "type(a)"
      ],
      "execution_count": null,
      "outputs": [
        {
          "output_type": "stream",
          "text": [
            "100000000000000000000000000000000000000000000000000000000000000000000000000000000000000000000000000000000000000000000000000000000000000000000000000000000000000000000000000000000000000000000000000000000\n"
          ],
          "name": "stdout"
        },
        {
          "output_type": "execute_result",
          "data": {
            "text/plain": [
              "int"
            ]
          },
          "metadata": {
            "tags": []
          },
          "execution_count": 75
        }
      ]
    },
    {
      "cell_type": "code",
      "metadata": {
        "id": "I-2_W6IWX7qQ",
        "colab": {
          "base_uri": "https://localhost:8080/"
        },
        "outputId": "fe64d4bc-0f96-4ab5-b426-cb7601ce8c37"
      },
      "source": [
        "a = 0xFF # 16진수\n",
        "b = 0o77 # 8진수\n",
        "c = 0b1111 # 2진수\n",
        "print(a, b, c)"
      ],
      "execution_count": null,
      "outputs": [
        {
          "output_type": "stream",
          "text": [
            "255 63 15\n"
          ],
          "name": "stdout"
        }
      ]
    },
    {
      "cell_type": "code",
      "metadata": {
        "id": "PU1RPWmHtrIW",
        "colab": {
          "base_uri": "https://localhost:8080/"
        },
        "outputId": "22366d20-53a3-41ca-dfed-2baf9b22972d"
      },
      "source": [
        "a = 3.14\n",
        "b = 3.14e5 # 3.14 * 10의 5승\n",
        "print(a, b)"
      ],
      "execution_count": null,
      "outputs": [
        {
          "output_type": "stream",
          "text": [
            "3.14 314000.0\n"
          ],
          "name": "stdout"
        }
      ]
    },
    {
      "cell_type": "code",
      "metadata": {
        "id": "zHOiX_SttrLG",
        "colab": {
          "base_uri": "https://localhost:8080/"
        },
        "outputId": "f6dce93c-8da3-47a5-ef4d-7d9ff1627760"
      },
      "source": [
        "a = 10; b = 20\n",
        "print(a + b, a - b, a * b, a / b) # 사칙연산"
      ],
      "execution_count": null,
      "outputs": [
        {
          "output_type": "stream",
          "text": [
            "30 -10 200 0.5\n"
          ],
          "name": "stdout"
        }
      ]
    },
    {
      "cell_type": "code",
      "metadata": {
        "id": "DROj__QQudUj",
        "colab": {
          "base_uri": "https://localhost:8080/"
        },
        "outputId": "088752a9-dc31-4414-e99d-5e45088dc139"
      },
      "source": [
        "a, b = 9, 2\n",
        "print(a ** b, a % b, a // b) # ** 제곱, % 나머지, // 나눈 후에 소수점 버림"
      ],
      "execution_count": null,
      "outputs": [
        {
          "output_type": "stream",
          "text": [
            "81 1 4\n"
          ],
          "name": "stdout"
        }
      ]
    },
    {
      "cell_type": "markdown",
      "metadata": {
        "id": "fLnot81Tus_Y"
      },
      "source": [
        "### 2. 불형"
      ]
    },
    {
      "cell_type": "code",
      "metadata": {
        "id": "_qlo0G6dtrN0",
        "colab": {
          "base_uri": "https://localhost:8080/"
        },
        "outputId": "d8d02fe7-45ee-411d-e5c6-5ec01b56f507"
      },
      "source": [
        "a = True\n",
        "type(a)"
      ],
      "execution_count": null,
      "outputs": [
        {
          "output_type": "execute_result",
          "data": {
            "text/plain": [
              "bool"
            ]
          },
          "metadata": {
            "tags": []
          },
          "execution_count": 80
        }
      ]
    },
    {
      "cell_type": "code",
      "metadata": {
        "id": "uOqFepawtrQr",
        "colab": {
          "base_uri": "https://localhost:8080/"
        },
        "outputId": "fa6efd2b-c6ab-47f1-f55e-6c7691fd915a"
      },
      "source": [
        "a = (100 == 100)\n",
        "b = (10 > 100)\n",
        "print(a, b)"
      ],
      "execution_count": null,
      "outputs": [
        {
          "output_type": "stream",
          "text": [
            "True False\n"
          ],
          "name": "stdout"
        }
      ]
    },
    {
      "cell_type": "markdown",
      "metadata": {
        "id": "Vvm4JqIBu659"
      },
      "source": [
        "### 3. 문자열"
      ]
    },
    {
      "cell_type": "code",
      "metadata": {
        "id": "KcA8aVdktrVd",
        "colab": {
          "base_uri": "https://localhost:8080/"
        },
        "outputId": "9b8ed857-87c9-4f45-cc45-beeae7884208"
      },
      "source": [
        "a = \"파이썬 만세\"\n",
        "a\n",
        "print(a)\n",
        "type(a)"
      ],
      "execution_count": null,
      "outputs": [
        {
          "output_type": "stream",
          "text": [
            "파이썬 만세\n"
          ],
          "name": "stdout"
        },
        {
          "output_type": "execute_result",
          "data": {
            "text/plain": [
              "str"
            ]
          },
          "metadata": {
            "tags": []
          },
          "execution_count": 82
        }
      ]
    },
    {
      "cell_type": "code",
      "metadata": {
        "id": "M7rUWD_Vu9ub",
        "colab": {
          "base_uri": "https://localhost:8080/",
          "height": 35
        },
        "outputId": "e4bed907-cfb6-4145-98bd-a2d580aae47c"
      },
      "source": [
        "\"작은 따옴표는 ' 모양이다.\""
      ],
      "execution_count": null,
      "outputs": [
        {
          "output_type": "execute_result",
          "data": {
            "application/vnd.google.colaboratory.intrinsic+json": {
              "type": "string"
            },
            "text/plain": [
              "\"작은 따옴표는 ' 모양이다.\""
            ]
          },
          "metadata": {
            "tags": []
          },
          "execution_count": 83
        }
      ]
    },
    {
      "cell_type": "code",
      "metadata": {
        "id": "SYN80f33u9xH",
        "colab": {
          "base_uri": "https://localhost:8080/",
          "height": 35
        },
        "outputId": "7f01cf8d-9927-4b59-8eca-47ef3f83a671"
      },
      "source": [
        "'큰 따옴표는 \" 모양이다.'"
      ],
      "execution_count": null,
      "outputs": [
        {
          "output_type": "execute_result",
          "data": {
            "application/vnd.google.colaboratory.intrinsic+json": {
              "type": "string"
            },
            "text/plain": [
              "'큰 따옴표는 \" 모양이다.'"
            ]
          },
          "metadata": {
            "tags": []
          },
          "execution_count": 84
        }
      ]
    },
    {
      "cell_type": "code",
      "metadata": {
        "id": "rMKtj_ufvWZs",
        "colab": {
          "base_uri": "https://localhost:8080/"
        },
        "outputId": "0784c2f2-83f0-496f-f77f-d9f638083b62"
      },
      "source": [
        "a = \"이건 큰 따옴표 \\\" 모양.\"\n",
        "b = '이건 작은 따옴표 \\' 모양'\n",
        "print(a, b)"
      ],
      "execution_count": null,
      "outputs": [
        {
          "output_type": "stream",
          "text": [
            "이건 큰 따옴표 \" 모양. 이건 작은 따옴표 ' 모양\n"
          ],
          "name": "stdout"
        }
      ]
    },
    {
      "cell_type": "code",
      "metadata": {
        "id": "eDvOP_Pcu90c",
        "colab": {
          "base_uri": "https://localhost:8080/"
        },
        "outputId": "d1bdbb46-4963-44de-dca9-4d464502273a"
      },
      "source": [
        "a = \"파이선 \\n 만세\"\n",
        "print(a)"
      ],
      "execution_count": null,
      "outputs": [
        {
          "output_type": "stream",
          "text": [
            "파이선 \n",
            " 만세\n"
          ],
          "name": "stdout"
        }
      ]
    },
    {
      "cell_type": "code",
      "metadata": {
        "id": "tAOS2NmXu928",
        "colab": {
          "base_uri": "https://localhost:8080/",
          "height": 35
        },
        "outputId": "1d6e8406-3771-4770-a6f5-f3ece23bf9a9"
      },
      "source": [
        "a = \"\"\"파이썬\n",
        "만세\"\"\"\n",
        "a"
      ],
      "execution_count": null,
      "outputs": [
        {
          "output_type": "execute_result",
          "data": {
            "application/vnd.google.colaboratory.intrinsic+json": {
              "type": "string"
            },
            "text/plain": [
              "'파이썬\\n만세'"
            ]
          },
          "metadata": {
            "tags": []
          },
          "execution_count": 87
        }
      ]
    },
    {
      "cell_type": "code",
      "metadata": {
        "id": "5tQkjXPjvk4E",
        "colab": {
          "base_uri": "https://localhost:8080/"
        },
        "outputId": "8b8e10af-ccbb-41fa-f3ba-fbba33bf53d8"
      },
      "source": [
        "print(a)"
      ],
      "execution_count": null,
      "outputs": [
        {
          "output_type": "stream",
          "text": [
            "파이썬\n",
            "만세\n"
          ],
          "name": "stdout"
        }
      ]
    },
    {
      "cell_type": "code",
      "metadata": {
        "id": "Qcyw5zS9vk7L",
        "colab": {
          "base_uri": "https://localhost:8080/"
        },
        "outputId": "6bd6fa95-e9ec-4ca3-bf98-63e59f13734a"
      },
      "source": [
        "## 함수 선언 부분 ##\n",
        "def myFunc():\n",
        "    print('함수를 호출함')\n",
        "\n",
        "## 전역 변수 선언 부분 ##\n",
        "gVar = 100\n",
        "\n",
        "## 메인 코드부분 ##\n",
        "if __name__ == '__main__':\n",
        "    print('메인 함수 부분이 실행됩니다.')\n",
        "    myFunc()\n",
        "    print('전역 변수 값:', gVar)"
      ],
      "execution_count": null,
      "outputs": [
        {
          "output_type": "stream",
          "text": [
            "메인 함수 부분이 실행됩니다.\n",
            "함수를 호출함\n",
            "전역 변수 값: 100\n"
          ],
          "name": "stdout"
        }
      ]
    },
    {
      "cell_type": "code",
      "metadata": {
        "id": "ZXlDYkJfvk-E",
        "colab": {
          "base_uri": "https://localhost:8080/"
        },
        "outputId": "5d6cdcb8-e248-4e61-bfa8-d2a4cccbc9a9"
      },
      "source": [
        "def main():\n",
        "    print('메인 함수 부분이 실행됩니다.')\n",
        "    myFunc()\n",
        "    print('전역 변수 값:', gVar)\n",
        "\n",
        "if __name__ == '__main__':\n",
        "    main()"
      ],
      "execution_count": null,
      "outputs": [
        {
          "output_type": "stream",
          "text": [
            "메인 함수 부분이 실행됩니다.\n",
            "함수를 호출함\n",
            "전역 변수 값: 100\n"
          ],
          "name": "stdout"
        }
      ]
    }
  ]
}