{
  "nbformat": 4,
  "nbformat_minor": 0,
  "metadata": {
    "colab": {
      "name": "Chapter07.ipynb",
      "private_outputs": true,
      "provenance": [],
      "collapsed_sections": [],
      "authorship_tag": "ABX9TyO8zso4sYrgL4OIYXkrToNk",
      "include_colab_link": true
    },
    "kernelspec": {
      "name": "python3",
      "display_name": "Python 3"
    },
    "language_info": {
      "name": "python"
    }
  },
  "cells": [
    {
      "cell_type": "markdown",
      "metadata": {
        "id": "view-in-github",
        "colab_type": "text"
      },
      "source": [
        "<a href=\"https://colab.research.google.com/github/HelloJinny/python-for-beginner/blob/master/Chapter07.ipynb\" target=\"_parent\"><img src=\"https://colab.research.google.com/assets/colab-badge.svg\" alt=\"Open In Colab\"/></a>"
      ]
    },
    {
      "cell_type": "markdown",
      "metadata": {
        "id": "F4o2mw0IEjW4"
      },
      "source": [
        "# 1. 리스트"
      ]
    },
    {
      "cell_type": "code",
      "metadata": {
        "id": "AxG1ye5n6-Uo"
      },
      "source": [
        "# Code 07-03\n",
        "aa = []\n",
        "\n",
        "for i in range(0, 4):\n",
        "    aa.append(0)\n",
        "hap = 0\n",
        "\n",
        "for i in range(0, 4):\n",
        "    aa[i] = int(input(str(i + 1) + \"번째 숫자 : \"))\n",
        "\n",
        "for i in range(0, 4):\n",
        "    hap = hap + aa[i]\n",
        "\n",
        "print(\"합계 ==> %d\" % hap)"
      ],
      "execution_count": null,
      "outputs": []
    },
    {
      "cell_type": "code",
      "metadata": {
        "id": "TxH1V8Z67V5S"
      },
      "source": [
        "## SELF STUDY 7-1\n",
        "# 값을 4개가 아닌 10개를 입력받아 합계를 출력\n",
        "# 합계를 구하는 마지막 for 문 대신 while 문을 사용\n",
        "aa = []\n",
        "\n",
        "for i in range(0, 10):\n",
        "    aa.append(0)\n",
        "hap = 0\n",
        "\n",
        "for i in range(0, 10):\n",
        "    aa[i] = int(input(str(i + 1) + \"번째 숫자 : \"))\n",
        "\n",
        "i = 0\n",
        "while (i < 10):\n",
        "    hap = hap + aa[i]\n",
        "    i += 1\n",
        "\n",
        "print(\"합계 ==> %d\" % hap)"
      ],
      "execution_count": null,
      "outputs": []
    },
    {
      "cell_type": "code",
      "metadata": {
        "id": "jJhCnrzZ7fHB"
      },
      "source": [
        "# Code 07-04\n",
        "aa = []\n",
        "bb = []\n",
        "value = 0\n",
        "\n",
        "for i in range(0, 100):\n",
        "    aa.append(value)\n",
        "    value += 2\n",
        "\n",
        "for i in range(0, 100):\n",
        "    bb.append(aa[99 - i])\n",
        "\n",
        "print(\"bb[0]에는 %d이, bb[99]에는 %d이 입력됩니다.\" % (bb[0], bb[99]))"
      ],
      "execution_count": null,
      "outputs": []
    },
    {
      "cell_type": "code",
      "metadata": {
        "id": "f_j_z5OI8Nvy"
      },
      "source": [
        "## SELF STUDY 7-2\n",
        "# 리스트 aa에 3의 배수 200개를 입력\n",
        "# 리스트 bb에 리스트 aa의 역순으로 입력\n",
        "# bb[0]과 b[199]의 값을 출력"
      ],
      "execution_count": null,
      "outputs": []
    },
    {
      "cell_type": "markdown",
      "metadata": {
        "id": "eQHqNK1fAxkp"
      },
      "source": [
        "## 리스트 조작 함수"
      ]
    },
    {
      "cell_type": "code",
      "metadata": {
        "id": "V8T7Vsze9uUX"
      },
      "source": [
        "myList = [30, 10, 20]\n",
        "print(\"현재 리스트 : %s\" % myList)\n",
        "\n",
        "myList.append(40)\n",
        "print(\"append(40) 후의 리스트 : %s\" % myList)\n",
        "\n",
        "print(\"pop()으로 추출한 값 : %s\" % myList.pop())\n",
        "print(\"pop() 후의 리스트 : %s\" % myList)\n",
        "\n",
        "myList.sort()\n",
        "print(\"sort() 후의 리스트 : %s\" % myList)\n",
        "\n",
        "myList.reverse()\n",
        "print(\"reverse() 후의 리스트 : %s\" % myList)\n",
        "\n",
        "print(\"20값의 위치 : %d\" % myList.index(20))\n",
        "\n",
        "myList.insert(2, 222)\n",
        "print(\"insert(2, 222) 후의 리스트 : %s\" % myList)\n",
        "\n",
        "myList.remove(222)\n",
        "print(\"remove(222) 후의 리스트 : %s\" % myList)\n",
        "\n",
        "myList.extend( [77, 88, 77] )\n",
        "print(\"extend([77, 88, 77]) 후의 리스트 : %s\" % myList)\n",
        "\n",
        "print(\"77값의 개수 : %d\" % myList.count(77))"
      ],
      "execution_count": null,
      "outputs": []
    },
    {
      "cell_type": "code",
      "metadata": {
        "id": "n3eTWyLG-mWv"
      },
      "source": [
        "myList = [30, 10, 20]\n",
        "newList = sorted(myList) # 리스트는 그대로 두고 정렬된 결과만 반환\n",
        "print(\"sorted() 후의 myList : %s\" % myList)\n",
        "print(\"sorted() 후의 newList : %s\" % newList)"
      ],
      "execution_count": null,
      "outputs": []
    },
    {
      "cell_type": "markdown",
      "metadata": {
        "id": "9BQZAkyNEiKK"
      },
      "source": [
        "## 2치원 리스트"
      ]
    },
    {
      "cell_type": "code",
      "metadata": {
        "id": "Pd-FEohu8mUi"
      },
      "source": [
        "# Code07-06\n",
        "list1 = []\n",
        "list2 = []\n",
        "value=1\n",
        "for i in range(0, 3) :\n",
        "    for k in range(0, 4) :\n",
        "        list1.append(value)\n",
        "        value += 1\n",
        "    list2.append(list1)\n",
        "    list1 = []\n",
        "\n",
        "for i in range(0, 3) :\n",
        "    for k in range(0, 4) :\n",
        "        print(\"%3d\" % list2[i][k], end = \" \")\n",
        "    print(\"\")"
      ],
      "execution_count": null,
      "outputs": []
    },
    {
      "cell_type": "code",
      "metadata": {
        "id": "diktMLI-8aIB"
      },
      "source": [
        "# SELF STUDY 7-3\n",
        "# 4행 5열의 2차원 리스트를 만들고,\n",
        "# 0부터 3의 배수를 입력하고 출력"
      ],
      "execution_count": null,
      "outputs": []
    },
    {
      "cell_type": "markdown",
      "metadata": {
        "id": "2H7wOcyfErR4"
      },
      "source": [
        "# 2. 튜플"
      ]
    },
    {
      "cell_type": "code",
      "metadata": {
        "id": "Qr2N3Dx48aPX"
      },
      "source": [
        ""
      ],
      "execution_count": null,
      "outputs": []
    },
    {
      "cell_type": "code",
      "metadata": {
        "id": "T72hLzvt8aUQ"
      },
      "source": [
        ""
      ],
      "execution_count": null,
      "outputs": []
    },
    {
      "cell_type": "markdown",
      "metadata": {
        "id": "nY05uyMyErYh"
      },
      "source": [
        "# 3. 딕셔너리"
      ]
    },
    {
      "cell_type": "code",
      "metadata": {
        "id": "nRfx-AXb8aXg"
      },
      "source": [
        ""
      ],
      "execution_count": null,
      "outputs": []
    },
    {
      "cell_type": "code",
      "metadata": {
        "id": "nwIEJfLP8aaQ"
      },
      "source": [
        ""
      ],
      "execution_count": null,
      "outputs": []
    }
  ]
}