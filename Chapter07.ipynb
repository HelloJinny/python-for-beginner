{
  "nbformat": 4,
  "nbformat_minor": 0,
  "metadata": {
    "colab": {
      "name": "Chapter07.ipynb",
      "private_outputs": true,
      "provenance": [],
      "collapsed_sections": [],
      "authorship_tag": "ABX9TyPvHnFryqpGy+Ac4AvpYAaC",
      "include_colab_link": true
    },
    "kernelspec": {
      "name": "python3",
      "display_name": "Python 3"
    },
    "language_info": {
      "name": "python"
    }
  },
  "cells": [
    {
      "cell_type": "markdown",
      "metadata": {
        "id": "view-in-github",
        "colab_type": "text"
      },
      "source": [
        "<a href=\"https://colab.research.google.com/github/HelloJinny/python-for-beginner/blob/master/Chapter07.ipynb\" target=\"_parent\"><img src=\"https://colab.research.google.com/assets/colab-badge.svg\" alt=\"Open In Colab\"/></a>"
      ]
    },
    {
      "cell_type": "markdown",
      "metadata": {
        "id": "F4o2mw0IEjW4"
      },
      "source": [
        "# 1. 리스트"
      ]
    },
    {
      "cell_type": "code",
      "metadata": {
        "id": "AxG1ye5n6-Uo"
      },
      "source": [
        "# Code 07-03\n",
        "aa = []\n",
        "\n",
        "for i in range(0, 4):\n",
        "    aa.append(0)\n",
        "hap = 0\n",
        "\n",
        "for i in range(0, 4):\n",
        "    aa[i] = int(input(str(i + 1) + \"번째 숫자 : \"))\n",
        "\n",
        "for i in range(0, 4):\n",
        "    hap = hap + aa[i]\n",
        "\n",
        "print(\"합계 ==> %d\" % hap)"
      ],
      "execution_count": null,
      "outputs": []
    },
    {
      "cell_type": "code",
      "metadata": {
        "id": "TxH1V8Z67V5S"
      },
      "source": [
        "## SELF STUDY 7-1\n",
        "# 값을 4개가 아닌 10개를 입력받아 합계를 출력\n",
        "# 합계를 구하는 마지막 for 문 대신 while 문을 사용\n",
        "aa = []\n",
        "\n",
        "for i in range(0, 10):\n",
        "    aa.append(0)\n",
        "hap = 0\n",
        "\n",
        "for i in range(0, 10):\n",
        "    aa[i] = int(input(str(i + 1) + \"번째 숫자 : \"))\n",
        "\n",
        "i = 0\n",
        "while (i < 10):\n",
        "    hap = hap + aa[i]\n",
        "    i += 1\n",
        "\n",
        "print(\"합계 ==> %d\" % hap)"
      ],
      "execution_count": null,
      "outputs": []
    },
    {
      "cell_type": "code",
      "metadata": {
        "id": "jJhCnrzZ7fHB"
      },
      "source": [
        "# Code 07-04\n",
        "aa = []\n",
        "bb = []\n",
        "value = 0\n",
        "\n",
        "for i in range(0, 100):\n",
        "    aa.append(value)\n",
        "    value += 2\n",
        "\n",
        "for i in range(0, 100):\n",
        "    bb.append(aa[99 - i])\n",
        "\n",
        "print(\"bb[0]에는 %d이, bb[99]에는 %d이 입력됩니다.\" % (bb[0], bb[99]))"
      ],
      "execution_count": null,
      "outputs": []
    },
    {
      "cell_type": "code",
      "metadata": {
        "id": "f_j_z5OI8Nvy"
      },
      "source": [
        "## SELF STUDY 7-2\n",
        "# 리스트 aa에 3의 배수 200개를 입력\n",
        "# 리스트 bb에 리스트 aa의 역순으로 입력\n",
        "# bb[0]과 b[199]의 값을 출력"
      ],
      "execution_count": null,
      "outputs": []
    },
    {
      "cell_type": "markdown",
      "metadata": {
        "id": "eQHqNK1fAxkp"
      },
      "source": [
        "## 리스트 조작 함수"
      ]
    },
    {
      "cell_type": "code",
      "metadata": {
        "id": "V8T7Vsze9uUX"
      },
      "source": [
        "myList = [30, 10, 20]\n",
        "print(\"현재 리스트 : %s\" % myList)\n",
        "\n",
        "myList.append(40)\n",
        "print(\"append(40) 후의 리스트 : %s\" % myList)\n",
        "\n",
        "print(\"pop()으로 추출한 값 : %s\" % myList.pop())\n",
        "print(\"pop() 후의 리스트 : %s\" % myList)\n",
        "\n",
        "myList.sort()\n",
        "print(\"sort() 후의 리스트 : %s\" % myList)\n",
        "\n",
        "myList.reverse()\n",
        "print(\"reverse() 후의 리스트 : %s\" % myList)\n",
        "\n",
        "print(\"20값의 위치 : %d\" % myList.index(20))\n",
        "\n",
        "myList.insert(2, 222)\n",
        "print(\"insert(2, 222) 후의 리스트 : %s\" % myList)\n",
        "\n",
        "myList.remove(222)\n",
        "print(\"remove(222) 후의 리스트 : %s\" % myList)\n",
        "\n",
        "myList.extend( [77, 88, 77] )\n",
        "print(\"extend([77, 88, 77]) 후의 리스트 : %s\" % myList)\n",
        "\n",
        "print(\"77값의 개수 : %d\" % myList.count(77))"
      ],
      "execution_count": null,
      "outputs": []
    },
    {
      "cell_type": "code",
      "metadata": {
        "id": "n3eTWyLG-mWv"
      },
      "source": [
        "myList = [30, 10, 20]\n",
        "newList = sorted(myList) # 리스트는 그대로 두고 정렬된 결과만 반환\n",
        "print(\"sorted() 후의 myList : %s\" % myList)\n",
        "print(\"sorted() 후의 newList : %s\" % newList)"
      ],
      "execution_count": null,
      "outputs": []
    },
    {
      "cell_type": "markdown",
      "metadata": {
        "id": "9BQZAkyNEiKK"
      },
      "source": [
        "## 2차원 리스트"
      ]
    },
    {
      "cell_type": "code",
      "metadata": {
        "id": "Pd-FEohu8mUi"
      },
      "source": [
        "# Code07-06\n",
        "list1 = []\n",
        "list2 = []\n",
        "value=1\n",
        "for i in range(0, 3) : # 행 ↓\n",
        "    for k in range(0, 4) : # 열 →\n",
        "        list1.append(value)\n",
        "        value += 1\n",
        "    list2.append(list1)\n",
        "    list1 = []\n",
        "\n",
        "for i in range(0, 3) :\n",
        "    for k in range(0, 4) :\n",
        "        print(\"%3d\" % list2[i][k], end = \" \")\n",
        "    print(\"\")"
      ],
      "execution_count": null,
      "outputs": []
    },
    {
      "cell_type": "code",
      "metadata": {
        "id": "diktMLI-8aIB"
      },
      "source": [
        "# SELF STUDY 7-3\n",
        "# 4행 5열의 2차원 리스트를 만들고,\n",
        "# 0부터 3의 배수를 입력하고 출력"
      ],
      "execution_count": null,
      "outputs": []
    },
    {
      "cell_type": "markdown",
      "metadata": {
        "id": "2H7wOcyfErR4"
      },
      "source": [
        "# 2. 튜플"
      ]
    },
    {
      "cell_type": "code",
      "metadata": {
        "id": "Qr2N3Dx48aPX"
      },
      "source": [
        "# SELF STUDY 7-4\n",
        "# 2차원 튜플을 생성한 후 모든 값을 출력\n",
        "# tt = ((1, 2, 3), (4, 5, 6), (7, 8, 9))"
      ],
      "execution_count": null,
      "outputs": []
    },
    {
      "cell_type": "code",
      "metadata": {
        "id": "T72hLzvt8aUQ"
      },
      "source": [
        "# 튜플과 리스트는 서로 변환할 수 있다.\n",
        "# 튜플 → 리스트 → 튜플\n",
        "myTuple = (10, 20, 30)\n",
        "myList = list(myTuple)\n",
        "myList.append(40)\n",
        "myTuple = tuple(myList)\n",
        "print(myTuple)"
      ],
      "execution_count": null,
      "outputs": []
    },
    {
      "cell_type": "markdown",
      "metadata": {
        "id": "nY05uyMyErYh"
      },
      "source": [
        "# 3. 딕셔너리"
      ]
    },
    {
      "cell_type": "code",
      "metadata": {
        "id": "nRfx-AXb8aXg"
      },
      "source": [
        "student1 = {'학번' : 1000, '이름' : '홍길동', '학과' : '컴퓨터학과'}\n",
        "print(student1)"
      ],
      "execution_count": null,
      "outputs": []
    },
    {
      "cell_type": "code",
      "metadata": {
        "id": "nwIEJfLP8aaQ"
      },
      "source": [
        "# 연락처 추가\n",
        "student1['연락처'] = '010-1111-2222'\n",
        "print(student1)"
      ],
      "execution_count": null,
      "outputs": []
    },
    {
      "cell_type": "code",
      "metadata": {
        "id": "AfnvuN5BJtkj"
      },
      "source": [
        "# 이미 존재하는 키를 사용하면 새로운 쌍이 추가되는 것이 아니라 기존값이 변경 (키는 유일해야 한다.)\n",
        "student1['학과'] = '파이썬학과'\n",
        "print(student1)"
      ],
      "execution_count": null,
      "outputs": []
    },
    {
      "cell_type": "code",
      "metadata": {
        "id": "0y63PvOXJtnK"
      },
      "source": [
        "# 딕셔너리 쌍 삭제 del(딕셔너리명[키])\n",
        "del(student1['학과'])\n",
        "print(student1)"
      ],
      "execution_count": null,
      "outputs": []
    },
    {
      "cell_type": "code",
      "metadata": {
        "id": "nijG-XqoJtp8"
      },
      "source": [
        "# 동일한 키를 갖는 딕셔너리를 생성하지 않고 마지막에 있는 키가 적용 (키는 유일해야 한다.)\n",
        "student1 = {'학번' : 1000, '이름' : '홍길동', '학과' : '파이썬학과', '학번' : 2000}\n",
        "print(student1)"
      ],
      "execution_count": null,
      "outputs": []
    },
    {
      "cell_type": "markdown",
      "metadata": {
        "id": "M7TN7AjLKo-E"
      },
      "source": [
        "### 딕셔너리 사용"
      ]
    },
    {
      "cell_type": "code",
      "metadata": {
        "id": "cUY3H0fyJtsU"
      },
      "source": [
        "print(student1['학번'])\n",
        "print(student1['이름'])\n",
        "print(student1['학과'])"
      ],
      "execution_count": null,
      "outputs": []
    },
    {
      "cell_type": "code",
      "metadata": {
        "id": "E2U4HQg3JtvL"
      },
      "source": [
        "# 딕셔너리명.get(키) : 키로 값에 접근, \n",
        "student1.get('이름')"
      ],
      "execution_count": null,
      "outputs": []
    },
    {
      "cell_type": "code",
      "metadata": {
        "id": "VJn3Bf-KJtyM"
      },
      "source": [
        "# 딕셔너리[키] : 없는 키를 호출하면 오류\n",
        "# 딕셔너리명.get(키) : 없는 키를 호출하면 아무것도 반환하지 않는다.\n",
        "student1.['주소']"
      ],
      "execution_count": null,
      "outputs": []
    },
    {
      "cell_type": "code",
      "metadata": {
        "id": "5kKS-YL0Jt1M"
      },
      "source": [
        "student1.get('주소')"
      ],
      "execution_count": null,
      "outputs": []
    },
    {
      "cell_type": "code",
      "metadata": {
        "id": "1aUeJ1BpLfC8"
      },
      "source": [
        "# 딕셔너리명.keys() : 딕셔너리의 모든 키를 반환\n",
        "student1.keys()"
      ],
      "execution_count": null,
      "outputs": []
    },
    {
      "cell_type": "code",
      "metadata": {
        "id": "N7NuMdc7LfFb"
      },
      "source": [
        "# dict_keys가 보기 싫으면 list(딕셔너리명.keys())\n",
        "list(student1.keys())"
      ],
      "execution_count": null,
      "outputs": []
    },
    {
      "cell_type": "code",
      "metadata": {
        "id": "L0UY7CDTLfIT"
      },
      "source": [
        "# 딕셔너리명.values() : 딕셔너리의 모든 값을 리스트로 만들어 반환\n",
        "# dict_keys가 보기 싫으면 list(딕셔너리명.values())\n",
        "student1.values()"
      ],
      "execution_count": null,
      "outputs": []
    },
    {
      "cell_type": "code",
      "metadata": {
        "id": "GBuSkMVPLfKt"
      },
      "source": [
        "# 딕셔너리명.items() : 튜플 형태로 구할 수 있다.\n",
        "student1.items()"
      ],
      "execution_count": null,
      "outputs": []
    },
    {
      "cell_type": "code",
      "metadata": {
        "id": "88xdRb5FNRyk"
      },
      "source": [
        "# 딕셔너리 안에 해당 키가 있는지 없는지 in을 사용해 확인\n",
        "print('이름' in student1)\n",
        "print('주소' in student1)"
      ],
      "execution_count": null,
      "outputs": []
    },
    {
      "cell_type": "code",
      "metadata": {
        "id": "6zMn-uUyNR4C"
      },
      "source": [
        "# Code 07-08\n",
        "singer = {}\n",
        "\n",
        "singer['이름'] = '트와이스'\n",
        "singer['구성원수'] = 9\n",
        "singer['데뷰'] = '서바이벌 식스틴'\n",
        "singer['대표곡'] = 'SIGNAL'\n",
        "\n",
        "for k in singer.keys() :\n",
        "    print('%s --> %s' % (k, singer[k]))"
      ],
      "execution_count": null,
      "outputs": []
    },
    {
      "cell_type": "markdown",
      "metadata": {
        "id": "lQW1QP_POsrI"
      },
      "source": [
        "### 딕셔너리의 정렬"
      ]
    },
    {
      "cell_type": "code",
      "metadata": {
        "id": "I0N5EeR4NR6j"
      },
      "source": [
        "# Code 07-09\n",
        "# 각 결과는 튜플로 변경되며 리스트로 반환된다.\n",
        "import operator\n",
        "\n",
        "trainDic, trainList = {}, []\n",
        "\n",
        "trainDic = {'Thomas':'토마스', 'Edward':'에드워드', 'Henry':'헨리', 'Gothen':'고든', 'James':'제임스'}\n",
        "trainList = sorted(trainDic.items(), key=operator.itemgetter(0))\n",
        "\n",
        "print(trainList)"
      ],
      "execution_count": null,
      "outputs": []
    },
    {
      "cell_type": "code",
      "metadata": {
        "id": "G9EvzIPGNR9S"
      },
      "source": [
        "# Code 07-10\n",
        "## 변수 선언 부분 ##\n",
        "foods = {\"떡볶이\" : \"오뎅\", \n",
        "         \"짜장면\" : \"단무지\",\n",
        "         \"라면\"   : \"김치\",\n",
        "         \"피자\"   : \"피클\",\n",
        "         \"맥주\"   : \"땅콩\",\n",
        "         \"치킨\"   : \"치킨무\",\n",
        "         \"삼겹살\" : \"상추\" };\n",
        "\n",
        "## 메인 코드 부분 ##\n",
        "while (True) :\n",
        "    myfood = input(str(list(foods.keys())) + \" 중 좋아하는 음식은?\")\n",
        "    if myfood in foods :\n",
        "        print(\"<%s> 궁합 음식은 <%s>입니다.\" % (myfood, foods.get(myfood)))\n",
        "    elif myfood == \"끝\" :\n",
        "        break\n",
        "    else :\n",
        "        print(\"그런 음식이 없습니다. 확인해 보세요.\")"
      ],
      "execution_count": null,
      "outputs": []
    },
    {
      "cell_type": "code",
      "metadata": {
        "id": "XAviozfYNR_t"
      },
      "source": [
        "# SELF-STUDY 7-5\n",
        "# Code 07-10 수정해 동물의 어미와 새끼의 이름을 딕셔너리로 묶는 프로그램을 작성"
      ],
      "execution_count": null,
      "outputs": []
    },
    {
      "cell_type": "code",
      "metadata": {
        "id": "sTfOc5PANSCj"
      },
      "source": [
        ""
      ],
      "execution_count": null,
      "outputs": []
    }
  ]
}