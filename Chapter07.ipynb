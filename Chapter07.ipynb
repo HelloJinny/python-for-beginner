{
  "nbformat": 4,
  "nbformat_minor": 0,
  "metadata": {
    "colab": {
      "name": "Chapter07.ipynb",
      "private_outputs": true,
      "provenance": [],
      "collapsed_sections": [],
      "authorship_tag": "ABX9TyOMX0Y4/4/tj3pZkpMuGwPW",
      "include_colab_link": true
    },
    "kernelspec": {
      "name": "python3",
      "display_name": "Python 3"
    },
    "language_info": {
      "name": "python"
    }
  },
  "cells": [
    {
      "cell_type": "markdown",
      "metadata": {
        "id": "view-in-github",
        "colab_type": "text"
      },
      "source": [
        "<a href=\"https://colab.research.google.com/github/HelloJinny/python-for-beginner/blob/master/Chapter07.ipynb\" target=\"_parent\"><img src=\"https://colab.research.google.com/assets/colab-badge.svg\" alt=\"Open In Colab\"/></a>"
      ]
    },
    {
      "cell_type": "code",
      "metadata": {
        "id": "AxG1ye5n6-Uo"
      },
      "source": [
        "# Code 07-03\n",
        "aa = []\n",
        "\n",
        "for i in range(0, 4):\n",
        "    aa.append(0)\n",
        "hap = 0\n",
        "\n",
        "for i in range(0, 4):\n",
        "    aa[i] = int(input(str(i + 1) + \"번째 숫자 : \"))\n",
        "\n",
        "for i in range(0, 4):\n",
        "    hap = hap + aa[i]\n",
        "\n",
        "print(\"합계 ==> %d\" % hap)"
      ],
      "execution_count": null,
      "outputs": []
    },
    {
      "cell_type": "code",
      "metadata": {
        "id": "TxH1V8Z67V5S"
      },
      "source": [
        "## SELF STUDY 7-1\n",
        "# 값을 4개가 아닌 10개를 입력받아 합계를 출력\n",
        "# 합계를 구하는 마지막 for 문 대신 while 문을 사용\n",
        "aa = []\n",
        "\n",
        "for i in range(0, 10):\n",
        "    aa.append(0)\n",
        "hap = 0\n",
        "\n",
        "for i in range(0, 10):\n",
        "    aa[i] = int(input(str(i + 1) + \"번째 숫자 : \"))\n",
        "\n",
        "i = 0\n",
        "while (i < 10):\n",
        "    hap = hap + aa[i]\n",
        "    i += 1\n",
        "\n",
        "print(\"합계 ==> %d\" % hap)"
      ],
      "execution_count": null,
      "outputs": []
    },
    {
      "cell_type": "code",
      "metadata": {
        "id": "jJhCnrzZ7fHB"
      },
      "source": [
        "# Code 07-04\n",
        "aa = []\n",
        "bb = []\n",
        "value = 0\n",
        "\n",
        "for i in range(0, 100):\n",
        "    aa.append(value)\n",
        "    value += 2\n",
        "\n",
        "for i in range(0, 100):\n",
        "    bb.append(aa[99 - i])\n",
        "\n",
        "print(\"bb[0]에는 %d이, bb[99]에는 %d이 입력됩니다.\" % (bb[0], bb[99]))"
      ],
      "execution_count": null,
      "outputs": []
    },
    {
      "cell_type": "code",
      "metadata": {
        "id": "f_j_z5OI8Nvy"
      },
      "source": [
        "## SELF STUDY 7-2\n",
        "# 리스트 aa에 3의 배수 200개를 입력\n",
        "# 리스트 bb에 리스트 aa의 역순으로 입력\n",
        "# bb[0]과 b[199]의 값을 출력"
      ],
      "execution_count": null,
      "outputs": []
    },
    {
      "cell_type": "code",
      "metadata": {
        "id": "Pd-FEohu8mUi"
      },
      "source": [
        ""
      ],
      "execution_count": null,
      "outputs": []
    }
  ]
}