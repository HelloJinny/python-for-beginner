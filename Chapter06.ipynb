{
  "nbformat": 4,
  "nbformat_minor": 0,
  "metadata": {
    "colab": {
      "name": "Chapter06.ipynb",
      "provenance": [],
      "collapsed_sections": [],
      "authorship_tag": "ABX9TyNi11F8Y15u+X48KAw/sc9p",
      "include_colab_link": true
    },
    "kernelspec": {
      "name": "python3",
      "display_name": "Python 3"
    },
    "language_info": {
      "name": "python"
    }
  },
  "cells": [
    {
      "cell_type": "markdown",
      "metadata": {
        "id": "view-in-github",
        "colab_type": "text"
      },
      "source": [
        "<a href=\"https://colab.research.google.com/github/HelloJinny/python-for-beginner/blob/master/Chapter06.ipynb\" target=\"_parent\"><img src=\"https://colab.research.google.com/assets/colab-badge.svg\" alt=\"Open In Colab\"/></a>"
      ]
    },
    {
      "cell_type": "markdown",
      "metadata": {
        "id": "ny1Qjosf4BBe"
      },
      "source": [
        "# SECTION02. 기본 for문"
      ]
    },
    {
      "cell_type": "markdown",
      "metadata": {
        "id": "zyWOKRY4Nuno"
      },
      "source": [
        "### 1. 반복문의 개념과 필요소성"
      ]
    },
    {
      "cell_type": "code",
      "metadata": {
        "id": "T2iK6BJz34sT",
        "colab": {
          "base_uri": "https://localhost:8080/"
        },
        "outputId": "cac6e14c-e1a3-4b5e-9a49-936139d33da8"
      },
      "source": [
        "# Code06-01(1)\n",
        "print(\"안녕하세요? for 문을 공부 중입니다. ^^\")\n",
        "print(\"안녕하세요? for 문을 공부 중입니다. ^^\")\n",
        "print(\"안녕하세요? for 문을 공부 중입니다. ^^\")"
      ],
      "execution_count": 1,
      "outputs": [
        {
          "output_type": "stream",
          "text": [
            "안녕하세요? for 문을 공부 중입니다. ^^\n",
            "안녕하세요? for 문을 공부 중입니다. ^^\n",
            "안녕하세요? for 문을 공부 중입니다. ^^\n"
          ],
          "name": "stdout"
        }
      ]
    },
    {
      "cell_type": "markdown",
      "metadata": {
        "id": "Hqqu2rnxNn4p"
      },
      "source": [
        "### 2. for문의 개념"
      ]
    },
    {
      "cell_type": "code",
      "metadata": {
        "id": "m2OjtvMz4Lbl",
        "colab": {
          "base_uri": "https://localhost:8080/"
        },
        "outputId": "71e7dc5b-d72b-48a9-9749-8f0959ef332b"
      },
      "source": [
        "# Code06-01(2)\n",
        "\n",
        "# range() 함수 : 지정된 범위의 값을 반환\n",
        "# (0, 3, 1) : 0에서 시작해 2까지 1씩 증가하는 값을 반환 = [0, 1, 2]\n",
        "# i 대신 _(언더바) 사용 가능\n",
        "\n",
        "for i in range(0, 3, 1):\n",
        "    print(\"안녕하세요? for 문을 공부 중입니다. ^^\")"
      ],
      "execution_count": 2,
      "outputs": [
        {
          "output_type": "stream",
          "text": [
            "안녕하세요? for 문을 공부 중입니다. ^^\n",
            "안녕하세요? for 문을 공부 중입니다. ^^\n",
            "안녕하세요? for 문을 공부 중입니다. ^^\n"
          ],
          "name": "stdout"
        }
      ]
    },
    {
      "cell_type": "markdown",
      "metadata": {
        "id": "JjJ57xCq4-Ux"
      },
      "source": [
        "```\n",
        "for 변수 in  range(시작값, 끝값+1, 증가값):\n",
        "    이 부분을 반복\n",
        "```"
      ]
    },
    {
      "cell_type": "code",
      "metadata": {
        "id": "NEgKIDEr4V0v",
        "colab": {
          "base_uri": "https://localhost:8080/"
        },
        "outputId": "b3f30ce1-e616-48e6-c5e0-ab5bbfbe3bee"
      },
      "source": [
        "for i in range(1, 6, 1):\n",
        "    print(\"%d \" % i , end = \" \")"
      ],
      "execution_count": 3,
      "outputs": [
        {
          "output_type": "stream",
          "text": [
            "1  2  3  4  5  "
          ],
          "name": "stdout"
        }
      ]
    },
    {
      "cell_type": "markdown",
      "metadata": {
        "id": "NFYTO_6HN3zF"
      },
      "source": [
        "### 3. for문을 이용한 합계 구하기"
      ]
    },
    {
      "cell_type": "code",
      "metadata": {
        "id": "Lh0urpMU4WLi",
        "colab": {
          "base_uri": "https://localhost:8080/"
        },
        "outputId": "3aced073-1c37-431b-b03f-92637bdf0c56"
      },
      "source": [
        "hap = 1 +2 + 3 + 4 +5 + 6 +7 + 8 + 9 +  10\n",
        "print(\"1에서 10까지의 합계 : %d\" % hap)"
      ],
      "execution_count": 4,
      "outputs": [
        {
          "output_type": "stream",
          "text": [
            "1에서 10까지의 합계 : 55\n"
          ],
          "name": "stdout"
        }
      ]
    },
    {
      "cell_type": "code",
      "metadata": {
        "id": "bCOZerv3N7Ff",
        "colab": {
          "base_uri": "https://localhost:8080/"
        },
        "outputId": "d40eea46-9a96-4f35-e563-adb020a01d79"
      },
      "source": [
        "# Code06-02\n",
        "\n",
        "# 1부터 10까지 변할 i 변수 준비\n",
        "\n",
        "# for i 변수가 1을 시작으로 10까지 1씩 증가\n",
        "#     hap에 i값을 더해 줌\n",
        "\n",
        "# hap값 출력\n",
        "\n",
        "i, hap  = 0, 0\n",
        "\n",
        "for i in range(1, 11, 1):\n",
        "    hap = hap + i\n",
        "\n",
        "print(\"1에서 10까지의 합계 : %d\" % hap)"
      ],
      "execution_count": 5,
      "outputs": [
        {
          "output_type": "stream",
          "text": [
            "1에서 10까지의 합계 : 55\n"
          ],
          "name": "stdout"
        }
      ]
    },
    {
      "cell_type": "code",
      "metadata": {
        "id": "nUdkJaO0N7Ja",
        "colab": {
          "base_uri": "https://localhost:8080/"
        },
        "outputId": "7fd9cb98-cc02-499e-8902-c0ac4f9828fe"
      },
      "source": [
        "# Code06-03\n",
        "i, hap = 0, 0\n",
        "\n",
        "for i in range(501, 1001, 2):\n",
        "    hap = hap + i\n",
        "\n",
        "print(\"500과 1000 사이에 있는 홀수의 합계 : %d\" %hap)"
      ],
      "execution_count": 6,
      "outputs": [
        {
          "output_type": "stream",
          "text": [
            "500과 1000 사이에 있는 홀수의 합계 : 187500\n"
          ],
          "name": "stdout"
        }
      ]
    },
    {
      "cell_type": "code",
      "metadata": {
        "id": "vOTVeAKvN7L7",
        "colab": {
          "base_uri": "https://localhost:8080/"
        },
        "outputId": "2da9ae80-d488-4b2e-e789-87de0a602b6e"
      },
      "source": [
        "# SELF STUDY 6-1\n",
        "i, hap = 0 , 0\n",
        "\n",
        "for i in range(0, 101, 7):\n",
        "    hap = hap + i\n",
        "\n",
        "print(\"0과 100 사이에 있는 7의 배수 합계 : %d\" %hap)"
      ],
      "execution_count": 7,
      "outputs": [
        {
          "output_type": "stream",
          "text": [
            "0과 100 사이에 있는 7의 배수 합계 : 735\n"
          ],
          "name": "stdout"
        }
      ]
    },
    {
      "cell_type": "markdown",
      "metadata": {
        "id": "cOLWmQ5pQMJW"
      },
      "source": [
        "#### 4. 키보드로 입력한 값까지 합계 구하기"
      ]
    },
    {
      "cell_type": "code",
      "metadata": {
        "id": "5Sdlo8WiN7O0",
        "colab": {
          "base_uri": "https://localhost:8080/"
        },
        "outputId": "956d5eb4-5214-441a-a44a-727afbcfcc18"
      },
      "source": [
        "# Code06-04\n",
        "i, hap = 0, 0\n",
        "num = 0\n",
        "\n",
        "num = int(input(\"값을 입력하세요 : \"))\n",
        "\n",
        "for i in range(1, num + 1, 1):\n",
        "    hap = hap + i\n",
        "\n",
        "print(\"1에서 %d까지의 합계 : %d\" % (num, hap))"
      ],
      "execution_count": 8,
      "outputs": [
        {
          "output_type": "stream",
          "text": [
            "값을 입력하세요 : 100\n",
            "1에서 100까지의 합계 : 5050\n"
          ],
          "name": "stdout"
        }
      ]
    },
    {
      "cell_type": "code",
      "metadata": {
        "id": "OTUtaqrxR7Qd",
        "colab": {
          "base_uri": "https://localhost:8080/"
        },
        "outputId": "cb45725b-7254-49f3-e914-5bf1eb82d834"
      },
      "source": [
        "# Code06-05\n",
        "i, hap = 0, 0\n",
        "num1, num2, num3 = 0, 0, 0\n",
        "\n",
        "num1 = int(input(\"시작값을 입력하세요 : \"))\n",
        "num2 = int(input(\"끝값을 입력하세요 : \"))\n",
        "num3 = int(input(\"증가값을 입력하세요 : \"))\n",
        "\n",
        "for i in range(num1, num2 + 1, num3):\n",
        "    hap = hap +i\n",
        "print(\"%d에서 %d까지 %d씩 증가시킨 값의 합계 : %d\" % (num1, num2, num3, hap))"
      ],
      "execution_count": 9,
      "outputs": [
        {
          "output_type": "stream",
          "text": [
            "시작값을 입력하세요 : 1\n",
            "끝값을 입력하세요 : 100\n",
            "증가값을 입력하세요 : 3\n",
            "1에서 100까지 3씩 증가시킨 값의 합계 : 1717\n"
          ],
          "name": "stdout"
        }
      ]
    },
    {
      "cell_type": "code",
      "metadata": {
        "id": "7uMVM9TCSzwq",
        "colab": {
          "base_uri": "https://localhost:8080/"
        },
        "outputId": "006a0356-39b9-44c4-ff39-82c359c9010e"
      },
      "source": [
        "# Code06-06\n",
        "i, dan = 0, 0\n",
        "\n",
        "dan = int(input(\"단을 입력하세요 :\"))\n",
        "\n",
        "for i in range(1, 10, 1):\n",
        "    print(\"%d X %d = %2d\" % (dan, i, dan * i))"
      ],
      "execution_count": 10,
      "outputs": [
        {
          "output_type": "stream",
          "text": [
            "단을 입력하세요 :2\n",
            "2 X 1 =  2\n",
            "2 X 2 =  4\n",
            "2 X 3 =  6\n",
            "2 X 4 =  8\n",
            "2 X 5 = 10\n",
            "2 X 6 = 12\n",
            "2 X 7 = 14\n",
            "2 X 8 = 16\n",
            "2 X 9 = 18\n"
          ],
          "name": "stdout"
        }
      ]
    },
    {
      "cell_type": "code",
      "metadata": {
        "id": "i4sDHLxHUWNT",
        "colab": {
          "base_uri": "https://localhost:8080/"
        },
        "outputId": "1d7f115b-1671-429b-8d38-b603cfa4d675"
      },
      "source": [
        "# SELF STUDY 6-2\n",
        "i, dan = 0, 0\n",
        "\n",
        "dan = int(input(\"단을 입력하세요 :\"))\n",
        "\n",
        "for i in range(9, 0, -1):\n",
        "    print(\"%d X %d = %2d\" % (i, dan, dan * i))"
      ],
      "execution_count": 11,
      "outputs": [
        {
          "output_type": "stream",
          "text": [
            "단을 입력하세요 :2\n",
            "9 X 2 = 18\n",
            "8 X 2 = 16\n",
            "7 X 2 = 14\n",
            "6 X 2 = 12\n",
            "5 X 2 = 10\n",
            "4 X 2 =  8\n",
            "3 X 2 =  6\n",
            "2 X 2 =  4\n",
            "1 X 2 =  2\n"
          ],
          "name": "stdout"
        }
      ]
    },
    {
      "cell_type": "markdown",
      "metadata": {
        "id": "AOpbTyc537Lm"
      },
      "source": [
        "# SECTION 03. 중첩 for문"
      ]
    },
    {
      "cell_type": "markdown",
      "metadata": {
        "id": "CQihJBdyYmVZ"
      },
      "source": [
        "### 1. 중첩 for문의 개념\n",
        "- 실행 횟수 : 바깥 for문 반복횟수 X 안쪽 for문 반복횟수"
      ]
    },
    {
      "cell_type": "code",
      "metadata": {
        "id": "U2gZXobTWa55",
        "colab": {
          "base_uri": "https://localhost:8080/"
        },
        "outputId": "c2211886-b1a3-44f5-eb73-93c2a0de3fb2"
      },
      "source": [
        "for i in range(0, 3, 1):\n",
        "    for k in range(0, 2, 1):\n",
        "        print(\"파이썬은 꿀잼입니다. ^^ (i값 :  %d, k값 : %d)\" % (i, k))"
      ],
      "execution_count": 12,
      "outputs": [
        {
          "output_type": "stream",
          "text": [
            "파이썬은 꿀잼입니다. ^^ (i값 :  0, k값 : 0)\n",
            "파이썬은 꿀잼입니다. ^^ (i값 :  0, k값 : 1)\n",
            "파이썬은 꿀잼입니다. ^^ (i값 :  1, k값 : 0)\n",
            "파이썬은 꿀잼입니다. ^^ (i값 :  1, k값 : 1)\n",
            "파이썬은 꿀잼입니다. ^^ (i값 :  2, k값 : 0)\n",
            "파이썬은 꿀잼입니다. ^^ (i값 :  2, k값 : 1)\n"
          ],
          "name": "stdout"
        }
      ]
    },
    {
      "cell_type": "markdown",
      "metadata": {
        "id": "eqEGikfEYt5J"
      },
      "source": [
        "### 2. 중첩 for문의 활용"
      ]
    },
    {
      "cell_type": "code",
      "metadata": {
        "id": "cbxdYUwQWbAY",
        "colab": {
          "base_uri": "https://localhost:8080/"
        },
        "outputId": "44acb838-57e0-4de3-bd90-b51f129b25c4"
      },
      "source": [
        "# Code06-07\n",
        "i, k = 0, 0\n",
        "\n",
        "for i in range(2, 10, 1):\n",
        "    for k in range(1, 10, 1):\n",
        "        print(\"%d X %d = %2d\" %(i, k, i * k))\n",
        "    print(\"\")"
      ],
      "execution_count": 13,
      "outputs": [
        {
          "output_type": "stream",
          "text": [
            "2 X 1 =  2\n",
            "2 X 2 =  4\n",
            "2 X 3 =  6\n",
            "2 X 4 =  8\n",
            "2 X 5 = 10\n",
            "2 X 6 = 12\n",
            "2 X 7 = 14\n",
            "2 X 8 = 16\n",
            "2 X 9 = 18\n",
            "\n",
            "3 X 1 =  3\n",
            "3 X 2 =  6\n",
            "3 X 3 =  9\n",
            "3 X 4 = 12\n",
            "3 X 5 = 15\n",
            "3 X 6 = 18\n",
            "3 X 7 = 21\n",
            "3 X 8 = 24\n",
            "3 X 9 = 27\n",
            "\n",
            "4 X 1 =  4\n",
            "4 X 2 =  8\n",
            "4 X 3 = 12\n",
            "4 X 4 = 16\n",
            "4 X 5 = 20\n",
            "4 X 6 = 24\n",
            "4 X 7 = 28\n",
            "4 X 8 = 32\n",
            "4 X 9 = 36\n",
            "\n",
            "5 X 1 =  5\n",
            "5 X 2 = 10\n",
            "5 X 3 = 15\n",
            "5 X 4 = 20\n",
            "5 X 5 = 25\n",
            "5 X 6 = 30\n",
            "5 X 7 = 35\n",
            "5 X 8 = 40\n",
            "5 X 9 = 45\n",
            "\n",
            "6 X 1 =  6\n",
            "6 X 2 = 12\n",
            "6 X 3 = 18\n",
            "6 X 4 = 24\n",
            "6 X 5 = 30\n",
            "6 X 6 = 36\n",
            "6 X 7 = 42\n",
            "6 X 8 = 48\n",
            "6 X 9 = 54\n",
            "\n",
            "7 X 1 =  7\n",
            "7 X 2 = 14\n",
            "7 X 3 = 21\n",
            "7 X 4 = 28\n",
            "7 X 5 = 35\n",
            "7 X 6 = 42\n",
            "7 X 7 = 49\n",
            "7 X 8 = 56\n",
            "7 X 9 = 63\n",
            "\n",
            "8 X 1 =  8\n",
            "8 X 2 = 16\n",
            "8 X 3 = 24\n",
            "8 X 4 = 32\n",
            "8 X 5 = 40\n",
            "8 X 6 = 48\n",
            "8 X 7 = 56\n",
            "8 X 8 = 64\n",
            "8 X 9 = 72\n",
            "\n",
            "9 X 1 =  9\n",
            "9 X 2 = 18\n",
            "9 X 3 = 27\n",
            "9 X 4 = 36\n",
            "9 X 5 = 45\n",
            "9 X 6 = 54\n",
            "9 X 7 = 63\n",
            "9 X 8 = 72\n",
            "9 X 9 = 81\n",
            "\n"
          ],
          "name": "stdout"
        }
      ]
    },
    {
      "cell_type": "code",
      "metadata": {
        "id": "upndUL3eZWn7",
        "colab": {
          "base_uri": "https://localhost:8080/"
        },
        "outputId": "ddc5ef5d-93bf-4432-a8dd-34586fea555d"
      },
      "source": [
        "# SELF STUDY 6-3\n",
        "i, k = 0, 0\n",
        "\n",
        "for i in range(2, 10, 1):\n",
        "    print(\"## %d단 ##\" % i)\n",
        "    for k in range(1, 10, 1):\n",
        "        print(\"%d X %d = %2d\" % (i, k, i * k))\n",
        "    print(\"\")"
      ],
      "execution_count": 14,
      "outputs": [
        {
          "output_type": "stream",
          "text": [
            "## 2단 ##\n",
            "2 X 1 =  2\n",
            "2 X 2 =  4\n",
            "2 X 3 =  6\n",
            "2 X 4 =  8\n",
            "2 X 5 = 10\n",
            "2 X 6 = 12\n",
            "2 X 7 = 14\n",
            "2 X 8 = 16\n",
            "2 X 9 = 18\n",
            "\n",
            "## 3단 ##\n",
            "3 X 1 =  3\n",
            "3 X 2 =  6\n",
            "3 X 3 =  9\n",
            "3 X 4 = 12\n",
            "3 X 5 = 15\n",
            "3 X 6 = 18\n",
            "3 X 7 = 21\n",
            "3 X 8 = 24\n",
            "3 X 9 = 27\n",
            "\n",
            "## 4단 ##\n",
            "4 X 1 =  4\n",
            "4 X 2 =  8\n",
            "4 X 3 = 12\n",
            "4 X 4 = 16\n",
            "4 X 5 = 20\n",
            "4 X 6 = 24\n",
            "4 X 7 = 28\n",
            "4 X 8 = 32\n",
            "4 X 9 = 36\n",
            "\n",
            "## 5단 ##\n",
            "5 X 1 =  5\n",
            "5 X 2 = 10\n",
            "5 X 3 = 15\n",
            "5 X 4 = 20\n",
            "5 X 5 = 25\n",
            "5 X 6 = 30\n",
            "5 X 7 = 35\n",
            "5 X 8 = 40\n",
            "5 X 9 = 45\n",
            "\n",
            "## 6단 ##\n",
            "6 X 1 =  6\n",
            "6 X 2 = 12\n",
            "6 X 3 = 18\n",
            "6 X 4 = 24\n",
            "6 X 5 = 30\n",
            "6 X 6 = 36\n",
            "6 X 7 = 42\n",
            "6 X 8 = 48\n",
            "6 X 9 = 54\n",
            "\n",
            "## 7단 ##\n",
            "7 X 1 =  7\n",
            "7 X 2 = 14\n",
            "7 X 3 = 21\n",
            "7 X 4 = 28\n",
            "7 X 5 = 35\n",
            "7 X 6 = 42\n",
            "7 X 7 = 49\n",
            "7 X 8 = 56\n",
            "7 X 9 = 63\n",
            "\n",
            "## 8단 ##\n",
            "8 X 1 =  8\n",
            "8 X 2 = 16\n",
            "8 X 3 = 24\n",
            "8 X 4 = 32\n",
            "8 X 5 = 40\n",
            "8 X 6 = 48\n",
            "8 X 7 = 56\n",
            "8 X 8 = 64\n",
            "8 X 9 = 72\n",
            "\n",
            "## 9단 ##\n",
            "9 X 1 =  9\n",
            "9 X 2 = 18\n",
            "9 X 3 = 27\n",
            "9 X 4 = 36\n",
            "9 X 5 = 45\n",
            "9 X 6 = 54\n",
            "9 X 7 = 63\n",
            "9 X 8 = 72\n",
            "9 X 9 = 81\n",
            "\n"
          ],
          "name": "stdout"
        }
      ]
    },
    {
      "cell_type": "code",
      "metadata": {
        "id": "kkHwfsSmaeZm",
        "colab": {
          "base_uri": "https://localhost:8080/"
        },
        "outputId": "33a1cb58-477a-453c-a612-a80c3363010d"
      },
      "source": [
        "## 전역 변수 선언 부분 ##\n",
        "i, k, guguLine = 0, 0, \"\"\n",
        "\n",
        "## 메인 코드 부분 ##\n",
        "for i in range(2, 10):\n",
        "    guguLine = guguLine + (\" #   %d단   # \" % i)\n",
        "\n",
        "print(guguLine)\n",
        "\n",
        "for i in range(1, 10):\n",
        "    guguLine = \"\"\n",
        "    for k in range(2, 10):\n",
        "        guguLine = guguLine + str(\"%3d X %2d = %2d\" % (k, i, k * i))\n",
        "    print(guguLine)"
      ],
      "execution_count": 15,
      "outputs": [
        {
          "output_type": "stream",
          "text": [
            " #   2단   #  #   3단   #  #   4단   #  #   5단   #  #   6단   #  #   7단   #  #   8단   #  #   9단   # \n",
            "  2 X  1 =  2  3 X  1 =  3  4 X  1 =  4  5 X  1 =  5  6 X  1 =  6  7 X  1 =  7  8 X  1 =  8  9 X  1 =  9\n",
            "  2 X  2 =  4  3 X  2 =  6  4 X  2 =  8  5 X  2 = 10  6 X  2 = 12  7 X  2 = 14  8 X  2 = 16  9 X  2 = 18\n",
            "  2 X  3 =  6  3 X  3 =  9  4 X  3 = 12  5 X  3 = 15  6 X  3 = 18  7 X  3 = 21  8 X  3 = 24  9 X  3 = 27\n",
            "  2 X  4 =  8  3 X  4 = 12  4 X  4 = 16  5 X  4 = 20  6 X  4 = 24  7 X  4 = 28  8 X  4 = 32  9 X  4 = 36\n",
            "  2 X  5 = 10  3 X  5 = 15  4 X  5 = 20  5 X  5 = 25  6 X  5 = 30  7 X  5 = 35  8 X  5 = 40  9 X  5 = 45\n",
            "  2 X  6 = 12  3 X  6 = 18  4 X  6 = 24  5 X  6 = 30  6 X  6 = 36  7 X  6 = 42  8 X  6 = 48  9 X  6 = 54\n",
            "  2 X  7 = 14  3 X  7 = 21  4 X  7 = 28  5 X  7 = 35  6 X  7 = 42  7 X  7 = 49  8 X  7 = 56  9 X  7 = 63\n",
            "  2 X  8 = 16  3 X  8 = 24  4 X  8 = 32  5 X  8 = 40  6 X  8 = 48  7 X  8 = 56  8 X  8 = 64  9 X  8 = 72\n",
            "  2 X  9 = 18  3 X  9 = 27  4 X  9 = 36  5 X  9 = 45  6 X  9 = 54  7 X  9 = 63  8 X  9 = 72  9 X  9 = 81\n"
          ],
          "name": "stdout"
        }
      ]
    },
    {
      "cell_type": "code",
      "metadata": {
        "id": "53IlzxNoaegs",
        "colab": {
          "base_uri": "https://localhost:8080/"
        },
        "outputId": "7ced6988-47ba-4b26-e8ef-6f149711e7d1"
      },
      "source": [
        "# SELF STUDY 6-4\n",
        "\n",
        "## 전역 변수 선언 부분 ##\n",
        "i, k, guguLine = 0, 0, \"\"\n",
        "\n",
        "## 메인 코드 부분 ##\n",
        "for i in range(9, 1, -1):\n",
        "    guguLine = guguLine + (\" #   %d단   # \" % i)\n",
        "\n",
        "print(guguLine)\n",
        "\n",
        "for i in range(9, 0, -1):\n",
        "    guguLine = \"\"\n",
        "    for k in range(9, 1, -1):\n",
        "        guguLine = guguLine + str(\"%3d X %2d = %2d\" % (k, i, k * i))\n",
        "    print(guguLine)"
      ],
      "execution_count": 16,
      "outputs": [
        {
          "output_type": "stream",
          "text": [
            " #   9단   #  #   8단   #  #   7단   #  #   6단   #  #   5단   #  #   4단   #  #   3단   #  #   2단   # \n",
            "  9 X  9 = 81  8 X  9 = 72  7 X  9 = 63  6 X  9 = 54  5 X  9 = 45  4 X  9 = 36  3 X  9 = 27  2 X  9 = 18\n",
            "  9 X  8 = 72  8 X  8 = 64  7 X  8 = 56  6 X  8 = 48  5 X  8 = 40  4 X  8 = 32  3 X  8 = 24  2 X  8 = 16\n",
            "  9 X  7 = 63  8 X  7 = 56  7 X  7 = 49  6 X  7 = 42  5 X  7 = 35  4 X  7 = 28  3 X  7 = 21  2 X  7 = 14\n",
            "  9 X  6 = 54  8 X  6 = 48  7 X  6 = 42  6 X  6 = 36  5 X  6 = 30  4 X  6 = 24  3 X  6 = 18  2 X  6 = 12\n",
            "  9 X  5 = 45  8 X  5 = 40  7 X  5 = 35  6 X  5 = 30  5 X  5 = 25  4 X  5 = 20  3 X  5 = 15  2 X  5 = 10\n",
            "  9 X  4 = 36  8 X  4 = 32  7 X  4 = 28  6 X  4 = 24  5 X  4 = 20  4 X  4 = 16  3 X  4 = 12  2 X  4 =  8\n",
            "  9 X  3 = 27  8 X  3 = 24  7 X  3 = 21  6 X  3 = 18  5 X  3 = 15  4 X  3 = 12  3 X  3 =  9  2 X  3 =  6\n",
            "  9 X  2 = 18  8 X  2 = 16  7 X  2 = 14  6 X  2 = 12  5 X  2 = 10  4 X  2 =  8  3 X  2 =  6  2 X  2 =  4\n",
            "  9 X  1 =  9  8 X  1 =  8  7 X  1 =  7  6 X  1 =  6  5 X  1 =  5  4 X  1 =  4  3 X  1 =  3  2 X  1 =  2\n"
          ],
          "name": "stdout"
        }
      ]
    },
    {
      "cell_type": "markdown",
      "metadata": {
        "id": "9Fm3zOnQWYc9"
      },
      "source": [
        "#SECTION 04. while문"
      ]
    },
    {
      "cell_type": "markdown",
      "metadata": {
        "id": "ap7xFADacVPn"
      },
      "source": [
        "### 1. for문과 while문 비교\n",
        "- for문은 반복 횟수를 결정하고\n",
        "- while문은 조건식이 참일 대 반복하는 방식을 사용\n",
        "\n",
        "```\n",
        "변수 = 시작값\n",
        "\n",
        "while 변수 < 끝값:\n",
        "    이 부분을 반복\n",
        "    변수 = 변수 + 증가값\n",
        "```\n"
      ]
    },
    {
      "cell_type": "code",
      "metadata": {
        "id": "BIHGgnhYWaS1",
        "colab": {
          "base_uri": "https://localhost:8080/"
        },
        "outputId": "28824448-f9c7-4c43-88a4-9c9d3ea202bd"
      },
      "source": [
        "for i in range(0, 3, 1):\n",
        "    print(\"%d : 안녕 하세요? for문을 공부 중입니다. ^^\" % i)"
      ],
      "execution_count": 17,
      "outputs": [
        {
          "output_type": "stream",
          "text": [
            "0 : 안녕 하세요? for문을 공부 중입니다. ^^\n",
            "1 : 안녕 하세요? for문을 공부 중입니다. ^^\n",
            "2 : 안녕 하세요? for문을 공부 중입니다. ^^\n"
          ],
          "name": "stdout"
        }
      ]
    },
    {
      "cell_type": "code",
      "metadata": {
        "id": "nYUFgRulc2_1",
        "colab": {
          "base_uri": "https://localhost:8080/"
        },
        "outputId": "e465de84-74c2-4f5e-d532-d72d9603fd7f"
      },
      "source": [
        "i = 0\n",
        "while i < 3:\n",
        "    print(\"%d : 안녕 하세요? while문을 공부 중입니다. ^^\" % i)\n",
        "    i = i + 1"
      ],
      "execution_count": 18,
      "outputs": [
        {
          "output_type": "stream",
          "text": [
            "0 : 안녕 하세요? while문을 공부 중입니다. ^^\n",
            "1 : 안녕 하세요? while문을 공부 중입니다. ^^\n",
            "2 : 안녕 하세요? while문을 공부 중입니다. ^^\n"
          ],
          "name": "stdout"
        }
      ]
    },
    {
      "cell_type": "code",
      "metadata": {
        "id": "tm0FVZ_nc3EJ",
        "colab": {
          "base_uri": "https://localhost:8080/"
        },
        "outputId": "edd96444-e94c-42ac-99b7-c145b46c58a8"
      },
      "source": [
        "# Code06-09\n",
        "i, hap = 0, 0\n",
        "\n",
        "i = 1\n",
        "while i < 11:\n",
        "    hap = hap + i\n",
        "    i = i + 1\n",
        "print(\"1에서 10까지의 합계 : %d\" % hap)"
      ],
      "execution_count": 19,
      "outputs": [
        {
          "output_type": "stream",
          "text": [
            "1에서 10까지의 합계 : 55\n"
          ],
          "name": "stdout"
        }
      ]
    },
    {
      "cell_type": "code",
      "metadata": {
        "id": "xBcy172kc3Hb",
        "colab": {
          "base_uri": "https://localhost:8080/"
        },
        "outputId": "df0af2f2-06b5-48c6-967f-1cc4c9e4f0a0"
      },
      "source": [
        "# SELF STUDY 6-5 (Code06-05 → while문)\n",
        "i, hap = 0, 0\n",
        "num1, num2, num3 = 0, 0, 0\n",
        "\n",
        "num1 = int(input(\"시작값을 입력하세요 : \"))\n",
        "num2 = int(input(\"끝값을 입력하세요 : \"))\n",
        "num3 = int(input(\"증가값을 입력하세요 : \"))\n",
        "\n",
        "i = num1\n",
        "while (i < num2 + 1):\n",
        "    hap = hap + i\n",
        "\n",
        "    i = i + num3\n",
        "print(\"%d에서 %d까지 %d씩 증가시킨 값의 합계 : %d\" % (num1, num2, num3, hap))"
      ],
      "execution_count": 20,
      "outputs": [
        {
          "output_type": "stream",
          "text": [
            "시작값을 입력하세요 : 1\n",
            "끝값을 입력하세요 : 100\n",
            "증가값을 입력하세요 : 3\n",
            "1에서 100까지 3씩 증가시킨 값의 합계 : 1717\n"
          ],
          "name": "stdout"
        }
      ]
    },
    {
      "cell_type": "markdown",
      "metadata": {
        "id": "coS7T2jrgkJY"
      },
      "source": [
        "### 2. 무한 루프를 하는 while문\n",
        "- Ctrl + C : 중지\n",
        "\n"
      ]
    },
    {
      "cell_type": "code",
      "metadata": {
        "id": "HNR1yeXbc3K1",
        "colab": {
          "base_uri": "https://localhost:8080/"
        },
        "outputId": "faa8df41-398d-453a-86d2-ed9c99b86f9b"
      },
      "source": [
        "# Code06-11\n",
        "ch = \"\"\n",
        "a, b = 0, 0\n",
        "\n",
        "while True:\n",
        "    a = int(input(\"더할 첫 번째 수를 입력하세요 : \"))\n",
        "    b = int(input(\"더할 두 번째 수를 입력하세요 : \"))\n",
        "    ch = input(\"계산할 연산자를 입력하세요 : \")\n",
        "\n",
        "    if (ch ==\"+\"):\n",
        "        print(\"%d + %d = %d\" % (a, b, a + b))\n",
        "    elif (ch ==\"-\"):\n",
        "        print(\"%d + %d = %d\" % (a, b, a - b))\n",
        "    elif (ch ==\"*\"):\n",
        "        print(\"%d * %d = %d\" % (a, b, a * b))\n",
        "    elif (ch ==\"/\"):\n",
        "        print(\"%d / %d = %d\" % (a, b, a / b))\n",
        "    elif (ch ==\"%\"):\n",
        "        print(\"%d %% %d = %d\" % (a, b, a % b))\n",
        "    elif (ch ==\"//\"):\n",
        "        print(\"%d // %d = %d\" % (a, b, a // b))\n",
        "    elif (ch ==\"**\"):\n",
        "        print(\"%d ** %d = %d\" % (a, b, a ** b))\n",
        "    else:\n",
        "        print(\"연산자를 잘못 입력했습니다.\")"
      ],
      "execution_count": null,
      "outputs": [
        {
          "output_type": "stream",
          "text": [
            "더할 첫 번째 수를 입력하세요 : 4\n",
            "더할 두 번째 수를 입력하세요 : 5\n",
            "계산할 연산자를 입력하세요 : *\n",
            "4 * 5 = 20\n"
          ],
          "name": "stdout"
        }
      ]
    },
    {
      "cell_type": "markdown",
      "metadata": {
        "id": "1eMK4QHWWYiS"
      },
      "source": [
        "#SECTION 05. break문과 continue문"
      ]
    },
    {
      "cell_type": "code",
      "metadata": {
        "id": "ZGtENiTRWZOl",
        "colab": {
          "base_uri": "https://localhost:8080/"
        },
        "outputId": "d6d208fc-e180-45ad-9707-ac9bd1848a4c"
      },
      "source": [
        "# Code06-12\n",
        "hap = 0\n",
        "a, b = 0, 0\n",
        "\n",
        "while True:\n",
        "    a = int(input(\"더할 첫 번째 수를 입력하세요 : \"))\n",
        "    if a == 0:\n",
        "        break\n",
        "    b = int(input(\"더할 두 번째 수를 입력하세요 : \"))\n",
        "    hap = a + b\n",
        "    print(\"%d + %d = %d\" % (a, b, hap))\n",
        "\n",
        "print(\"0을 입력해 반복문을 탈출했습니다.\")"
      ],
      "execution_count": 23,
      "outputs": [
        {
          "output_type": "stream",
          "text": [
            "더할 첫 번째 수를 입력하세요 : 1\n",
            "더할 두 번째 수를 입력하세요 : 5\n",
            "1 + 5 = 6\n",
            "더할 첫 번째 수를 입력하세요 : 0\n",
            "0을 입력해 반복문을 탈출했습니다.\n"
          ],
          "name": "stdout"
        }
      ]
    },
    {
      "cell_type": "code",
      "metadata": {
        "id": "eHj5ZWnQWZYb",
        "colab": {
          "base_uri": "https://localhost:8080/"
        },
        "outputId": "a0daad13-116e-4470-964c-1865c94bc828"
      },
      "source": [
        "# SELF STUDY 6-6\n",
        "hap = 0\n",
        "a, b = 0, 0\n",
        "\n",
        "while True:\n",
        "    a = input(\"더할 첫 번째 수를 입력하세요 : \")\n",
        "    if a == '$':\n",
        "        break\n",
        "    else:\n",
        "        a = int(a)\n",
        "    b = int(input(\"더할 두 번째 수를 입력하세요 : \"))\n",
        "    hap = a + b\n",
        "    print(\"%d + %d = %d\" % (a, b, hap))\n",
        "\n",
        "print(\"$을 입력해 반복문을 탈출했습니다.\")"
      ],
      "execution_count": 24,
      "outputs": [
        {
          "output_type": "stream",
          "text": [
            "더할 첫 번째 수를 입력하세요 : 4\n",
            "더할 두 번째 수를 입력하세요 : 5\n",
            "4 + 5 = 9\n",
            "더할 첫 번째 수를 입력하세요 : $\n",
            "$을 입력해 반복문을 탈출했습니다.\n"
          ],
          "name": "stdout"
        }
      ]
    },
    {
      "cell_type": "code",
      "metadata": {
        "id": "7MRUfVTNWUa_",
        "colab": {
          "base_uri": "https://localhost:8080/"
        },
        "outputId": "0576c713-e9a0-482b-81b8-77b295e02b61"
      },
      "source": [
        "# Code06-13\n",
        "hap, i = 0, 0\n",
        "\n",
        "for i in range(1, 101):\n",
        "    hap += i\n",
        "    \n",
        "    if hap >= 1000:\n",
        "        break\n",
        "\n",
        "print(\"1~100의 합계를 최초로 1000이 넘게 하는 숫자 : %d\" % i)"
      ],
      "execution_count": 25,
      "outputs": [
        {
          "output_type": "stream",
          "text": [
            "1~100의 합계를 최초로 1000이 넘게 하는 숫자 : 45\n"
          ],
          "name": "stdout"
        }
      ]
    },
    {
      "cell_type": "code",
      "metadata": {
        "id": "rOf6bAx0k9yP",
        "colab": {
          "base_uri": "https://localhost:8080/"
        },
        "outputId": "19921c88-c9ba-4713-c266-bcf58950e008"
      },
      "source": [
        "# SELF STUDY 6-7 (Code06-13 → while문)\n",
        "hap, i = 0, 0\n",
        "\n",
        "while True :\n",
        "    i += 1\n",
        "    hap = hap + i\n",
        "    \n",
        "    # print(i, hap)\n",
        "\n",
        "    if hap >= 1000:\n",
        "        break\n",
        "\n",
        "print(\"1~100의 합계를 최초로 1000이 넘게 하는 숫자 : %d\" % i)"
      ],
      "execution_count": 26,
      "outputs": [
        {
          "output_type": "stream",
          "text": [
            "1~100의 합계를 최초로 1000이 넘게 하는 숫자 : 45\n"
          ],
          "name": "stdout"
        }
      ]
    },
    {
      "cell_type": "code",
      "metadata": {
        "id": "pOK4DRMvllrQ",
        "colab": {
          "base_uri": "https://localhost:8080/"
        },
        "outputId": "9263614b-3f18-41c9-84b9-527cadf7cbf8"
      },
      "source": [
        "# Code06-14\n",
        "hap, i = 0, 0\n",
        "\n",
        "for i in range(1, 101) :\n",
        "    if i % 3 == 0:\n",
        "        continue\n",
        "\n",
        "    hap += i\n",
        "\n",
        "print(\"1~100의 합계(3의 배수 제외) : %d\" % hap)"
      ],
      "execution_count": 27,
      "outputs": [
        {
          "output_type": "stream",
          "text": [
            "1~100의 합계(3의 배수 제외) : 3367\n"
          ],
          "name": "stdout"
        }
      ]
    },
    {
      "cell_type": "code",
      "metadata": {
        "id": "d_sH_N-ZmUO-",
        "colab": {
          "base_uri": "https://localhost:8080/"
        },
        "outputId": "82523909-5664-4cdb-9d42-e6f59c734f5e"
      },
      "source": [
        "print('\\u2605')"
      ],
      "execution_count": 28,
      "outputs": [
        {
          "output_type": "stream",
          "text": [
            "★\n"
          ],
          "name": "stdout"
        }
      ]
    },
    {
      "cell_type": "code",
      "metadata": {
        "id": "KqCLTjIzm2hY",
        "colab": {
          "base_uri": "https://localhost:8080/"
        },
        "outputId": "49181c15-8bae-41c3-a67f-efdf932a936d"
      },
      "source": [
        "# Code06-15\n",
        "\n",
        "## 전역 변수 선언 부분 ##\n",
        "i, k = 0,0\n",
        "\n",
        "## 메인 코드 부분 ##\n",
        "i = 0\n",
        "while i < 9:\n",
        "    if i < 5:\n",
        "        k = 0\n",
        "        while k < 4 - i:\n",
        "            print('  ', end = '')\n",
        "            k += 1\n",
        "        k = 0\n",
        "        while k < i * 2 + 1:\n",
        "            print('\\u2605', end = '')\n",
        "            k += 1\n",
        "    else:\n",
        "        k = 0\n",
        "        while k < i - 4:\n",
        "            print('  ', end = '')\n",
        "            k += 1\n",
        "        k = 0\n",
        "        while k < (9 - i) * 2 - 1:\n",
        "            print('\\u2605', end = '')\n",
        "            k += 1\n",
        "    print()\n",
        "    i += 1"
      ],
      "execution_count": 29,
      "outputs": [
        {
          "output_type": "stream",
          "text": [
            "        ★\n",
            "      ★★★\n",
            "    ★★★★★\n",
            "  ★★★★★★★\n",
            "★★★★★★★★★\n",
            "  ★★★★★★★\n",
            "    ★★★★★\n",
            "      ★★★\n",
            "        ★\n"
          ],
          "name": "stdout"
        }
      ]
    },
    {
      "cell_type": "code",
      "metadata": {
        "id": "6Kov_v3AxHX1",
        "colab": {
          "base_uri": "https://localhost:8080/"
        },
        "outputId": "60c2b21c-9c7a-4ef7-ae1e-b2371520813d"
      },
      "source": [
        "# SELF STUDY 6-8\n",
        "\n",
        "## 전역 변수 선언 부분 ##\n",
        "i, k = 0, 0\n",
        "\n",
        "## 메인 코드 부분 ##\n",
        "i = 0\n",
        "while i < 9:\n",
        "    if i < 5:\n",
        "        k = 0\n",
        "        while k < 4 - i:\n",
        "            print('  ', end = '')\n",
        "            k += 1\n",
        "        k = 0\n",
        "        while k < i * 2 + 1:\n",
        "            print('\\u2605', end = '')\n",
        "            k += 1\n",
        "    else:\n",
        "        k = 0\n",
        "        while k < i - 4:\n",
        "            print('  ', end = '')\n",
        "            k += 1\n",
        "        k = 0\n",
        "        while k < (9 - i) * 2 - 1:\n",
        "            print('\\u2605', end = '')\n",
        "            k += 1\n",
        "    print()\n",
        "    i += 1"
      ],
      "execution_count": 30,
      "outputs": [
        {
          "output_type": "stream",
          "text": [
            "        ★\n",
            "      ★★★\n",
            "    ★★★★★\n",
            "  ★★★★★★★\n",
            "★★★★★★★★★\n",
            "  ★★★★★★★\n",
            "    ★★★★★\n",
            "      ★★★\n",
            "        ★\n"
          ],
          "name": "stdout"
        }
      ]
    },
    {
      "cell_type": "code",
      "metadata": {
        "id": "TiU7sS55xKow",
        "colab": {
          "base_uri": "https://localhost:8080/"
        },
        "outputId": "b3b11145-f43a-4239-8797-76200e7ee0d3"
      },
      "source": [
        "## 전역 변수 선언 부분 ##\n",
        "i, k = 0, 0\n",
        "\n",
        "## 메인 코드 부분 ##\n",
        "for i in range(0, 9):\n",
        "    if i < 5:\n",
        "        k = 0\n",
        "        for k in range(0, 4 - i):\n",
        "            print('  ', end = '')\n",
        "        k = 0\n",
        "        for k in range(0, i * 2 + 1):\n",
        "            print('\\u2665', end = '')\n",
        "    else:\n",
        "        k = 0\n",
        "        for k in range(0, i - 4):\n",
        "            print('  ', end = '')\n",
        "        k = 0\n",
        "        for k in range(0, (9 - i) * 2 - 1):\n",
        "            print('\\u2665', end = '')\n",
        "    print()\n",
        "    i += 1"
      ],
      "execution_count": 31,
      "outputs": [
        {
          "output_type": "stream",
          "text": [
            "        ♥\n",
            "      ♥♥♥\n",
            "    ♥♥♥♥♥\n",
            "  ♥♥♥♥♥♥♥\n",
            "♥♥♥♥♥♥♥♥♥\n",
            "  ♥♥♥♥♥♥♥\n",
            "    ♥♥♥♥♥\n",
            "      ♥♥♥\n",
            "        ♥\n"
          ],
          "name": "stdout"
        }
      ]
    },
    {
      "cell_type": "markdown",
      "metadata": {
        "id": "RqWr807n515B"
      },
      "source": [
        "# 연습문제"
      ]
    },
    {
      "cell_type": "code",
      "metadata": {
        "id": "i7yIuXhA53rT",
        "colab": {
          "base_uri": "https://localhost:8080/"
        },
        "outputId": "a7c28727-5c6d-4af1-a22b-40f4f7513cee"
      },
      "source": [
        "# 5번 (Code06-06 참고)\n",
        "i, dan = 0, 0\n",
        "\n",
        "dan = int(input(\"단을 입력하세요 : \"))\n",
        "\n",
        "for i in range(9, 0, -1):\n",
        "    print(\"%d X %d = %2d\" % (dan, i, dan * i))"
      ],
      "execution_count": 32,
      "outputs": [
        {
          "output_type": "stream",
          "text": [
            "단을 입력하세요 : 9\n",
            "9 X 9 = 81\n",
            "9 X 8 = 72\n",
            "9 X 7 = 63\n",
            "9 X 6 = 54\n",
            "9 X 5 = 45\n",
            "9 X 4 = 36\n",
            "9 X 3 = 27\n",
            "9 X 2 = 18\n",
            "9 X 1 =  9\n"
          ],
          "name": "stdout"
        }
      ]
    },
    {
      "cell_type": "code",
      "metadata": {
        "id": "VTxQ8g3e533s",
        "colab": {
          "base_uri": "https://localhost:8080/"
        },
        "outputId": "dd357c36-c955-49a5-be1e-f953acaf64bc"
      },
      "source": [
        "# 7번 (Code06-13 참고)\n",
        "hap, i = 0, 0\n",
        "\n",
        "for i in range(1, 1001, +2):\n",
        "    hap += i\n",
        "    \n",
        "    if hap >= 1000:\n",
        "        break\n",
        "\n",
        "print(\"1과 1000 사이에 있는 홀수의 합계를 최초로 1000이 넘게 하는 숫자 : %d\" % i)"
      ],
      "execution_count": 33,
      "outputs": [
        {
          "output_type": "stream",
          "text": [
            "1과 1000 사이에 있는 홀수의 합계를 최초로 1000이 넘게 하는 숫자 : 63\n"
          ],
          "name": "stdout"
        }
      ]
    }
  ]
}