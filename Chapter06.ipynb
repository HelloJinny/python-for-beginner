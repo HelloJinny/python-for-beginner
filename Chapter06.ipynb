{
  "nbformat": 4,
  "nbformat_minor": 0,
  "metadata": {
    "colab": {
      "name": "Chapter06.ipynb",
      "private_outputs": true,
      "provenance": [],
      "collapsed_sections": [],
      "authorship_tag": "ABX9TyO0HR9L3NqoRyY3PMFQbWKZ",
      "include_colab_link": true
    },
    "kernelspec": {
      "name": "python3",
      "display_name": "Python 3"
    },
    "language_info": {
      "name": "python"
    }
  },
  "cells": [
    {
      "cell_type": "markdown",
      "metadata": {
        "id": "view-in-github",
        "colab_type": "text"
      },
      "source": [
        "<a href=\"https://colab.research.google.com/github/HelloJinny/python-for-beginner/blob/master/Chapter06.ipynb\" target=\"_parent\"><img src=\"https://colab.research.google.com/assets/colab-badge.svg\" alt=\"Open In Colab\"/></a>"
      ]
    },
    {
      "cell_type": "markdown",
      "metadata": {
        "id": "ny1Qjosf4BBe"
      },
      "source": [
        "# SECTION02. 기본 for문"
      ]
    },
    {
      "cell_type": "markdown",
      "metadata": {
        "id": "zyWOKRY4Nuno"
      },
      "source": [
        "### 1. 반복문의 개념과 필요소성"
      ]
    },
    {
      "cell_type": "code",
      "metadata": {
        "id": "T2iK6BJz34sT"
      },
      "source": [
        "print(\"안녕하세요? for 문을 공부 중입니다. ^^\")\n",
        "print(\"안녕하세요? for 문을 공부 중입니다. ^^\")\n",
        "print(\"안녕하세요? for 문을 공부 중입니다. ^^\")"
      ],
      "execution_count": null,
      "outputs": []
    },
    {
      "cell_type": "markdown",
      "metadata": {
        "id": "Hqqu2rnxNn4p"
      },
      "source": [
        "### 2. for문의 개념"
      ]
    },
    {
      "cell_type": "code",
      "metadata": {
        "id": "m2OjtvMz4Lbl"
      },
      "source": [
        "# range() 함수 : 지정된 범위의 값을 반환\n",
        "# (0, 3, 1) : 0에서 시작해 2까지 1씩 증가하는 값을 반환 = [0, 1, 2]\n",
        "# i 대신 _(언더바) 사용 가능\n",
        "\n",
        "for i in range(0, 3, 1):\n",
        "    print(\"안녕하세요? for 문을 공부 중입니다. ^^\")"
      ],
      "execution_count": null,
      "outputs": []
    },
    {
      "cell_type": "markdown",
      "metadata": {
        "id": "JjJ57xCq4-Ux"
      },
      "source": [
        "```\n",
        "for 변수 in  range(시작값, 끝값+1, 증가값):\n",
        "    이 부분을 반복\n",
        "```"
      ]
    },
    {
      "cell_type": "code",
      "metadata": {
        "id": "NEgKIDEr4V0v"
      },
      "source": [
        "for i in range(1, 6, 1):\n",
        "    print(\"%d \" % i , end = \" \")"
      ],
      "execution_count": null,
      "outputs": []
    },
    {
      "cell_type": "markdown",
      "metadata": {
        "id": "NFYTO_6HN3zF"
      },
      "source": [
        "### 3. for문을 이용한 합계 구하기"
      ]
    },
    {
      "cell_type": "code",
      "metadata": {
        "id": "Lh0urpMU4WLi"
      },
      "source": [
        "hap = 1 +2 + 3 + 4 +5 + 6 +7 + 8 + 9 +  10\n",
        "print(\"1에서 10까지의 합계 : %d\" % hap)"
      ],
      "execution_count": null,
      "outputs": []
    },
    {
      "cell_type": "code",
      "metadata": {
        "id": "bCOZerv3N7Ff"
      },
      "source": [
        "# 1부터 10까지 변할 i 변수 준비\n",
        "\n",
        "# for i 변수가 1을 시작으로 10까지 1씩 증가\n",
        "#     hap에 i값을 더해 줌\n",
        "\n",
        "# hap값 출력\n",
        "\n",
        "i, hap  = 0, 0\n",
        "\n",
        "for i in range(1, 11, 1):\n",
        "    hap = hap + i\n",
        "\n",
        "print(\"1에서 10까지의 합계 : %d\" % hap)"
      ],
      "execution_count": null,
      "outputs": []
    },
    {
      "cell_type": "code",
      "metadata": {
        "id": "nUdkJaO0N7Ja"
      },
      "source": [
        "i, hap = 0, 0\n",
        "\n",
        "for i in range(501, 1001, 2):\n",
        "    hap = hap + i\n",
        "\n",
        "print(\"500과 1000 사이에 있는 홀수의 합계 : %d\" %hap)"
      ],
      "execution_count": null,
      "outputs": []
    },
    {
      "cell_type": "code",
      "metadata": {
        "id": "vOTVeAKvN7L7"
      },
      "source": [
        "# SELF STUDY 6-1\n",
        "i, hap = 0 , 0\n",
        "\n",
        "for i in range(0, 101, 7):\n",
        "    hap = hap + i\n",
        "\n",
        "print(\"0과 100 사이에 있는 7의 배수 합계 : %d\" %hap)"
      ],
      "execution_count": null,
      "outputs": []
    },
    {
      "cell_type": "markdown",
      "metadata": {
        "id": "cOLWmQ5pQMJW"
      },
      "source": [
        "#### 4. 키보드로 입력한 값까지 합계 구하기"
      ]
    },
    {
      "cell_type": "code",
      "metadata": {
        "id": "5Sdlo8WiN7O0"
      },
      "source": [
        "i, hap = 0, 0\n",
        "num = 0\n",
        "\n",
        "num = int(input(\"값을 입력하세요 : \"))\n",
        "\n",
        "for i in range(1, num + 1, 1):\n",
        "    hap = hap + i\n",
        "\n",
        "print(\"1에서 %d까지의 합계 : %d\" % (num, hap))"
      ],
      "execution_count": null,
      "outputs": []
    },
    {
      "cell_type": "code",
      "metadata": {
        "id": "OTUtaqrxR7Qd"
      },
      "source": [
        "i, hap = 0, 0\n",
        "num1, num2, num3 = 0, 0, 0\n",
        "\n",
        "num1 = int(input(\"시작값을 입력하세요 : \"))\n",
        "num2 = int(input(\"끝값을 입력하세요 : \"))\n",
        "num3 = int(input(\"증가값을 입력하세요 : \"))\n",
        "\n",
        "for i in range(num1, num2 + 1, num3):\n",
        "    hap = hap +i\n",
        "print(\"%d에서 %d까지 %d씩 증가시킨 값의 합계 : %d\" % (num1, num2, num3, hap))"
      ],
      "execution_count": null,
      "outputs": []
    },
    {
      "cell_type": "code",
      "metadata": {
        "id": "7uMVM9TCSzwq"
      },
      "source": [
        "i, dan = 0, 0\n",
        "\n",
        "dan = int(input(\"단을 입력하세요 : :\"))\n",
        "\n",
        "for i in range(1, 10, 1):\n",
        "    print(\"%d X %d = %2d\" % (dan, i, dan * i))"
      ],
      "execution_count": null,
      "outputs": []
    },
    {
      "cell_type": "code",
      "metadata": {
        "id": "i4sDHLxHUWNT"
      },
      "source": [
        "# SELF STUDY 6-2\n",
        "\n",
        "i, dan = 0, 0\n",
        "\n",
        "dan = int(input(\"단을 입력하세요 : :\"))\n",
        "\n",
        "for i in range(9, 0, -1):\n",
        "    print(\"%d X %d = %2d\" % (i, dan, dan * i))"
      ],
      "execution_count": null,
      "outputs": []
    },
    {
      "cell_type": "markdown",
      "metadata": {
        "id": "AOpbTyc537Lm"
      },
      "source": [
        "# SECTION 03. 중첩 for문"
      ]
    },
    {
      "cell_type": "markdown",
      "metadata": {
        "id": "CQihJBdyYmVZ"
      },
      "source": [
        "### 1. 중첩 for문의 개념\n",
        "- 실행 횟수 : 바깥 for문 반복횟수 X 안쪽 for문 반복횟수"
      ]
    },
    {
      "cell_type": "code",
      "metadata": {
        "id": "U2gZXobTWa55"
      },
      "source": [
        "for i in range(0, 3, 1):\n",
        "    for k in range(0, 2, 1):\n",
        "        print(\"파이썬은 꿀잼입니다. ^^ (i값 :  %d, k값 : %d)\" % (i, k))"
      ],
      "execution_count": null,
      "outputs": []
    },
    {
      "cell_type": "markdown",
      "metadata": {
        "id": "eqEGikfEYt5J"
      },
      "source": [
        "### 2. 중첩 for문의 활용"
      ]
    },
    {
      "cell_type": "code",
      "metadata": {
        "id": "cbxdYUwQWbAY"
      },
      "source": [
        "i, k = 0, 0\n",
        "\n",
        "for i in range(2, 10, 1):\n",
        "    for k in range(1, 10, 1):\n",
        "        print(\"%d X %d = %2d\" %(i, k, i * k))\n",
        "    print(\"\")"
      ],
      "execution_count": null,
      "outputs": []
    },
    {
      "cell_type": "code",
      "metadata": {
        "id": "upndUL3eZWn7"
      },
      "source": [
        "# SELF STUDY 6-3\n",
        "\n",
        "i, k = 0, 0\n",
        "\n",
        "for i in range(2, 10, 1):\n",
        "    print(\"## %d단 ##\" % i)\n",
        "    for k in range(1, 10, 1):\n",
        "        print(\"%d X %d = %2d\" % (i, k, i * k))\n",
        "    print(\"\")"
      ],
      "execution_count": null,
      "outputs": []
    },
    {
      "cell_type": "code",
      "metadata": {
        "id": "kkHwfsSmaeZm"
      },
      "source": [
        "## 전역 변수 선언 부분 ##\n",
        "i, k, guguLine = 0, 0, \"\"\n",
        "\n",
        "## 메인 코드 부분 ##\n",
        "for i in range(2, 10):\n",
        "    guguLine = guguLine + (\" #   %d단   # \" % i)\n",
        "\n",
        "print(guguLine)\n",
        "\n",
        "for i in range(1, 10):\n",
        "    guguLine = \"\"\n",
        "    for k in range(2, 10):\n",
        "        guguLine = guguLine + str(\"%3d X %2d = %2d\" % (k, i, k * i))\n",
        "    print(guguLine)"
      ],
      "execution_count": null,
      "outputs": []
    },
    {
      "cell_type": "code",
      "metadata": {
        "id": "53IlzxNoaegs"
      },
      "source": [
        "# SELF STUDY 6-4\n",
        "\n",
        "## 전역 변수 선언 부분 ##\n",
        "i, k, guguLine = 0, 0, \"\"\n",
        "\n",
        "## 메인 코드 부분 ##\n",
        "for i in range(9, 1, -1):\n",
        "    guguLine = guguLine + (\" #   %d단   # \" % i)\n",
        "\n",
        "print(guguLine)\n",
        "\n",
        "for i in range(9, 0, -1):\n",
        "    guguLine = \"\"\n",
        "    for k in range(9, 1, -1):\n",
        "        guguLine = guguLine + str(\"%3d X %2d = %2d\" % (k, i, k * i))\n",
        "    print(guguLine)"
      ],
      "execution_count": null,
      "outputs": []
    },
    {
      "cell_type": "markdown",
      "metadata": {
        "id": "9Fm3zOnQWYc9"
      },
      "source": [
        "#SECTION 04. while문"
      ]
    },
    {
      "cell_type": "markdown",
      "metadata": {
        "id": "ap7xFADacVPn"
      },
      "source": [
        "### 1. for문과 while문 비교\n",
        "- for문은 반복 횟수를 결정하고\n",
        "- while문은 조건식이 참일 대 반복하는 방식을 사용\n",
        "\n",
        "```\n",
        "변수 = 시작값\n",
        "\n",
        "while 변수 < 끝값:\n",
        "    이 부분을 반복\n",
        "    변수 = 변수 + 증가값\n",
        "```\n"
      ]
    },
    {
      "cell_type": "code",
      "metadata": {
        "id": "BIHGgnhYWaS1"
      },
      "source": [
        "for i in range(0, 3, 1):\n",
        "    print(\"%d : 안녕 하세요? for문을 공부 중입니다. ^^\" % i)"
      ],
      "execution_count": null,
      "outputs": []
    },
    {
      "cell_type": "code",
      "metadata": {
        "id": "nYUFgRulc2_1"
      },
      "source": [
        "i = 0\n",
        "while i < 3:\n",
        "    print(\"%d : 안녕 하세요? while문을 공부 중입니다. ^^\" % i)\n",
        "    i = i + 1"
      ],
      "execution_count": null,
      "outputs": []
    },
    {
      "cell_type": "code",
      "metadata": {
        "id": "tm0FVZ_nc3EJ"
      },
      "source": [
        "i, hap = 0, 0\n",
        "\n",
        "i = 1\n",
        "while i < 11:\n",
        "    hap = hap + i\n",
        "    i = i + 1\n",
        "print(\"1에서 10까지의 합계 : %d\" % hap)"
      ],
      "execution_count": null,
      "outputs": []
    },
    {
      "cell_type": "code",
      "metadata": {
        "id": "xBcy172kc3Hb"
      },
      "source": [
        "i, hap = 0, 0\n",
        "num1, num2, num3 = 0, 0, 0\n",
        "\n",
        "num1 = int(input(\"시작값을 입력하세요 : \"))\n",
        "num2 = int(input(\"끝값을 입력하세요 : \"))\n",
        "num3 = int(input(\"증가값을 입력하세요 : \"))\n",
        "\n",
        "i = num1\n",
        "while (i < num2 + 1):\n",
        "    hap = hap + i\n",
        "\n",
        "    i = i + num3\n",
        "print(\"%d에서 %d까지 %d씩 증가시킨 값의 합계 : %d\" % (num1, num2, num3, hap))"
      ],
      "execution_count": null,
      "outputs": []
    },
    {
      "cell_type": "markdown",
      "metadata": {
        "id": "coS7T2jrgkJY"
      },
      "source": [
        "### 2. 무한 루프를 하는 while문\n",
        "- Ctrl + C : 중지\n",
        "\n"
      ]
    },
    {
      "cell_type": "code",
      "metadata": {
        "id": "HNR1yeXbc3K1"
      },
      "source": [
        "ch = \"\"\n",
        "a, b = 0, 03\n",
        "\n",
        "while True:\n",
        "    a = int(input(\"더할 첫 번째 수를 입력하세요 : \"))\n",
        "    b = int(input(\"더할 두 번째 수를 입력하세요 : \"))\n",
        "    ch = input(\"계산할 연산자를 입력하세요 : \")\n",
        "\n",
        "    if (ch ==\"+\"):\n",
        "        print(\"%d + %d = %d\" % (a, b, a + b))\n",
        "    elif (ch ==\"-\"):\n",
        "        print(\"%d + %d = %d\" % (a, b, a - b))\n",
        "    elif (ch ==\"*\"):\n",
        "        print(\"%d * %d = %d\" % (a, b, a * b))\n",
        "    elif (ch ==\"/\"):\n",
        "        print(\"%d / %d = %d\" % (a, b, a / b))\n",
        "    elif (ch ==\"%\"):\n",
        "        print(\"%d %% %d = %d\" % (a, b, a % b))\n",
        "    elif (ch ==\"//\"):\n",
        "        print(\"%d // %d = %d\" % (a, b, a // b))\n",
        "    elif (ch ==\"**\"):\n",
        "        print(\"%d ** %d = %d\" % (a, b, a ** b))\n",
        "    else:\n",
        "        print(\"연산자를 잘못 입력했습니다.\")"
      ],
      "execution_count": null,
      "outputs": []
    },
    {
      "cell_type": "markdown",
      "metadata": {
        "id": "1eMK4QHWWYiS"
      },
      "source": [
        "#SECTION 05. break문과 continue문"
      ]
    },
    {
      "cell_type": "code",
      "metadata": {
        "id": "ZGtENiTRWZOl"
      },
      "source": [
        "hap = 0\n",
        "a, b = 0, 0\n",
        "\n",
        "while True:\n",
        "    a = int(input(\"더할 첫 번째 수를 입력하세요 : \"))\n",
        "    if a == 0:\n",
        "        break\n",
        "    b = int(input(\"더할 두 번째 수를 입력하세요 : \"))\n",
        "    hap = a + b\n",
        "    print(\"%d + %d = %d\" % (a, b, hap))\n",
        "\n",
        "print(\"0을 입력해 반복문을 탈출했습니다.\")"
      ],
      "execution_count": null,
      "outputs": []
    },
    {
      "cell_type": "code",
      "metadata": {
        "id": "eHj5ZWnQWZYb"
      },
      "source": [
        "# SELF STUDY 6-6\n",
        "\n",
        "hap = 0\n",
        "a, b = 0, 0\n",
        "\n",
        "while True:\n",
        "    a = input(\"더할 첫 번째 수를 입력하세요 : \")\n",
        "    if a == '$':\n",
        "        break\n",
        "    else:\n",
        "        a = int(a)\n",
        "    b = int(input(\"더할 두 번째 수를 입력하세요 : \"))\n",
        "    hap = a + b\n",
        "    print(\"%d + %d = %d\" % (a, b, hap))\n",
        "\n",
        "print(\"$을 입력해 반복문을 탈출했습니다.\")"
      ],
      "execution_count": null,
      "outputs": []
    },
    {
      "cell_type": "code",
      "metadata": {
        "id": "7MRUfVTNWUa_"
      },
      "source": [
        "# for문 \n",
        "hap, i = 0, 0\n",
        "\n",
        "for i in range(1, 101):\n",
        "    hap += i\n",
        "    \n",
        "    if hap >= 1000:\n",
        "        break\n",
        "\n",
        "print(\"1~100의 합계를 최초로 1000이 넘게 하는 숫자 : %d\" % i)"
      ],
      "execution_count": null,
      "outputs": []
    },
    {
      "cell_type": "code",
      "metadata": {
        "id": "rOf6bAx0k9yP"
      },
      "source": [
        "# while문\n",
        "\n",
        "hap, i = 0, 0\n",
        "\n",
        "while True :\n",
        "    i += 1\n",
        "    hap = hap + i\n",
        "    \n",
        "    # print(i, hap)\n",
        "\n",
        "    if hap >= 1000:\n",
        "        break\n",
        "\n",
        "print(\"1~100의 합계를 최초로 1000이 넘게 하는 숫자 : %d\" % i)"
      ],
      "execution_count": null,
      "outputs": []
    },
    {
      "cell_type": "code",
      "metadata": {
        "id": "pOK4DRMvllrQ"
      },
      "source": [
        "hap, i = 0, 0\n",
        "\n",
        "for i in range(1, 101) :\n",
        "    if i % 3 == 0:\n",
        "        continue\n",
        "\n",
        "    hap += i\n",
        "\n",
        "print(\"1~100의 합계(3의 배수 제외) : %d\" % hap)"
      ],
      "execution_count": null,
      "outputs": []
    },
    {
      "cell_type": "code",
      "metadata": {
        "id": "d_sH_N-ZmUO-"
      },
      "source": [
        "print('\\u2605')"
      ],
      "execution_count": null,
      "outputs": []
    },
    {
      "cell_type": "code",
      "metadata": {
        "id": "KqCLTjIzm2hY"
      },
      "source": [
        "## 전역 변수 선언 부분 ##\n",
        "i, k = 0,0\n",
        "\n",
        "## 메인 코드 부분 ##\n",
        "i = 0\n",
        "while i < 9:\n",
        "    if i < 5:\n",
        "        k = 0\n",
        "        while k < 4 - i:\n",
        "            print('   ', end = '')\n",
        "            k += 1\n",
        "        k = 0\n",
        "        while k < i *2 + 1:\n",
        "            print('\\u2605', end = '')\n",
        "            k += 1\n",
        "        else:\n",
        "            k = 0\n",
        "            while k < i - 4:\n",
        "                print(' ', end ='')\n",
        "                k += 1\n",
        "            k = 0\n",
        "            while k < (9 - i) * 2 - 1:\n",
        "                print('\\u2605', end = '')\n",
        "                k += 1\n",
        "        print()\n",
        "        i += 1"
      ],
      "execution_count": null,
      "outputs": []
    }
  ]
}