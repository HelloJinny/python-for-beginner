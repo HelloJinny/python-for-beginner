{
  "nbformat": 4,
  "nbformat_minor": 0,
  "metadata": {
    "colab": {
      "name": "Chapter08.ipynb",
      "provenance": [],
      "collapsed_sections": [],
      "authorship_tag": "ABX9TyMamkWMFGFcZWO1eJkAQ5FF",
      "include_colab_link": true
    },
    "kernelspec": {
      "name": "python3",
      "display_name": "Python 3"
    },
    "language_info": {
      "name": "python"
    }
  },
  "cells": [
    {
      "cell_type": "markdown",
      "metadata": {
        "id": "view-in-github",
        "colab_type": "text"
      },
      "source": [
        "<a href=\"https://colab.research.google.com/github/HelloJinny/python-for-beginner/blob/master/Chapter08.ipynb\" target=\"_parent\"><img src=\"https://colab.research.google.com/assets/colab-badge.svg\" alt=\"Open In Colab\"/></a>"
      ]
    },
    {
      "cell_type": "markdown",
      "metadata": {
        "id": "TeWEbTC8WA54"
      },
      "source": [
        "# SECTION02. 문자열 기본"
      ]
    },
    {
      "cell_type": "markdown",
      "metadata": {
        "id": "K22_6uA4VqgY"
      },
      "source": [
        "### 1. 문자열의 개념\n",
        "- 문자열은 큰따옴표나 작은따옴표로 묶어서 만든다.\n",
        "- 리스트와 비슷하게 처리할 수 있다.\n",
        "- 연결은 더하기 (+), 반복은 곱하기 (*)\n",
        "- len() 함수는 리스트나 문자열의 개수를 셀 때 자주 사용"
      ]
    },
    {
      "cell_type": "code",
      "metadata": {
        "colab": {
          "base_uri": "https://localhost:8080/"
        },
        "id": "qJ2hm13YVsmo",
        "outputId": "aec9eb26-2dea-4603-e927-ae4e0919200e"
      },
      "source": [
        "# Code 08-01\n",
        "ss = '파이썬짱!'\n",
        "\n",
        "sslen = len(ss)\n",
        "for i in range(0, sslen) :\n",
        "     print(ss[i] + '$', end = '')"
      ],
      "execution_count": 1,
      "outputs": [
        {
          "output_type": "stream",
          "text": [
            "파$이$썬$짱$!$"
          ],
          "name": "stdout"
        }
      ]
    },
    {
      "cell_type": "code",
      "metadata": {
        "colab": {
          "base_uri": "https://localhost:8080/"
        },
        "id": "h9l91dd0W0_p",
        "outputId": "f46b6a21-2fc5-448e-b9b7-d8887b9cf7fb"
      },
      "source": [
        "# SELF STUDY 8-1\n",
        "ss = '파이썬은완전재미있어요'\n",
        "\n",
        "sslen = len(ss)\n",
        "for i in range(0, sslen) :\n",
        "    if (i % 2 == 0):\n",
        "        print(ss[i], end = '')\n",
        "    else:\n",
        "        print('#', end = '')"
      ],
      "execution_count": 9,
      "outputs": [
        {
          "output_type": "stream",
          "text": [
            "파#썬#완#재#있#요"
          ],
          "name": "stdout"
        }
      ]
    },
    {
      "cell_type": "markdown",
      "metadata": {
        "id": "-9miwO3iVrjI"
      },
      "source": [
        "### [프로그램1] 문자열을 입력받아 이를 반대로 출력하는 프로그램"
      ]
    },
    {
      "cell_type": "code",
      "metadata": {
        "colab": {
          "base_uri": "https://localhost:8080/"
        },
        "id": "qXZ2kkz4Vfgi",
        "outputId": "d975b83b-7da4-499e-8fd2-ff58d5bb43ee"
      },
      "source": [
        "# Code 08-02\n",
        "## 변수 선언 부분 ##\n",
        "inStr, outStr = \"\", \"\"\n",
        "count, i = 0, 0\n",
        "\n",
        "## 메인 코드 부분 ##\n",
        "inStr = input(\"문자열을 입력하세요 : \")\n",
        "count = len(inStr)\n",
        "\n",
        "for i in range(0, count) :\n",
        "     outStr += inStr[count - (i + 1)]\n",
        "\n",
        "print(\"내용을 거꾸로 출력 --> %s\" % outStr)"
      ],
      "execution_count": 11,
      "outputs": [
        {
          "output_type": "stream",
          "text": [
            "문자열을 입력하세요 : 즐거운 Python 프로그래밍\n",
            "내용을 거꾸로 출력 --> 밍래그로프 nohtyP 운거즐\n"
          ],
          "name": "stdout"
        }
      ]
    },
    {
      "cell_type": "markdown",
      "metadata": {
        "id": "qhrcFAaiZY_Z"
      },
      "source": [
        "# SECTION03. 문자열 함수"
      ]
    },
    {
      "cell_type": "markdown",
      "metadata": {
        "id": "us2Mt_Ufj8bC"
      },
      "source": [
        "### 1. 문자열 함수의 사용\n",
        "- 대문자와 소문자 변환하기"
      ]
    },
    {
      "cell_type": "code",
      "metadata": {
        "colab": {
          "base_uri": "https://localhost:8080/"
        },
        "id": "6ITrSNvjZeM5",
        "outputId": "edb6732c-5806-4f4b-d884-011be395582d"
      },
      "source": [
        "ss = 'Python is Easy. 그래서 programming이 재미있습니다. ^^'\n",
        "print(ss.upper())\n",
        "print(ss.lower())\n",
        "print(ss.swapcase())\n",
        "print(ss.title())"
      ],
      "execution_count": 13,
      "outputs": [
        {
          "output_type": "stream",
          "text": [
            "PYTHON IS EASY. 그래서 PROGRAMMING이 재미있습니다. ^^\n",
            "python is easy. 그래서 programming이 재미있습니다. ^^\n",
            "pYTHON IS eASY. 그래서 PROGRAMMING이 재미있습니다. ^^\n",
            "Python Is Easy. 그래서 Programming이 재미있습니다. ^^\n"
          ],
          "name": "stdout"
        }
      ]
    },
    {
      "cell_type": "markdown",
      "metadata": {
        "id": "H9ew8zeflK3i"
      },
      "source": [
        "- 문자열 찾기"
      ]
    },
    {
      "cell_type": "code",
      "metadata": {
        "colab": {
          "base_uri": "https://localhost:8080/"
        },
        "id": "yQ9TauRyZeS5",
        "outputId": "863c406b-12e4-4921-c5ea-a1b9740376e0"
      },
      "source": [
        "ss = '파이썬 공부는 즐겁습니다. 물론 모든 공부가 다 재미있지는 않죠. ^^'\n",
        "print(ss.count('공부'))\n",
        "print(ss.find('공부'), ss.rfind('공부'), ss.find('공부', 5), ss.find('없다'))\n",
        "print(ss.index('공부'), ss.rindex('공부'), ss.index('공부', 5))\n",
        "print(ss.startswith('파이썬'), ss.startswith('파이썬', 10), ss.endswith('^^'))"
      ],
      "execution_count": 14,
      "outputs": [
        {
          "output_type": "stream",
          "text": [
            "2\n",
            "4 21 21 -1\n",
            "4 21 21\n",
            "True False True\n"
          ],
          "name": "stdout"
        }
      ]
    },
    {
      "cell_type": "code",
      "metadata": {
        "colab": {
          "base_uri": "https://localhost:8080/"
        },
        "id": "PZF1XpKGlRQK",
        "outputId": "4493ef77-147b-416e-cd1e-ceb8569eaf33"
      },
      "source": [
        "# Code 08-03\n",
        "ss = input(\"입력 문자열 ==> \")\n",
        "print(\"출력 문자열 ==> \", end = '')\n",
        "\n",
        "if ss.startswith('(') == False :\n",
        "     print(\"(\", end = '')\n",
        "\n",
        "print(ss, end = '')\n",
        "\n",
        "if ss.endswith(')') == False :\n",
        "     print(\")\", end = '')"
      ],
      "execution_count": 15,
      "outputs": [
        {
          "output_type": "stream",
          "text": [
            "입력 문자열 ==> 파이썬 열공 중~~~\n",
            "출력 문자열 ==> (파이썬 열공 중~~~)"
          ],
          "name": "stdout"
        }
      ]
    },
    {
      "cell_type": "markdown",
      "metadata": {
        "id": "pl9B8rbnlQvd"
      },
      "source": [
        "- 문자열 공백 삭제 · 변경하기"
      ]
    },
    {
      "cell_type": "code",
      "metadata": {
        "colab": {
          "base_uri": "https://localhost:8080/"
        },
        "id": "FrfKT1CRlh1J",
        "outputId": "227da5d9-b951-4d25-ffe0-63b5542db152"
      },
      "source": [
        "ss = '    파   이   썬    '\n",
        "print(ss.strip())\n",
        "print(ss.rstrip())\n",
        "print(ss.lstrip())"
      ],
      "execution_count": 17,
      "outputs": [
        {
          "output_type": "stream",
          "text": [
            "파  이  썬\n",
            "   파  이  썬\n",
            "파  이  썬   \n"
          ],
          "name": "stdout"
        }
      ]
    },
    {
      "cell_type": "code",
      "metadata": {
        "colab": {
          "base_uri": "https://localhost:8080/"
        },
        "id": "gpdfZ0r-rOu7",
        "outputId": "bf2a08bc-b146-4f45-b767-2f4e7e7d37c8"
      },
      "source": [
        "ss = '----파---이---썬----'\n",
        "print(ss.strip('-'))\n",
        "ss = '<<<파 << 이 >> 썬>>>'\n",
        "print(ss.strip('<>'))"
      ],
      "execution_count": 18,
      "outputs": [
        {
          "output_type": "stream",
          "text": [
            "파---이---썬\n",
            "파 << 이 >> 썬\n"
          ],
          "name": "stdout"
        }
      ]
    },
    {
      "cell_type": "code",
      "metadata": {
        "colab": {
          "base_uri": "https://localhost:8080/"
        },
        "id": "pMe4-CIprPL6",
        "outputId": "333f9e27-9905-430f-eb93-a21b37fb7377"
      },
      "source": [
        "# Code 08-04\n",
        "inStr = \"   한글 Python 프로그래밍   \"\n",
        "outStr = \"\"\n",
        "\n",
        "for i in range(0, len(inStr)) :\n",
        "     if inStr[i] != ' ' :\n",
        "          outStr += inStr[i]\n",
        "\n",
        "print(\"원래 문자열 ==> \" + '[' + inStr + ']')\n",
        "print(\"공백 삭제 문자열 ==> \" + '[' + outStr + ']')"
      ],
      "execution_count": 19,
      "outputs": [
        {
          "output_type": "stream",
          "text": [
            "원래 문자열 ==> [   한글 Python 프로그래밍   ]\n",
            "공백 삭제 문자열 ==> [한글Python프로그래밍]\n"
          ],
          "name": "stdout"
        }
      ]
    },
    {
      "cell_type": "code",
      "metadata": {
        "colab": {
          "base_uri": "https://localhost:8080/"
        },
        "id": "tUxz7nqOrPdK",
        "outputId": "fe4b92b7-66a3-43fd-8b4a-f3bfd3d5c0ed"
      },
      "source": [
        "# SELF STUDY 8-2\n",
        "inStr = \"<<<파<<이>>썬>>>\"\n",
        "outStr = \"\"\n",
        "\n",
        "for i in range(0, len(inStr)) :\n",
        "     if (inStr[i] != '<') and inStr[i] != '>':\n",
        "          outStr += inStr[i]\n",
        "\n",
        "print(\"원래 문자열 ==> \" + '[' + inStr + ']')\n",
        "print(\"특정 문자 삭제 문자열 ==> \" + '[' + outStr + ']')"
      ],
      "execution_count": 22,
      "outputs": [
        {
          "output_type": "stream",
          "text": [
            "원래 문자열 ==> [<<<파<<이>>썬>>>]\n",
            "특정 문자 삭제 문자열 ==> [파이썬]\n"
          ],
          "name": "stdout"
        }
      ]
    },
    {
      "cell_type": "code",
      "metadata": {
        "colab": {
          "base_uri": "https://localhost:8080/"
        },
        "id": "Py-tUotJrPq5",
        "outputId": "13614780-6d7f-464e-8272-ca58b01e198d"
      },
      "source": [
        "ss = '열심히 파이썬 공부 중~~'\n",
        "print(ss.replace('파이썬', 'Python'))"
      ],
      "execution_count": 24,
      "outputs": [
        {
          "output_type": "stream",
          "text": [
            "열심히 Python 공부 중~~\n"
          ],
          "name": "stdout"
        }
      ]
    },
    {
      "cell_type": "code",
      "metadata": {
        "colab": {
          "base_uri": "https://localhost:8080/"
        },
        "id": "TCsd__ihuHM7",
        "outputId": "e0bd1221-8136-49ce-9dc6-e74e78b1dcc3"
      },
      "source": [
        "# Code 08-05\n",
        "ss = input(\"입력 문자열 ==> \")\n",
        "\n",
        "print(\"출력 문자열 ==> \", end = '')\n",
        "for i in range(0, len(ss)) :\n",
        "     if ss[i] != 'o' :\n",
        "          print(ss[i], end = '')\n",
        "     else :\n",
        "          print('$', end = '')"
      ],
      "execution_count": 25,
      "outputs": [
        {
          "output_type": "stream",
          "text": [
            "입력 문자열 ==> Python for Beginner\n",
            "출력 문자열 ==> Pyth$n f$r Beginner"
          ],
          "name": "stdout"
        }
      ]
    },
    {
      "cell_type": "markdown",
      "metadata": {
        "id": "JEtoZLMylM4S"
      },
      "source": [
        "- 문자열 분리 · 결합하기"
      ]
    },
    {
      "cell_type": "code",
      "metadata": {
        "colab": {
          "base_uri": "https://localhost:8080/"
        },
        "id": "3iKtKr1QZeVw",
        "outputId": "9cffbcf0-2fcb-4593-ab34-1a29eb9df189"
      },
      "source": [
        "ss = 'Python을 열심히 공부 중'\n",
        "print(ss.split())\n",
        "\n",
        "ss = '하나:둘:셋'\n",
        "print(ss.split(':'))\n",
        "\n",
        "ss ='하나\\n둘\\n셋'\n",
        "print(ss.splitlines())\n",
        "\n",
        "ss = '%'\n",
        "print(ss.join('파이썬'))"
      ],
      "execution_count": 26,
      "outputs": [
        {
          "output_type": "stream",
          "text": [
            "['Python을', '열심히', '공부', '중']\n",
            "['하나', '둘', '셋']\n",
            "['하나', '둘', '셋']\n",
            "파%이%썬\n"
          ],
          "name": "stdout"
        }
      ]
    },
    {
      "cell_type": "code",
      "metadata": {
        "colab": {
          "base_uri": "https://localhost:8080/"
        },
        "id": "DgQEwHxxZeYi",
        "outputId": "f3e1419b-07fb-42e4-a0cd-0443cf754ea8"
      },
      "source": [
        "# Code 08-06\n",
        "ss = input(\"날짜(연/월/일) 입력 ==> \")\n",
        "\n",
        "ssList = ss.split('/')\n",
        "\n",
        "print(\"입력한 날짜의 10년 후 ==> \", end = '')\n",
        "print(str(int(ssList[0]) + 10) + \"년\", end = '')\n",
        "print(ssList[1] + \"월\", end = '')\n",
        "print(ssList[2] + \"일\")"
      ],
      "execution_count": 27,
      "outputs": [
        {
          "output_type": "stream",
          "text": [
            "날짜(연/월/일) 입력 ==> 2019/12/31\n",
            "입력한 날짜의 10년 후 ==> 2029년12월31일\n"
          ],
          "name": "stdout"
        }
      ]
    },
    {
      "cell_type": "markdown",
      "metadata": {
        "id": "9Tr9MvCcwiVl"
      },
      "source": [
        "- 함수명에 대입하기기"
      ]
    },
    {
      "cell_type": "code",
      "metadata": {
        "colab": {
          "base_uri": "https://localhost:8080/"
        },
        "id": "1S0uHZ9KxjaK",
        "outputId": "bff61b30-97f0-4797-fcbf-6cf51e12cf36"
      },
      "source": [
        "before = ['2019', '12', '31']\n",
        "after = list(map(int, before))\n",
        "after"
      ],
      "execution_count": 28,
      "outputs": [
        {
          "output_type": "execute_result",
          "data": {
            "text/plain": [
              "[2019, 12, 31]"
            ]
          },
          "metadata": {
            "tags": []
          },
          "execution_count": 28
        }
      ]
    },
    {
      "cell_type": "markdown",
      "metadata": {
        "id": "NsO3-1VmytHk"
      },
      "source": [
        "- 문자열 정렬하기, 채우기"
      ]
    },
    {
      "cell_type": "code",
      "metadata": {
        "colab": {
          "base_uri": "https://localhost:8080/"
        },
        "id": "pN5pW2wCZea_",
        "outputId": "2a948d10-3f1a-475f-fedb-34cffdd1a8f5"
      },
      "source": [
        "ss = '파이썬'\n",
        "print(ss.center(10))\n",
        "print(ss.center(10, '-'))\n",
        "print(ss.ljust(10))\n",
        "print(ss.rjust(10))\n",
        "print(ss.zfill(10))"
      ],
      "execution_count": 29,
      "outputs": [
        {
          "output_type": "stream",
          "text": [
            "   파이썬    \n",
            "---파이썬----\n",
            "파이썬       \n",
            "       파이썬\n",
            "0000000파이썬\n"
          ],
          "name": "stdout"
        }
      ]
    },
    {
      "cell_type": "markdown",
      "metadata": {
        "id": "4Tu1ZnOuzAFD"
      },
      "source": [
        "- 문자열 구성 파악하기"
      ]
    },
    {
      "cell_type": "code",
      "metadata": {
        "colab": {
          "base_uri": "https://localhost:8080/"
        },
        "id": "oh6TqXplZedw",
        "outputId": "e465cd6d-3e7a-49f0-ca7b-86de63f8b2a3"
      },
      "source": [
        "print('1234'.isdigit())\n",
        "print('abcd'.isalpha())\n",
        "print('abcd1234'.isalnum())\n",
        "print('abcd'.islower())\n",
        "print('ABCD'.isupper())\n",
        "print('   '.isspace())"
      ],
      "execution_count": 32,
      "outputs": [
        {
          "output_type": "stream",
          "text": [
            "True\n",
            "True\n",
            "True\n",
            "True\n",
            "True\n",
            "True\n"
          ],
          "name": "stdout"
        }
      ]
    },
    {
      "cell_type": "code",
      "metadata": {
        "colab": {
          "base_uri": "https://localhost:8080/"
        },
        "id": "bFJO4uaXZegh",
        "outputId": "1743b5da-98b4-4f29-df81-c07c48a5b6fb"
      },
      "source": [
        "# SELF STUDY 8-3\n",
        "ss = input(\"문자열 입력 : \")\n",
        "\n",
        "if ss.isalpha():\n",
        "    print('글자입니다.')\n",
        "elif ss.isdigit():\n",
        "    print('숫자입니다.')\n",
        "elif ss.isalnum():\n",
        "    print('글자+숫자입니다.')\n",
        "else:\n",
        "    print('모르겠습니다.')"
      ],
      "execution_count": 41,
      "outputs": [
        {
          "output_type": "stream",
          "text": [
            "문자열 입력 : *\n",
            "모르겠습니다.\n"
          ],
          "name": "stdout"
        }
      ]
    }
  ]
}