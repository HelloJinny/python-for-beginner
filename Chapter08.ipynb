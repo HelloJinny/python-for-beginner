{
  "nbformat": 4,
  "nbformat_minor": 0,
  "metadata": {
    "colab": {
      "name": "Chapter08.ipynb",
      "private_outputs": true,
      "provenance": [],
      "collapsed_sections": [],
      "authorship_tag": "ABX9TyMamkWMFGFcZWO1eJkAQ5FF",
      "include_colab_link": true
    },
    "kernelspec": {
      "name": "python3",
      "display_name": "Python 3"
    },
    "language_info": {
      "name": "python"
    }
  },
  "cells": [
    {
      "cell_type": "markdown",
      "metadata": {
        "id": "view-in-github",
        "colab_type": "text"
      },
      "source": [
        "<a href=\"https://colab.research.google.com/github/HelloJinny/python-for-beginner/blob/master/Chapter08.ipynb\" target=\"_parent\"><img src=\"https://colab.research.google.com/assets/colab-badge.svg\" alt=\"Open In Colab\"/></a>"
      ]
    },
    {
      "cell_type": "markdown",
      "metadata": {
        "id": "TeWEbTC8WA54"
      },
      "source": [
        "# SECTION02. 문자열 기본"
      ]
    },
    {
      "cell_type": "markdown",
      "metadata": {
        "id": "K22_6uA4VqgY"
      },
      "source": [
        "### 1. 문자열의 개념\n",
        "- 문자열은 큰따옴표나 작은따옴표로 묶어서 만든다.\n",
        "- 리스트와 비슷하게 처리할 수 있다.\n",
        "- 연결은 더하기 (+), 반복은 곱하기 (*)\n",
        "- len() 함수는 리스트나 문자열의 개수를 셀 때 자주 사용"
      ]
    },
    {
      "cell_type": "code",
      "metadata": {
        "id": "qJ2hm13YVsmo"
      },
      "source": [
        "# Code 08-01\n",
        "ss = '파이썬짱!'\n",
        "\n",
        "sslen = len(ss)\n",
        "for i in range(0, sslen) :\n",
        "     print(ss[i] + '$', end = '')"
      ],
      "execution_count": null,
      "outputs": []
    },
    {
      "cell_type": "code",
      "metadata": {
        "id": "h9l91dd0W0_p"
      },
      "source": [
        "# SELF STUDY 8-1\n",
        "ss = '파이썬은완전재미있어요'\n",
        "\n",
        "sslen = len(ss)\n",
        "for i in range(0, sslen) :\n",
        "    if (i % 2 == 0):\n",
        "        print(ss[i], end = '')\n",
        "    else:\n",
        "        print('#', end = '')"
      ],
      "execution_count": null,
      "outputs": []
    },
    {
      "cell_type": "markdown",
      "metadata": {
        "id": "-9miwO3iVrjI"
      },
      "source": [
        "### [프로그램1] 문자열을 입력받아 이를 반대로 출력하는 프로그램"
      ]
    },
    {
      "cell_type": "code",
      "metadata": {
        "id": "qXZ2kkz4Vfgi"
      },
      "source": [
        "# Code 08-02\n",
        "## 변수 선언 부분 ##\n",
        "inStr, outStr = \"\", \"\"\n",
        "count, i = 0, 0\n",
        "\n",
        "## 메인 코드 부분 ##\n",
        "inStr = input(\"문자열을 입력하세요 : \")\n",
        "count = len(inStr)\n",
        "\n",
        "for i in range(0, count) :\n",
        "     outStr += inStr[count - (i + 1)]\n",
        "\n",
        "print(\"내용을 거꾸로 출력 --> %s\" % outStr)"
      ],
      "execution_count": null,
      "outputs": []
    },
    {
      "cell_type": "markdown",
      "metadata": {
        "id": "qhrcFAaiZY_Z"
      },
      "source": [
        "# SECTION03. 문자열 함수"
      ]
    },
    {
      "cell_type": "markdown",
      "metadata": {
        "id": "us2Mt_Ufj8bC"
      },
      "source": [
        "### 1. 문자열 함수의 사용\n",
        "- 대문자와 소문자 변환하기"
      ]
    },
    {
      "cell_type": "code",
      "metadata": {
        "id": "6ITrSNvjZeM5"
      },
      "source": [
        "ss = 'Python is Easy. 그래서 programming이 재미있습니다. ^^'\n",
        "print(ss.upper())\n",
        "print(ss.lower())\n",
        "print(ss.swapcase())\n",
        "print(ss.title())"
      ],
      "execution_count": null,
      "outputs": []
    },
    {
      "cell_type": "markdown",
      "metadata": {
        "id": "H9ew8zeflK3i"
      },
      "source": [
        "- 문자열 찾기"
      ]
    },
    {
      "cell_type": "code",
      "metadata": {
        "id": "yQ9TauRyZeS5"
      },
      "source": [
        "ss = '파이썬 공부는 즐겁습니다. 물론 모든 공부가 다 재미있지는 않죠. ^^'\n",
        "print(ss.count('공부'))\n",
        "print(ss.find('공부'), ss.rfind('공부'), ss.find('공부', 5), ss.find('없다'))\n",
        "print(ss.index('공부'), ss.rindex('공부'), ss.index('공부', 5))\n",
        "print(ss.startswith('파이썬'), ss.startswith('파이썬', 10), ss.endswith('^^'))"
      ],
      "execution_count": null,
      "outputs": []
    },
    {
      "cell_type": "code",
      "metadata": {
        "id": "PZF1XpKGlRQK"
      },
      "source": [
        "# Code 08-03\n",
        "ss = input(\"입력 문자열 ==> \")\n",
        "print(\"출력 문자열 ==> \", end = '')\n",
        "\n",
        "if ss.startswith('(') == False :\n",
        "     print(\"(\", end = '')\n",
        "\n",
        "print(ss, end = '')\n",
        "\n",
        "if ss.endswith(')') == False :\n",
        "     print(\")\", end = '')"
      ],
      "execution_count": null,
      "outputs": []
    },
    {
      "cell_type": "markdown",
      "metadata": {
        "id": "pl9B8rbnlQvd"
      },
      "source": [
        "- 문자열 공백 삭제 · 변경하기"
      ]
    },
    {
      "cell_type": "code",
      "metadata": {
        "id": "FrfKT1CRlh1J"
      },
      "source": [
        "ss = '    파   이   썬    '\n",
        "print(ss.strip())\n",
        "print(ss.rstrip())\n",
        "print(ss.lstrip())"
      ],
      "execution_count": null,
      "outputs": []
    },
    {
      "cell_type": "code",
      "metadata": {
        "id": "gpdfZ0r-rOu7"
      },
      "source": [
        "ss = '----파---이---썬----'\n",
        "print(ss.strip('-'))\n",
        "ss = '<<<파 << 이 >> 썬>>>'\n",
        "print(ss.strip('<>'))"
      ],
      "execution_count": null,
      "outputs": []
    },
    {
      "cell_type": "code",
      "metadata": {
        "id": "pMe4-CIprPL6"
      },
      "source": [
        "# Code 08-04\n",
        "inStr = \"   한글 Python 프로그래밍   \"\n",
        "outStr = \"\"\n",
        "\n",
        "for i in range(0, len(inStr)) :\n",
        "     if inStr[i] != ' ' :\n",
        "          outStr += inStr[i]\n",
        "\n",
        "print(\"원래 문자열 ==> \" + '[' + inStr + ']')\n",
        "print(\"공백 삭제 문자열 ==> \" + '[' + outStr + ']')"
      ],
      "execution_count": null,
      "outputs": []
    },
    {
      "cell_type": "code",
      "metadata": {
        "id": "tUxz7nqOrPdK"
      },
      "source": [
        "# SELF STUDY 8-2\n",
        "inStr = \"<<<파<<이>>썬>>>\"\n",
        "outStr = \"\"\n",
        "\n",
        "for i in range(0, len(inStr)) :\n",
        "     if (inStr[i] != '<') and inStr[i] != '>':\n",
        "          outStr += inStr[i]\n",
        "\n",
        "print(\"원래 문자열 ==> \" + '[' + inStr + ']')\n",
        "print(\"특정 문자 삭제 문자열 ==> \" + '[' + outStr + ']')"
      ],
      "execution_count": null,
      "outputs": []
    },
    {
      "cell_type": "code",
      "metadata": {
        "id": "Py-tUotJrPq5"
      },
      "source": [
        "ss = '열심히 파이썬 공부 중~~'\n",
        "print(ss.replace('파이썬', 'Python'))"
      ],
      "execution_count": null,
      "outputs": []
    },
    {
      "cell_type": "code",
      "metadata": {
        "id": "TCsd__ihuHM7"
      },
      "source": [
        "# Code 08-05\n",
        "ss = input(\"입력 문자열 ==> \")\n",
        "\n",
        "print(\"출력 문자열 ==> \", end = '')\n",
        "for i in range(0, len(ss)) :\n",
        "     if ss[i] != 'o' :\n",
        "          print(ss[i], end = '')\n",
        "     else :\n",
        "          print('$', end = '')"
      ],
      "execution_count": null,
      "outputs": []
    },
    {
      "cell_type": "markdown",
      "metadata": {
        "id": "JEtoZLMylM4S"
      },
      "source": [
        "- 문자열 분리 · 결합하기"
      ]
    },
    {
      "cell_type": "code",
      "metadata": {
        "id": "3iKtKr1QZeVw"
      },
      "source": [
        "ss = 'Python을 열심히 공부 중'\n",
        "print(ss.split())\n",
        "\n",
        "ss = '하나:둘:셋'\n",
        "print(ss.split(':'))\n",
        "\n",
        "ss ='하나\\n둘\\n셋'\n",
        "print(ss.splitlines())\n",
        "\n",
        "ss = '%'\n",
        "print(ss.join('파이썬'))"
      ],
      "execution_count": null,
      "outputs": []
    },
    {
      "cell_type": "code",
      "metadata": {
        "id": "DgQEwHxxZeYi"
      },
      "source": [
        "# Code 08-06\n",
        "ss = input(\"날짜(연/월/일) 입력 ==> \")\n",
        "\n",
        "ssList = ss.split('/')\n",
        "\n",
        "print(\"입력한 날짜의 10년 후 ==> \", end = '')\n",
        "print(str(int(ssList[0]) + 10) + \"년\", end = '')\n",
        "print(ssList[1] + \"월\", end = '')\n",
        "print(ssList[2] + \"일\")"
      ],
      "execution_count": null,
      "outputs": []
    },
    {
      "cell_type": "markdown",
      "metadata": {
        "id": "9Tr9MvCcwiVl"
      },
      "source": [
        "- 함수명에 대입하기기"
      ]
    },
    {
      "cell_type": "code",
      "metadata": {
        "id": "1S0uHZ9KxjaK"
      },
      "source": [
        "before = ['2019', '12', '31']\n",
        "after = list(map(int, before))\n",
        "after"
      ],
      "execution_count": null,
      "outputs": []
    },
    {
      "cell_type": "markdown",
      "metadata": {
        "id": "NsO3-1VmytHk"
      },
      "source": [
        "- 문자열 정렬하기, 채우기"
      ]
    },
    {
      "cell_type": "code",
      "metadata": {
        "id": "pN5pW2wCZea_"
      },
      "source": [
        "ss = '파이썬'\n",
        "print(ss.center(10))\n",
        "print(ss.center(10, '-'))\n",
        "print(ss.ljust(10))\n",
        "print(ss.rjust(10))\n",
        "print(ss.zfill(10))"
      ],
      "execution_count": null,
      "outputs": []
    },
    {
      "cell_type": "markdown",
      "metadata": {
        "id": "4Tu1ZnOuzAFD"
      },
      "source": [
        "- 문자열 구성 파악하기"
      ]
    },
    {
      "cell_type": "code",
      "metadata": {
        "id": "oh6TqXplZedw"
      },
      "source": [
        "print('1234'.isdigit())\n",
        "print('abcd'.isalpha())\n",
        "print('abcd1234'.isalnum())\n",
        "print('abcd'.islower())\n",
        "print('ABCD'.isupper())\n",
        "print('   '.isspace())"
      ],
      "execution_count": null,
      "outputs": []
    },
    {
      "cell_type": "code",
      "metadata": {
        "id": "bFJO4uaXZegh"
      },
      "source": [
        "# SELF STUDY 8-3\n",
        "ss = input(\"문자열 입력 : \")\n",
        "\n",
        "if ss.isalpha():\n",
        "    print('글자입니다.')\n",
        "elif ss.isdigit():\n",
        "    print('숫자입니다.')\n",
        "elif ss.isalnum():\n",
        "    print('글자+숫자입니다.')\n",
        "else:\n",
        "    print('모르겠습니다.')"
      ],
      "execution_count": null,
      "outputs": []
    }
  ]
}